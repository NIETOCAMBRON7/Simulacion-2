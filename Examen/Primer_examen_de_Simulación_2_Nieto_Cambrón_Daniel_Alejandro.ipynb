{
  "nbformat": 4,
  "nbformat_minor": 0,
  "metadata": {
    "colab": {
      "provenance": [],
      "authorship_tag": "ABX9TyO/eHDiGfMlXaMpnlMPk1My",
      "include_colab_link": true
    },
    "kernelspec": {
      "name": "python3",
      "display_name": "Python 3"
    },
    "language_info": {
      "name": "python"
    }
  },
  "cells": [
    {
      "cell_type": "markdown",
      "metadata": {
        "id": "view-in-github",
        "colab_type": "text"
      },
      "source": [
        "<a href=\"https://colab.research.google.com/github/NIETOCAMBRON7/Simulacion-2/blob/main/Examen/Primer_examen_de_Simulaci%C3%B3n_2_Nieto_Cambr%C3%B3n_Daniel_Alejandro.ipynb\" target=\"_parent\"><img src=\"https://colab.research.google.com/assets/colab-badge.svg\" alt=\"Open In Colab\"/></a>"
      ]
    },
    {
      "cell_type": "markdown",
      "source": [
        "#Alumno: Nieto Cambrón Daniel Alejandro\n",
        "## Boleta: 2015030917\n",
        "## Fecha: 07 de mayo de 2023\n",
        "### Primer Examen parcial: Simulación 1"
      ],
      "metadata": {
        "id": "uYZrM6O4_-p7"
      }
    },
    {
      "cell_type": "markdown",
      "source": [
        "#<font color='blue'>Ejercicio 1</font>\n",
        "\n",
        "Dos personas han quedado citas en un determinado lugar. Ambas tienen la misma\n",
        "probabilidad de llegar al lugar de la cita en el intervalo de tiempo [0, 30].\n",
        "Determínese la probabilidad de que el tiempo que una persona espere a la otra sea como máximo 10."
      ],
      "metadata": {
        "id": "pWJPzmSzf3g9"
      }
    },
    {
      "cell_type": "markdown",
      "source": [
        "### a) Resolver por simulación"
      ],
      "metadata": {
        "id": "Rrnxk_pTgMlM"
      }
    },
    {
      "cell_type": "markdown",
      "source": [
        "Podemos simular este problema generando dos números aleatorios entre 0 y 30 que representen los tiempos de llegada de las dos personas. Luego, podemos calcular la diferencia entre los tiempos de llegada y determinar si es menor o igual a 10. \n",
        "\n",
        "Este código genera un millón de simulaciones y cuenta el número de veces que la diferencia de tiempo es menor o igual a 10. Luego, divide el número de éxitos por el número total de simulaciones para obtener una estimación de la probabilidad. La salida del código puede variar un poco cada vez que se ejecuta.\n",
        "\n",
        "NOTA: La función **random.uniform()** se utiliza en el ejemplo para generar dos números aleatorios de punto flotante en el intervalo [0, 30] que representan los tiempos de llegada de las dos personas en el problema. Esto es porque la distribución de probabilidades de llegada de las personas en el intervalo [0, 30] se supone que es continua y uniforme, es decir, todas las llegadas son igualmente probables."
      ],
      "metadata": {
        "id": "NUO3qjnxhJ2k"
      }
    },
    {
      "cell_type": "code",
      "source": [
        "import random\n",
        "import matplotlib.pyplot as plt\n",
        "\n",
        "num_simulaciones = 1000000\n",
        "num_exitos = 0\n",
        "t1_list = []  # lista para almacenar los valores de t1 generados\n",
        "t2_list = []  # lista para almacenar los valores de t2 generados\n",
        "\n",
        "for i in range(num_simulaciones):\n",
        "    t1 = random.uniform(0, 30)\n",
        "    t2 = random.uniform(0, 30)\n",
        "    t1_list.append(t1)  # añadir t1 a la lista\n",
        "    t2_list.append(t2)  # añadir t2 a la lista\n",
        "    if abs(t2 - t1) <= 10:\n",
        "        num_exitos += 1\n",
        "\n",
        "probabilidad = num_exitos / num_simulaciones\n",
        "\n",
        "print(\"La probabilidad de que el tiempo que una persona espere a la otra sea como máximo 10 es: \", probabilidad)\n",
        "print()\n"
      ],
      "metadata": {
        "colab": {
          "base_uri": "https://localhost:8080/"
        },
        "id": "FiuRy7wngj_0",
        "outputId": "4c1c5ddf-b42c-4b77-ec7b-3be109a6acc9"
      },
      "execution_count": null,
      "outputs": [
        {
          "output_type": "stream",
          "name": "stdout",
          "text": [
            "La probabilidad de que el tiempo que una persona espere a la otra sea como máximo 10 es:  0.555861\n",
            "\n"
          ]
        }
      ]
    },
    {
      "cell_type": "markdown",
      "source": [
        "Como extra, se verificara que nuestros tiempos tomados, sigan una distribucion uniforme, es por ello que en el codigo anterior se decidio guardar los tiempos de llegada en dos listas, una para el tiempo de llegada de la persona 1 y la otra para los tiempos de llegada de la persona 2\n",
        "\n",
        " Mostrando los datos en un histograma como se muestra a continuacion:"
      ],
      "metadata": {
        "id": "aMV0tDORjlz9"
      }
    },
    {
      "cell_type": "code",
      "source": [
        "# crear histogramas de t1 y t2\n",
        "fig, axs = plt.subplots(1, 2, figsize=(10, 5))\n",
        "axs[0].hist(t1_list, bins=30)\n",
        "axs[0].set_title(\"Histograma de t1\")\n",
        "axs[1].hist(t2_list, bins=30)\n",
        "axs[1].set_title(\"Histograma de t2\")\n",
        "plt.show()\n"
      ],
      "metadata": {
        "colab": {
          "base_uri": "https://localhost:8080/",
          "height": 468
        },
        "id": "ZAste2ekjugN",
        "outputId": "1d9eda18-4b48-4f16-aef3-d7a413690e11"
      },
      "execution_count": null,
      "outputs": [
        {
          "output_type": "display_data",
          "data": {
            "text/plain": [
              "<Figure size 1000x500 with 2 Axes>"
            ],
            "image/png": "[encoded data removed]"
          },
          "metadata": {}
        }
      ]
    },
    {
      "cell_type": "markdown",
      "source": [
        "### b) Resolver Analíticamente"
      ],
      "metadata": {
        "id": "W9xxUtlhsRfd"
      }
    },
    {
      "cell_type": "markdown",
      "source": [
        "Sea $X$ la variable aleatoria que representa el tiempo de llegada de la primera persona, y sea $Y$ la variable aleatoria que representa el tiempo de llegada de la segunda persona. Como se supone que las llegadas son independientes y uniformemente distribuidas en el intervalo $[0,30]$, tenemos que:\n",
        "\n",
        "\n",
        "\n",
        "$$f_X(x) = \\begin{cases}\n",
        "\\frac{1}{30} & 0 \\leq x \\leq 30 \\\\\n",
        "0 & \\text{en otro caso}\n",
        "\\end{cases}$$\n",
        "\n",
        "\n",
        "y ademas:\n",
        "\n",
        "\n",
        "$$f_Y(y) = \\begin{cases}\n",
        "\\frac{1}{30} & 0 \\leq y \\leq 30 \\\\\n",
        "0 & \\text{en otro caso}\n",
        "\\end{cases}$$ \n",
        "\n",
        "\n",
        "Para calcular la probabilidad de que el tiempo que una persona espere a la otra sea como máximo de 10 minutos, necesitamos encontrar la probabilidad de que $|X-Y| \\leq 10$. Podemos hacer esto integrando la función conjunta de densidad de probabilidad de $X$ y $Y$ sobre la región en el plano $xy$ donde se cumple esta condición. Es decir:\n",
        "\n",
        "\n",
        "$$P(|X-Y| \\leq 10) = \\iint_{|x-y|\\leq10} f_{X,Y}(x,y) \\, dx\\, dy$$\n",
        "\n",
        "\n",
        "donde $f_{X,Y}(x,y)$ es la función conjunta de densidad de probabilidad de $X$ y $Y$.\n",
        "\n",
        "Como $X$, $Y$ son independientes, la función conjunta de densidad de probabilidad de $X$,$Y$ es simplemente el producto de sus funciones de densidad de probabilidad individuales. Por lo tanto:\n",
        "\n",
        "\n",
        "$$f_{X,Y}(x,y) = f_X(x) \\cdot f_Y(y) = \\frac{1}{30^2} \\qquad 0 \\leq x,y \\leq 30$$\n",
        "\n",
        "\n",
        "Entonces, podemos integrar esta función sobre la región en el plano $xy$ donde se cumple la condición $|x-y|\\leq 10$:\n",
        "\n",
        "Para poder entender esta parte, Realizamos un grafico que nos muestra nuestra condicion.\n",
        "\n",
        "La gráfica representa la región donde se cumple la condición de que el tiempo que una persona espera a la otra sea como máximo de 10 minutos. En el eje horizontal se encuentra el tiempo de llegada de la primera persona, mientras que en el eje vertical se encuentra el tiempo de llegada de la segunda persona.\n",
        "\n",
        "La línea roja representa la recta $y=x+10$, y la línea verde representa la recta $y=x-10$. La región sombreada corresponde a la región donde se cumple la condición $|X-Y| \\leq 10$, es decir, la región donde la diferencia entre los tiempos de llegada de ambas personas es menor o igual a 10 minutos.\n",
        "\n",
        "En otras palabras, si la primera persona llega en un tiempo $x$ y la segunda persona llega en un tiempo $y$, entonces la diferencia entre estos tiempos es $|X-Y|$. La región sombreada representa todos los puntos $(x,y)$ en los que $|X-Y|\\leq10$, lo que significa que si ambas personas llegan en tiempos dentro de esta región, entonces la persona que llegue primero no tendrá que esperar a la otra por más de 10 minutos.\n",
        "\n",
        "La región sombreada está limitada por las rectas $y=x+10$ y $y=x-10$. Cualquier punto por encima de la recta $y=x+10$ violaría la condición $|X-Y| \\leq 10$, ya que en este caso la diferencia entre los tiempos de llegada sería mayor a 10 minutos. De manera similar, cualquier punto por debajo de la recta $y=x-10$ también violaría la condición. Por lo tanto, la región sombreada se encuentra entre estas dos rectas."
      ],
      "metadata": {
        "id": "zz8HL3IRmJ51"
      }
    },
    {
      "cell_type": "code",
      "source": [
        "import matplotlib.pyplot as plt\n",
        "import numpy as np\n",
        "\n",
        "x = np.linspace(0, 30, 1000)   # Genera un arreglo de 1000 puntos equidistantes entre 0 y 30\n",
        "y1 = x + 10   # Ecuación de la recta y = x + 10\n",
        "y2 = x - 10   # Ecuación de la recta y = x - 10\n",
        "\n",
        "# Crea la figura y los ejes\n",
        "fig, ax = plt.subplots()\n",
        "\n",
        "# Grafica la región\n",
        "ax.fill_between(x, y1, y2, where=(y1>=y2), alpha=0.5)\n",
        "\n",
        "# Agrega las líneas rojas y verdes para establecer los limites visuales de las rectas dadas\n",
        "ax.plot(x, y1, 'r--')\n",
        "ax.plot(x, y2, 'g--')\n",
        "\n",
        "# Ajusta los límites de los ejes y los ticks\n",
        "ax.set_xlim(0, 30)\n",
        "ax.set_ylim(0, 30)\n",
        "ax.set_xticks(np.arange(0, 31, 5))\n",
        "ax.set_yticks(np.arange(0, 31, 5))\n",
        "\n",
        "# Agrega la cuadrícula en los ejes\n",
        "ax.grid(True)\n",
        "\n",
        "# Etiqueta los ejes\n",
        "ax.set_xlabel('Tiempo de llegada de la primera persona')\n",
        "ax.set_ylabel('Tiempo de llegada de la segunda persona')\n",
        "\n",
        "# Muestra la figura\n",
        "plt.show()\n"
      ],
      "metadata": {
        "colab": {
          "base_uri": "https://localhost:8080/",
          "height": 455
        },
        "id": "SbeCKAC_1zAm",
        "outputId": "e2f414e5-b437-493a-b68c-0dc247499adf"
      },
      "execution_count": null,
      "outputs": [
        {
          "output_type": "display_data",
          "data": {
            "text/plain": [
              "<Figure size 640x480 with 1 Axes>"
            ],
            "image/png": "[encoded data removed]"
          },
          "metadata": {}
        }
      ]
    },
    {
      "cell_type": "markdown",
      "source": [
        "Ahora bien debemos de considerar la siguiente:\n",
        "\n",
        "<font color='red'>NOTA: Es importante notar que la integral se debe resolver, respetando los limites marcados por esta figura, más aún, que $0 \\leq x,y \\leq 30$, ya que si no lo tomamos en consideracion, las rectas $y = x+10$, $y = x-10$, tienen dominio en todos los Reales, por lo que nuestro resultado sera erroneo, en caso de no considerarse. Un ejemplo claro de esto, podemos notarlo en la siguiente imagen: </font>\n",
        "\n",
        "[![Fig.1](https://cvws.icloud-content.com/B/AdaIjYBIZ09L2q36igrmtKxN6_wMAf5Vpjkd3t3js0S9YoxvJaMWzmiL/MATLAB1.png?o=AgTG14qE-2_iACqlUKjjIViIIQ2ragwsVt2GBtdn2U_8&v=1&x=3&a=CAogESvcLmvy7QlepwNGqyD2zZ1BbpkVcA4Wll8zGge9GDISbxDh4tin_zAY4b-0qf8wIgEAUgRN6_wMWgQWzmiLaifhT2V_eUCb3eTNBzKgOXq2vLO_k7B3dbkA02kB4I3EeR5OrGBXA6VyJ4FIAW_iJ0v8obfJJ5M8oYPwytN7_STR_GHtpxJksTT0d_giKgPfOg&e=1683445587&fl=&r=3b167ec5-fadb-49f9-a47e-56aad382c5f7-1&k=ibD1Skmsp3z2ByldUyK2yg&ckc=com.apple.clouddocs&ckz=com.apple.CloudDocs&p=137&s=VKY3HOjdSZv4D6t3dO7PhGlgJpo&cd=i)](https://drive.google.com/file/d/1FcX4L_jPA7o8pC-dWIZw6C8OOA_y8xbZ/view?usp=share_link)\n",
        "\n",
        "[Link](https://drive.google.com/file/d/1FcX4L_jPA7o8pC-dWIZw6C8OOA_y8xbZ/view?usp=share_link\").\n",
        "\n",
        "<font color='red'>donde notemos que el eje $x$ respeta el intervalo dado por $0 \\leq x \\leq 30$, mientras que el eje $y$ no lo respeta pues tambien sigue que: $0 \\leq y \\leq 30$ y en la imagen se muestra con $-10 \\leq y \\leq 40$, lo que hace que nuestro calculo tenga errores, y esto se debe a que las lineas de frontera dadas por $y = x \\pm 10$ esta definida de $-∞$ a $+\\infty$, por lo que se recalca, que debemos considerar correctamente las fronteras y limites de integración </font>"
      ],
      "metadata": {
        "id": "BqiPpYFXZA7J"
      }
    },
    {
      "cell_type": "markdown",
      "source": [
        "Siguiendo, tenemos que:\n",
        "\n",
        "\n",
        "$$P(|X-Y| \\leq 10) = \\iint_{|x-y|\\leq10} f_{X,Y}(x,y) \\, dx\\, dy$$\n",
        "\n",
        "así, basta calcular:\n",
        "\n",
        "$$\\iint_{|x-y|\\leq10} f_{X,Y}(x,y) \\, dx\\, dy $$ \n",
        "\n",
        "considerando: $0 \\leq x,y \\leq 30$\n",
        "\n",
        "\n",
        "$$= \\int_{0}^{10}\\int_{0}^{x+10} f_{X,Y}(x,y) \\, dy\\, dx  +  \\int_{10}^{20}\\int_{x-10}^{x+10} f_{X,Y}(x,y) \\, dy\\, dx  + \\int_{20}^{30}\\int_{x-10}^{30} f_{X,Y}(x,y) \\, dy\\, dx$$\n",
        "\n",
        "\n",
        "$$ = \\int_{0}^{10}\\int_{0}^{x+10} \\frac{1}{30^2} \\, dy\\, dx  +  \\int_{10}^{20}\\int_{x-10}^{x+10} \\frac{1}{30^2} \\, dy\\, dx  + \\int_{20}^{30}\\int_{x-10}^{30} \\frac{1}{30^2} \\, dy\\, dx  $$\n",
        "\n",
        "$$ = \\frac{1}{30^2}    \\left[\\int_{0}^{10}\\int_{0}^{x+10}  \\, dy\\, dx  +  \\int_{10}^{20}\\int_{x-10}^{x+10}  \\, dy\\, dx  + \\int_{20}^{30}\\int_{x-10}^{30}  \\, dy\\, dx\\right]$$\n",
        "\n",
        "\n",
        "\n",
        "La integral representa la probabilidad de que la diferencia absoluta entre $X$ y $Y$ sea menor o igual a 10. Primero, se establece la región de integración que satisface esta condición. Observando la desigualdad $|X-Y|\\leq 10$, se puede notar que es equivalente a $-10 \\leq X-Y \\leq 10$ o $Y-10 \\leq X \\leq Y+10$ y $X-10 \\leq Y \\leq X+10$. Esta región se puede visualizar como un rectángulo de base 20 y altura 20 con dos triángulos rectángulos de lados 10 en cada esquina que se superponen.\n",
        "\n",
        "La integral doble se utiliza para sumar las contribuciones de la densidad de probabilidad en toda la región de interés. La función de densidad conjunta es $f_{X,Y}(x,y) = \\frac{1}{30^2}$ para $(x,y)$ en la región rectangular $0\\leq x,y\\leq 30$. Dado que la función de densidad es constante, la integral doble se reduce a multiplicar el área de la región por el valor de la densidad en cualquier punto dentro de ella. En este caso, la región blanca es basicamente un cuadrado de base 20 y altura 20, por lo que su área es $20\\times 20 = 400$. Mientras que la region sobrante tiene un area de $900 - 400 = 500$ correspondiente al Area sombreada azul, \n",
        "\n",
        "Entonces, la probabilidad se puede calcular como ya se menciono:\n",
        "\n",
        "\n",
        "$$P(|X-Y| \\leq 10) = \\frac{1}{30^2} \\left[\\int_{0}^{10}\\int_{0}^{x+10}  \\, dy\\, dx  +  \\int_{10}^{20}\\int_{x-10}^{x+10}  \\, dy\\, dx  + \\int_{20}^{30}\\int_{x-10}^{30}  \\, dy\\, dx\\right] $$"
      ],
      "metadata": {
        "id": "j5NnGQrE6hx3"
      }
    },
    {
      "cell_type": "code",
      "source": [
        "import matplotlib.pyplot as plt\n",
        "import numpy as np\n",
        "from scipy.integrate import dblquad\n",
        "\n",
        "# Define la función a integrar en la región\n",
        "def integrand(x, y):\n",
        "    return 1/(30**2)\n",
        "\n",
        "# Define los límites de integración para la región\n",
        "def limits_x():\n",
        "    return [0, 10], [10, 20], [20, 30]\n",
        "\n",
        "def limits_y(x):\n",
        "    if x < 10:\n",
        "        return [0, x+10]\n",
        "    elif x < 20:\n",
        "        return [x-10, x+10]\n",
        "    else:\n",
        "        return [x-10, 30]\n",
        "\n",
        "# Calcular las integrales dobles\n",
        "VALOR_I, _ = dblquad(integrand, 0, 30, lambda x: limits_y(x)[0], lambda x: limits_y(x)[1])\n",
        "\n",
        "# El valor de la integral dada, se imprime\n",
        "print('El valor de la integral dada es: :', VALOR_I)\n",
        "\n"
      ],
      "metadata": {
        "colab": {
          "base_uri": "https://localhost:8080/"
        },
        "id": "xE0BNeIRV1LJ",
        "outputId": "aec7c507-2f9a-4489-b318-57e3298e2bc4"
      },
      "execution_count": null,
      "outputs": [
        {
          "output_type": "stream",
          "name": "stdout",
          "text": [
            "El valor de la integral dada es: : 0.5555555555555555\n"
          ]
        }
      ]
    },
    {
      "cell_type": "markdown",
      "source": [
        "Como se observa, la integral da como valor, la siguiente probabilidad:\n",
        "$$P(|X-Y| \\leq 10) = \\frac{500}{900} = \\frac{5}{9} = 0.5555$$\n",
        "Por lo tanto, la probabilidad de que el tiempo que una persona espere a la otra sea como máximo 10 minutos es $\\frac{5}{9} = 0.5555$.\n",
        "\n",
        "Lo cual coincide con el ejercicio resuelto por simulación, en el inciso anterior.\n",
        "\n",
        "Por otro lado, podemos hacer el ejercicio aún más simple; si simplemente consideramos visualmente el area marcada en la figura anterior, tenemos que el area completa es de $30 \\times 30 = 900$ y el area de los dos triangulos blancos que estan esquinados, como ya se dijo tiene un area de $400$, por lo que restando $900-400 = 500 $, lo que corresponde al area delimitada por las rectas roja y verde, por lo tanto, si decimos que todo el margen de  $30 \\times 30 = 900$ tiene una probabilidad de 1, entonces, para calcular la probabilidad que le corresponde al area azul, basta con decir:\n",
        "\n",
        "$$ P = \\frac{500}{900} = 0.555 $$\n",
        "\n",
        "Lo cual coincide con el ejercicio resuelto por simulación y de manera analitica, que se mostraron con anterioridad... $qed$"
      ],
      "metadata": {
        "id": "SBBGxKD5Vz9Z"
      }
    },
    {
      "cell_type": "markdown",
      "source": [
        "# <font color='blue'>Ejercicio 2</font>\n",
        "\n",
        "Un quiosquero vende periódicos a 1.10 euros cada uno. Cada periódico le cuesta al quiosquero 0.90 euros. Las ventas de periódicos del quiosquero a partir de su experiencia se refleja en la tabla siguiente.\n",
        "\n",
        "|Periodicos |30 |40 |50 |60 |70 |\n",
        "|-----------|---|---|---|---|---|\n",
        "| f(x)      |20%|25%|25%|20%|10%|\n",
        "\n",
        "La tabla recoge por ejemplo que el 20 % del tiempo las ventas han sido de 30 periódicos. Teniendo en cuenta el coste de 0,20 euros por venta perdida y el coste de 0,10 euros por el reciclaje de cada periódico no vendido, determine el beneficio promedio diario si pide 50 periódicos cada día."
      ],
      "metadata": {
        "id": "cwZXgUKnd2Wx"
      }
    },
    {
      "cell_type": "markdown",
      "source": [
        "### a) Resolver por simulación\n",
        "\n",
        "primero que nada definiremos nuestras variables como sigue la siguiente tabla:\n",
        "\n",
        "|Periodicos                  |   30   |     40    |     50    |    60   |  70  |\n",
        "|----------------------------|--------|-----------|-----------|---------|------|\n",
        "| f(x)                       |  20%   |   25%     |   25%     |   20%   |  10% |\n",
        "| $\\mathcal{f} (\\mathcal{x})$|  0.20  |   0.25    |   0.25    |   0.20  |  0.10|\n",
        "| $\\mathcal{F} (\\mathcal{x})$|0 - 0.19|0.20 - 0.44|0.45 - 0.69|0.70 - 0.89|0.90 - 1.00|\n",
        "\n",
        "A partir de esto definimos nuestra función: **num_periodicos_vendidos()**: la cual nos ayudara a definir aleatoriamente cuantos periodicos se venden al dia, simulando asi la venta diaria.\n"
      ],
      "metadata": {
        "id": "-rEY2ld4h3Ja"
      }
    },
    {
      "cell_type": "code",
      "source": [
        "import random\n",
        "def num_periodicos_vendidos():\n",
        "    num_aleatorio = random.random()\n",
        "    if num_aleatorio <= 0.20:\n",
        "        return 30,num_aleatorio\n",
        "    elif num_aleatorio <= 0.45:\n",
        "        return 40,num_aleatorio\n",
        "    elif num_aleatorio <= 0.70:\n",
        "        return 50,num_aleatorio\n",
        "    elif num_aleatorio <= 0.90:\n",
        "        return 60,num_aleatorio\n",
        "    else:\n",
        "        return 70,num_aleatorio"
      ],
      "metadata": {
        "id": "pB2aJTaH2rNk"
      },
      "execution_count": null,
      "outputs": []
    },
    {
      "cell_type": "markdown",
      "source": [
        "Bien, una vez definido lo anterior tenemos lo que sigue:\n",
        "crearemos la función **calcular_beneficio_diario(pedido,Dias_a_simular,Imprimir)**, a la cual le mandaremos 3 argumentos, siendo:\n",
        "\n",
        " **pedido**: Numero de periodicos que se encargan dia con dia, en este caso el problema nos hace definirlo en 50.\n",
        "\n",
        "**Dias_a_simular**: Sera la cantidad de días que deseamos simular la venta, en este caso, simularemos las ventas de un año\n",
        "\n",
        "**Imprimir**: Se mandara un 1 si deseamos visualizar los resultados de la tabla tales como: numero de Día, El numero aleatorio que se genero en la funcion pasada, el numero de ventas simuladas, las ventas reales, las ventas pedidas, los periodicos no vendidos, así como tambien el beneficio diario y el promedio.\n",
        "Y se mandara cualquier otro numero si no deseamos imprimir nada. Nos es muy util esta ultima ya que al momento de realizar el paso siguiente en el que tengamos que repetir la simulacion $n$ veces, pues unicamente nos interesara visualizar el factor promedio. "
      ],
      "metadata": {
        "id": "HKtaz3Og7im0"
      }
    },
    {
      "cell_type": "code",
      "source": [
        "def calcular_beneficio_diario(pedido,Dias_a_simular,Imprimir):\n",
        "    Beneficios_diarios = []\n",
        "    ventas_reales = 0\n",
        "    ventas_perdidas = 0\n",
        "    periodicos_no_vendidos = 0\n",
        "    for i in range(1, Dias_a_simular +1 ):\n",
        "        [num_ventas,aleatorio] = num_periodicos_vendidos()\n",
        "        if num_ventas > pedido:\n",
        "            ventas_reales = pedido\n",
        "            ventas_perdidas = num_ventas - pedido\n",
        "            periodicos_no_vendidos = 0\n",
        "        else:\n",
        "            ventas_reales = num_ventas\n",
        "            ventas_perdidas = 0\n",
        "            periodicos_no_vendidos = pedido - num_ventas\n",
        "        beneficio_diario = ventas_reales * 1.10 - pedido*0.90 - ventas_perdidas * 0.20 - periodicos_no_vendidos * 0.10\n",
        "        Beneficios_diarios.append(beneficio_diario)\n",
        "        if Imprimir == 1:\n",
        "          print(\"Dia:\", i, \"   Num. Aleatorio:\", round(aleatorio, 2), \"   Ventas Simuladas:\", num_ventas,\n",
        "                \"   Ventas Reales:\", ventas_reales, \"   Ventas Perdidas:\", ventas_perdidas,\n",
        "                \"   Periodicos No Vendidos:\", periodicos_no_vendidos, \"   Beneficio Diario:\", round(beneficio_diario, 2), \"   Beneficio Promedio:\", round(sum(Beneficios_diarios)/i))\n",
        "    \n",
        "    beneficio_promedio = sum(Beneficios_diarios) / Dias_a_simular\n",
        "\n",
        "    if Imprimir == 1:\n",
        "      print(\"El beneficio promedio diario es:\", round(beneficio_promedio, 2))\n",
        "    \n",
        "    return beneficio_promedio"
      ],
      "metadata": {
        "id": "HDKwURvkrmtb"
      },
      "execution_count": null,
      "outputs": []
    },
    {
      "cell_type": "markdown",
      "source": [
        "Realizaremos una simulacion de una unica ocasión, para verificar que los datos que arroja son los que deseamos segun las siguientes condiciones dadas por el problema y ya planificadas en la funcion anterior:\n",
        "\n",
        "\n",
        "***Si*** Ventas Simuladas $> $ Pedido $= 50$, Entonces:\n",
        "\n",
        "Ventas Reales $=$ Pedido $= 50$\n",
        "\n",
        "Ventas Perdidas $=$ Ventas Simuladas $-$ Pedido\n",
        "\n",
        "Periodicos NO Vendidos $=$ 0\n",
        "\n",
        "\n",
        "Por otro lado:\n",
        "\n",
        "\n",
        "***Si*** Ventas Simuladas $ \\leq$ Pedido $= 50$, Entonces:\n",
        "\n",
        "Ventas Perdidas $=$  0\n",
        "\n",
        "Periodicos NO Vendidos $=$ Pedido $-$ Ventas Reales\n",
        "\n",
        "Ventas Reales $=$ Ventas Simuladas\n",
        "\n",
        "Posterior a esto, se calcula el Beneficio, el cual esta dado por:\n",
        "\n",
        "$B = $ Precio Unitario de Venta  $\\times$  Ventas Reales $-$ Coste Unitario de adquisicion $\\times$ Pedido $-$ Costo Unitario de Reciclaje $\\times$ Periodicos NO Vendidos $-$ Coste de Venta Perdida $\\times$ Ventas Perdidas\n",
        "\n",
        "\n",
        "Como vimos en el planteamiento del problema, ya se tiene declarado, y se da como sigue:\n",
        "\n",
        "$B = $ $1.1$  $\\times$  Ventas Reales $-0.90 \\times 50-$ $0.10$ $\\times$ Periodicos NO Vendidos $-$ $0.10$ $\\times$ Ventas Perdidas\n",
        "\n",
        "\n",
        "A continuación, ejecutaremos una simulacion, mandaremos como argumentos\n",
        "\n",
        "Pedidos $=$ 50\n",
        "\n",
        "Dias a Simular $=$ 1 año $=$ 365 dias\n",
        "\n",
        "Deseamos imprimir la Tabla de valores $=$ 1"
      ],
      "metadata": {
        "id": "ibzIo-mU9PQk"
      }
    },
    {
      "cell_type": "code",
      "source": [
        "R = calcular_beneficio_diario(50, 365, 1)"
      ],
      "metadata": {
        "colab": {
          "base_uri": "https://localhost:8080/"
        },
        "id": "8ehdB-Qi82fU",
        "outputId": "e6a96ea8-13bb-4c91-bec1-87d2d180c867"
      },
      "execution_count": null,
      "outputs": [
        {
          "output_type": "stream",
          "name": "stdout",
          "text": [
            "Dia: 1    Num. Aleatorio: 0.88    Ventas Simuladas: 60    Ventas Reales: 50    Ventas Perdidas: 10    Periodicos No Vendidos: 0    Beneficio Diario: 8.0    Beneficio Promedio: 8\n",
            "Dia: 2    Num. Aleatorio: 0.39    Ventas Simuladas: 40    Ventas Reales: 40    Ventas Perdidas: 0    Periodicos No Vendidos: 10    Beneficio Diario: -2.0    Beneficio Promedio: 3\n",
            "Dia: 3    Num. Aleatorio: 0.08    Ventas Simuladas: 30    Ventas Reales: 30    Ventas Perdidas: 0    Periodicos No Vendidos: 20    Beneficio Diario: -14.0    Beneficio Promedio: -3\n",
            "Dia: 4    Num. Aleatorio: 0.96    Ventas Simuladas: 70    Ventas Reales: 50    Ventas Perdidas: 20    Periodicos No Vendidos: 0    Beneficio Diario: 6.0    Beneficio Promedio: 0\n",
            "Dia: 5    Num. Aleatorio: 0.39    Ventas Simuladas: 40    Ventas Reales: 40    Ventas Perdidas: 0    Periodicos No Vendidos: 10    Beneficio Diario: -2.0    Beneficio Promedio: -1\n",
            "Dia: 6    Num. Aleatorio: 0.44    Ventas Simuladas: 40    Ventas Reales: 40    Ventas Perdidas: 0    Periodicos No Vendidos: 10    Beneficio Diario: -2.0    Beneficio Promedio: -1\n",
            "Dia: 7    Num. Aleatorio: 0.03    Ventas Simuladas: 30    Ventas Reales: 30    Ventas Perdidas: 0    Periodicos No Vendidos: 20    Beneficio Diario: -14.0    Beneficio Promedio: -3\n",
            "Dia: 8    Num. Aleatorio: 0.98    Ventas Simuladas: 70    Ventas Reales: 50    Ventas Perdidas: 20    Periodicos No Vendidos: 0    Beneficio Diario: 6.0    Beneficio Promedio: -2\n",
            "Dia: 9    Num. Aleatorio: 0.84    Ventas Simuladas: 60    Ventas Reales: 50    Ventas Perdidas: 10    Periodicos No Vendidos: 0    Beneficio Diario: 8.0    Beneficio Promedio: -1\n",
            "Dia: 10    Num. Aleatorio: 0.75    Ventas Simuladas: 60    Ventas Reales: 50    Ventas Perdidas: 10    Periodicos No Vendidos: 0    Beneficio Diario: 8.0    Beneficio Promedio: 0\n",
            "Dia: 11    Num. Aleatorio: 0.97    Ventas Simuladas: 70    Ventas Reales: 50    Ventas Perdidas: 20    Periodicos No Vendidos: 0    Beneficio Diario: 6.0    Beneficio Promedio: 1\n",
            "Dia: 12    Num. Aleatorio: 0.16    Ventas Simuladas: 30    Ventas Reales: 30    Ventas Perdidas: 0    Periodicos No Vendidos: 20    Beneficio Diario: -14.0    Beneficio Promedio: 0\n",
            "Dia: 13    Num. Aleatorio: 0.26    Ventas Simuladas: 40    Ventas Reales: 40    Ventas Perdidas: 0    Periodicos No Vendidos: 10    Beneficio Diario: -2.0    Beneficio Promedio: -1\n",
            "Dia: 14    Num. Aleatorio: 0.29    Ventas Simuladas: 40    Ventas Reales: 40    Ventas Perdidas: 0    Periodicos No Vendidos: 10    Beneficio Diario: -2.0    Beneficio Promedio: -1\n",
            "Dia: 15    Num. Aleatorio: 0.86    Ventas Simuladas: 60    Ventas Reales: 50    Ventas Perdidas: 10    Periodicos No Vendidos: 0    Beneficio Diario: 8.0    Beneficio Promedio: 0\n",
            "Dia: 16    Num. Aleatorio: 0.85    Ventas Simuladas: 60    Ventas Reales: 50    Ventas Perdidas: 10    Periodicos No Vendidos: 0    Beneficio Diario: 8.0    Beneficio Promedio: 0\n",
            "Dia: 17    Num. Aleatorio: 0.06    Ventas Simuladas: 30    Ventas Reales: 30    Ventas Perdidas: 0    Periodicos No Vendidos: 20    Beneficio Diario: -14.0    Beneficio Promedio: 0\n",
            "Dia: 18    Num. Aleatorio: 0.36    Ventas Simuladas: 40    Ventas Reales: 40    Ventas Perdidas: 0    Periodicos No Vendidos: 10    Beneficio Diario: -2.0    Beneficio Promedio: -1\n",
            "Dia: 19    Num. Aleatorio: 0.1    Ventas Simuladas: 30    Ventas Reales: 30    Ventas Perdidas: 0    Periodicos No Vendidos: 20    Beneficio Diario: -14.0    Beneficio Promedio: -1\n",
            "Dia: 20    Num. Aleatorio: 0.45    Ventas Simuladas: 50    Ventas Reales: 50    Ventas Perdidas: 0    Periodicos No Vendidos: 0    Beneficio Diario: 10.0    Beneficio Promedio: -1\n",
            "Dia: 21    Num. Aleatorio: 0.44    Ventas Simuladas: 40    Ventas Reales: 40    Ventas Perdidas: 0    Periodicos No Vendidos: 10    Beneficio Diario: -2.0    Beneficio Promedio: -1\n",
            "Dia: 22    Num. Aleatorio: 0.83    Ventas Simuladas: 60    Ventas Reales: 50    Ventas Perdidas: 10    Periodicos No Vendidos: 0    Beneficio Diario: 8.0    Beneficio Promedio: 0\n",
            "Dia: 23    Num. Aleatorio: 0.87    Ventas Simuladas: 60    Ventas Reales: 50    Ventas Perdidas: 10    Periodicos No Vendidos: 0    Beneficio Diario: 8.0    Beneficio Promedio: 0\n",
            "Dia: 24    Num. Aleatorio: 0.8    Ventas Simuladas: 60    Ventas Reales: 50    Ventas Perdidas: 10    Periodicos No Vendidos: 0    Beneficio Diario: 8.0    Beneficio Promedio: 0\n",
            "Dia: 25    Num. Aleatorio: 0.48    Ventas Simuladas: 50    Ventas Reales: 50    Ventas Perdidas: 0    Periodicos No Vendidos: 0    Beneficio Diario: 10.0    Beneficio Promedio: 1\n",
            "Dia: 26    Num. Aleatorio: 0.79    Ventas Simuladas: 60    Ventas Reales: 50    Ventas Perdidas: 10    Periodicos No Vendidos: 0    Beneficio Diario: 8.0    Beneficio Promedio: 1\n",
            "Dia: 27    Num. Aleatorio: 0.82    Ventas Simuladas: 60    Ventas Reales: 50    Ventas Perdidas: 10    Periodicos No Vendidos: 0    Beneficio Diario: 8.0    Beneficio Promedio: 1\n",
            "Dia: 28    Num. Aleatorio: 0.38    Ventas Simuladas: 40    Ventas Reales: 40    Ventas Perdidas: 0    Periodicos No Vendidos: 10    Beneficio Diario: -2.0    Beneficio Promedio: 1\n",
            "Dia: 29    Num. Aleatorio: 0.78    Ventas Simuladas: 60    Ventas Reales: 50    Ventas Perdidas: 10    Periodicos No Vendidos: 0    Beneficio Diario: 8.0    Beneficio Promedio: 1\n",
            "Dia: 30    Num. Aleatorio: 0.19    Ventas Simuladas: 30    Ventas Reales: 30    Ventas Perdidas: 0    Periodicos No Vendidos: 20    Beneficio Diario: -14.0    Beneficio Promedio: 1\n",
            "Dia: 31    Num. Aleatorio: 0.59    Ventas Simuladas: 50    Ventas Reales: 50    Ventas Perdidas: 0    Periodicos No Vendidos: 0    Beneficio Diario: 10.0    Beneficio Promedio: 1\n",
            "Dia: 32    Num. Aleatorio: 0.09    Ventas Simuladas: 30    Ventas Reales: 30    Ventas Perdidas: 0    Periodicos No Vendidos: 20    Beneficio Diario: -14.0    Beneficio Promedio: 1\n",
            "Dia: 33    Num. Aleatorio: 0.3    Ventas Simuladas: 40    Ventas Reales: 40    Ventas Perdidas: 0    Periodicos No Vendidos: 10    Beneficio Diario: -2.0    Beneficio Promedio: 1\n",
            "Dia: 34    Num. Aleatorio: 0.7    Ventas Simuladas: 60    Ventas Reales: 50    Ventas Perdidas: 10    Periodicos No Vendidos: 0    Beneficio Diario: 8.0    Beneficio Promedio: 1\n",
            "Dia: 35    Num. Aleatorio: 0.71    Ventas Simuladas: 60    Ventas Reales: 50    Ventas Perdidas: 10    Periodicos No Vendidos: 0    Beneficio Diario: 8.0    Beneficio Promedio: 1\n",
            "Dia: 36    Num. Aleatorio: 0.93    Ventas Simuladas: 70    Ventas Reales: 50    Ventas Perdidas: 20    Periodicos No Vendidos: 0    Beneficio Diario: 6.0    Beneficio Promedio: 1\n",
            "Dia: 37    Num. Aleatorio: 0.99    Ventas Simuladas: 70    Ventas Reales: 50    Ventas Perdidas: 20    Periodicos No Vendidos: 0    Beneficio Diario: 6.0    Beneficio Promedio: 1\n",
            "Dia: 38    Num. Aleatorio: 0.72    Ventas Simuladas: 60    Ventas Reales: 50    Ventas Perdidas: 10    Periodicos No Vendidos: 0    Beneficio Diario: 8.0    Beneficio Promedio: 1\n",
            "Dia: 39    Num. Aleatorio: 0.67    Ventas Simuladas: 50    Ventas Reales: 50    Ventas Perdidas: 0    Periodicos No Vendidos: 0    Beneficio Diario: 10.0    Beneficio Promedio: 2\n",
            "Dia: 40    Num. Aleatorio: 0.2    Ventas Simuladas: 40    Ventas Reales: 40    Ventas Perdidas: 0    Periodicos No Vendidos: 10    Beneficio Diario: -2.0    Beneficio Promedio: 2\n",
            "Dia: 41    Num. Aleatorio: 0.03    Ventas Simuladas: 30    Ventas Reales: 30    Ventas Perdidas: 0    Periodicos No Vendidos: 20    Beneficio Diario: -14.0    Beneficio Promedio: 1\n",
            "Dia: 42    Num. Aleatorio: 0.8    Ventas Simuladas: 60    Ventas Reales: 50    Ventas Perdidas: 10    Periodicos No Vendidos: 0    Beneficio Diario: 8.0    Beneficio Promedio: 1\n",
            "Dia: 43    Num. Aleatorio: 0.49    Ventas Simuladas: 50    Ventas Reales: 50    Ventas Perdidas: 0    Periodicos No Vendidos: 0    Beneficio Diario: 10.0    Beneficio Promedio: 2\n",
            "Dia: 44    Num. Aleatorio: 0.26    Ventas Simuladas: 40    Ventas Reales: 40    Ventas Perdidas: 0    Periodicos No Vendidos: 10    Beneficio Diario: -2.0    Beneficio Promedio: 2\n",
            "Dia: 45    Num. Aleatorio: 0.6    Ventas Simuladas: 50    Ventas Reales: 50    Ventas Perdidas: 0    Periodicos No Vendidos: 0    Beneficio Diario: 10.0    Beneficio Promedio: 2\n",
            "Dia: 46    Num. Aleatorio: 0.54    Ventas Simuladas: 50    Ventas Reales: 50    Ventas Perdidas: 0    Periodicos No Vendidos: 0    Beneficio Diario: 10.0    Beneficio Promedio: 2\n",
            "Dia: 47    Num. Aleatorio: 0.51    Ventas Simuladas: 50    Ventas Reales: 50    Ventas Perdidas: 0    Periodicos No Vendidos: 0    Beneficio Diario: 10.0    Beneficio Promedio: 2\n",
            "Dia: 48    Num. Aleatorio: 0.26    Ventas Simuladas: 40    Ventas Reales: 40    Ventas Perdidas: 0    Periodicos No Vendidos: 10    Beneficio Diario: -2.0    Beneficio Promedio: 2\n",
            "Dia: 49    Num. Aleatorio: 0.74    Ventas Simuladas: 60    Ventas Reales: 50    Ventas Perdidas: 10    Periodicos No Vendidos: 0    Beneficio Diario: 8.0    Beneficio Promedio: 2\n",
            "Dia: 50    Num. Aleatorio: 0.68    Ventas Simuladas: 50    Ventas Reales: 50    Ventas Perdidas: 0    Periodicos No Vendidos: 0    Beneficio Diario: 10.0    Beneficio Promedio: 2\n",
            "Dia: 51    Num. Aleatorio: 0.89    Ventas Simuladas: 60    Ventas Reales: 50    Ventas Perdidas: 10    Periodicos No Vendidos: 0    Beneficio Diario: 8.0    Beneficio Promedio: 2\n",
            "Dia: 52    Num. Aleatorio: 0.59    Ventas Simuladas: 50    Ventas Reales: 50    Ventas Perdidas: 0    Periodicos No Vendidos: 0    Beneficio Diario: 10.0    Beneficio Promedio: 3\n",
            "Dia: 53    Num. Aleatorio: 0.21    Ventas Simuladas: 40    Ventas Reales: 40    Ventas Perdidas: 0    Periodicos No Vendidos: 10    Beneficio Diario: -2.0    Beneficio Promedio: 2\n",
            "Dia: 54    Num. Aleatorio: 0.13    Ventas Simuladas: 30    Ventas Reales: 30    Ventas Perdidas: 0    Periodicos No Vendidos: 20    Beneficio Diario: -14.0    Beneficio Promedio: 2\n",
            "Dia: 55    Num. Aleatorio: 0.95    Ventas Simuladas: 70    Ventas Reales: 50    Ventas Perdidas: 20    Periodicos No Vendidos: 0    Beneficio Diario: 6.0    Beneficio Promedio: 2\n",
            "Dia: 56    Num. Aleatorio: 0.52    Ventas Simuladas: 50    Ventas Reales: 50    Ventas Perdidas: 0    Periodicos No Vendidos: 0    Beneficio Diario: 10.0    Beneficio Promedio: 2\n",
            "Dia: 57    Num. Aleatorio: 0.55    Ventas Simuladas: 50    Ventas Reales: 50    Ventas Perdidas: 0    Periodicos No Vendidos: 0    Beneficio Diario: 10.0    Beneficio Promedio: 2\n",
            "Dia: 58    Num. Aleatorio: 0.54    Ventas Simuladas: 50    Ventas Reales: 50    Ventas Perdidas: 0    Periodicos No Vendidos: 0    Beneficio Diario: 10.0    Beneficio Promedio: 3\n",
            "Dia: 59    Num. Aleatorio: 0.59    Ventas Simuladas: 50    Ventas Reales: 50    Ventas Perdidas: 0    Periodicos No Vendidos: 0    Beneficio Diario: 10.0    Beneficio Promedio: 3\n",
            "Dia: 60    Num. Aleatorio: 0.84    Ventas Simuladas: 60    Ventas Reales: 50    Ventas Perdidas: 10    Periodicos No Vendidos: 0    Beneficio Diario: 8.0    Beneficio Promedio: 3\n",
            "Dia: 61    Num. Aleatorio: 0.64    Ventas Simuladas: 50    Ventas Reales: 50    Ventas Perdidas: 0    Periodicos No Vendidos: 0    Beneficio Diario: 10.0    Beneficio Promedio: 3\n",
            "Dia: 62    Num. Aleatorio: 0.85    Ventas Simuladas: 60    Ventas Reales: 50    Ventas Perdidas: 10    Periodicos No Vendidos: 0    Beneficio Diario: 8.0    Beneficio Promedio: 3\n",
            "Dia: 63    Num. Aleatorio: 0.19    Ventas Simuladas: 30    Ventas Reales: 30    Ventas Perdidas: 0    Periodicos No Vendidos: 20    Beneficio Diario: -14.0    Beneficio Promedio: 3\n",
            "Dia: 64    Num. Aleatorio: 0.93    Ventas Simuladas: 70    Ventas Reales: 50    Ventas Perdidas: 20    Periodicos No Vendidos: 0    Beneficio Diario: 6.0    Beneficio Promedio: 3\n",
            "Dia: 65    Num. Aleatorio: 0.36    Ventas Simuladas: 40    Ventas Reales: 40    Ventas Perdidas: 0    Periodicos No Vendidos: 10    Beneficio Diario: -2.0    Beneficio Promedio: 3\n",
            "Dia: 66    Num. Aleatorio: 0.3    Ventas Simuladas: 40    Ventas Reales: 40    Ventas Perdidas: 0    Periodicos No Vendidos: 10    Beneficio Diario: -2.0    Beneficio Promedio: 3\n",
            "Dia: 67    Num. Aleatorio: 0.11    Ventas Simuladas: 30    Ventas Reales: 30    Ventas Perdidas: 0    Periodicos No Vendidos: 20    Beneficio Diario: -14.0    Beneficio Promedio: 2\n",
            "Dia: 68    Num. Aleatorio: 0.44    Ventas Simuladas: 40    Ventas Reales: 40    Ventas Perdidas: 0    Periodicos No Vendidos: 10    Beneficio Diario: -2.0    Beneficio Promedio: 2\n",
            "Dia: 69    Num. Aleatorio: 0.33    Ventas Simuladas: 40    Ventas Reales: 40    Ventas Perdidas: 0    Periodicos No Vendidos: 10    Beneficio Diario: -2.0    Beneficio Promedio: 2\n",
            "Dia: 70    Num. Aleatorio: 0.56    Ventas Simuladas: 50    Ventas Reales: 50    Ventas Perdidas: 0    Periodicos No Vendidos: 0    Beneficio Diario: 10.0    Beneficio Promedio: 2\n",
            "Dia: 71    Num. Aleatorio: 0.09    Ventas Simuladas: 30    Ventas Reales: 30    Ventas Perdidas: 0    Periodicos No Vendidos: 20    Beneficio Diario: -14.0    Beneficio Promedio: 2\n",
            "Dia: 72    Num. Aleatorio: 0.48    Ventas Simuladas: 50    Ventas Reales: 50    Ventas Perdidas: 0    Periodicos No Vendidos: 0    Beneficio Diario: 10.0    Beneficio Promedio: 2\n",
            "Dia: 73    Num. Aleatorio: 0.73    Ventas Simuladas: 60    Ventas Reales: 50    Ventas Perdidas: 10    Periodicos No Vendidos: 0    Beneficio Diario: 8.0    Beneficio Promedio: 2\n",
            "Dia: 74    Num. Aleatorio: 0.75    Ventas Simuladas: 60    Ventas Reales: 50    Ventas Perdidas: 10    Periodicos No Vendidos: 0    Beneficio Diario: 8.0    Beneficio Promedio: 2\n",
            "Dia: 75    Num. Aleatorio: 0.57    Ventas Simuladas: 50    Ventas Reales: 50    Ventas Perdidas: 0    Periodicos No Vendidos: 0    Beneficio Diario: 10.0    Beneficio Promedio: 3\n",
            "Dia: 76    Num. Aleatorio: 0.88    Ventas Simuladas: 60    Ventas Reales: 50    Ventas Perdidas: 10    Periodicos No Vendidos: 0    Beneficio Diario: 8.0    Beneficio Promedio: 3\n",
            "Dia: 77    Num. Aleatorio: 0.07    Ventas Simuladas: 30    Ventas Reales: 30    Ventas Perdidas: 0    Periodicos No Vendidos: 20    Beneficio Diario: -14.0    Beneficio Promedio: 2\n",
            "Dia: 78    Num. Aleatorio: 0.4    Ventas Simuladas: 40    Ventas Reales: 40    Ventas Perdidas: 0    Periodicos No Vendidos: 10    Beneficio Diario: -2.0    Beneficio Promedio: 2\n",
            "Dia: 79    Num. Aleatorio: 0.99    Ventas Simuladas: 70    Ventas Reales: 50    Ventas Perdidas: 20    Periodicos No Vendidos: 0    Beneficio Diario: 6.0    Beneficio Promedio: 2\n",
            "Dia: 80    Num. Aleatorio: 0.63    Ventas Simuladas: 50    Ventas Reales: 50    Ventas Perdidas: 0    Periodicos No Vendidos: 0    Beneficio Diario: 10.0    Beneficio Promedio: 2\n",
            "Dia: 81    Num. Aleatorio: 0.21    Ventas Simuladas: 40    Ventas Reales: 40    Ventas Perdidas: 0    Periodicos No Vendidos: 10    Beneficio Diario: -2.0    Beneficio Promedio: 2\n",
            "Dia: 82    Num. Aleatorio: 0.86    Ventas Simuladas: 60    Ventas Reales: 50    Ventas Perdidas: 10    Periodicos No Vendidos: 0    Beneficio Diario: 8.0    Beneficio Promedio: 2\n",
            "Dia: 83    Num. Aleatorio: 0.86    Ventas Simuladas: 60    Ventas Reales: 50    Ventas Perdidas: 10    Periodicos No Vendidos: 0    Beneficio Diario: 8.0    Beneficio Promedio: 3\n",
            "Dia: 84    Num. Aleatorio: 0.67    Ventas Simuladas: 50    Ventas Reales: 50    Ventas Perdidas: 0    Periodicos No Vendidos: 0    Beneficio Diario: 10.0    Beneficio Promedio: 3\n",
            "Dia: 85    Num. Aleatorio: 0.96    Ventas Simuladas: 70    Ventas Reales: 50    Ventas Perdidas: 20    Periodicos No Vendidos: 0    Beneficio Diario: 6.0    Beneficio Promedio: 3\n",
            "Dia: 86    Num. Aleatorio: 0.43    Ventas Simuladas: 40    Ventas Reales: 40    Ventas Perdidas: 0    Periodicos No Vendidos: 10    Beneficio Diario: -2.0    Beneficio Promedio: 3\n",
            "Dia: 87    Num. Aleatorio: 0.4    Ventas Simuladas: 40    Ventas Reales: 40    Ventas Perdidas: 0    Periodicos No Vendidos: 10    Beneficio Diario: -2.0    Beneficio Promedio: 3\n",
            "Dia: 88    Num. Aleatorio: 0.3    Ventas Simuladas: 40    Ventas Reales: 40    Ventas Perdidas: 0    Periodicos No Vendidos: 10    Beneficio Diario: -2.0    Beneficio Promedio: 3\n",
            "Dia: 89    Num. Aleatorio: 0.48    Ventas Simuladas: 50    Ventas Reales: 50    Ventas Perdidas: 0    Periodicos No Vendidos: 0    Beneficio Diario: 10.0    Beneficio Promedio: 3\n",
            "Dia: 90    Num. Aleatorio: 0.28    Ventas Simuladas: 40    Ventas Reales: 40    Ventas Perdidas: 0    Periodicos No Vendidos: 10    Beneficio Diario: -2.0    Beneficio Promedio: 3\n",
            "Dia: 91    Num. Aleatorio: 0.95    Ventas Simuladas: 70    Ventas Reales: 50    Ventas Perdidas: 20    Periodicos No Vendidos: 0    Beneficio Diario: 6.0    Beneficio Promedio: 3\n",
            "Dia: 92    Num. Aleatorio: 0.65    Ventas Simuladas: 50    Ventas Reales: 50    Ventas Perdidas: 0    Periodicos No Vendidos: 0    Beneficio Diario: 10.0    Beneficio Promedio: 3\n",
            "Dia: 93    Num. Aleatorio: 0.45    Ventas Simuladas: 50    Ventas Reales: 50    Ventas Perdidas: 0    Periodicos No Vendidos: 0    Beneficio Diario: 10.0    Beneficio Promedio: 3\n",
            "Dia: 94    Num. Aleatorio: 0.71    Ventas Simuladas: 60    Ventas Reales: 50    Ventas Perdidas: 10    Periodicos No Vendidos: 0    Beneficio Diario: 8.0    Beneficio Promedio: 3\n",
            "Dia: 95    Num. Aleatorio: 0.5    Ventas Simuladas: 50    Ventas Reales: 50    Ventas Perdidas: 0    Periodicos No Vendidos: 0    Beneficio Diario: 10.0    Beneficio Promedio: 3\n",
            "Dia: 96    Num. Aleatorio: 0.44    Ventas Simuladas: 40    Ventas Reales: 40    Ventas Perdidas: 0    Periodicos No Vendidos: 10    Beneficio Diario: -2.0    Beneficio Promedio: 3\n",
            "Dia: 97    Num. Aleatorio: 0.27    Ventas Simuladas: 40    Ventas Reales: 40    Ventas Perdidas: 0    Periodicos No Vendidos: 10    Beneficio Diario: -2.0    Beneficio Promedio: 3\n",
            "Dia: 98    Num. Aleatorio: 0.91    Ventas Simuladas: 70    Ventas Reales: 50    Ventas Perdidas: 20    Periodicos No Vendidos: 0    Beneficio Diario: 6.0    Beneficio Promedio: 3\n",
            "Dia: 99    Num. Aleatorio: 0.58    Ventas Simuladas: 50    Ventas Reales: 50    Ventas Perdidas: 0    Periodicos No Vendidos: 0    Beneficio Diario: 10.0    Beneficio Promedio: 3\n",
            "Dia: 100    Num. Aleatorio: 0.8    Ventas Simuladas: 60    Ventas Reales: 50    Ventas Perdidas: 10    Periodicos No Vendidos: 0    Beneficio Diario: 8.0    Beneficio Promedio: 3\n",
            "Dia: 101    Num. Aleatorio: 0.69    Ventas Simuladas: 50    Ventas Reales: 50    Ventas Perdidas: 0    Periodicos No Vendidos: 0    Beneficio Diario: 10.0    Beneficio Promedio: 3\n",
            "Dia: 102    Num. Aleatorio: 0.67    Ventas Simuladas: 50    Ventas Reales: 50    Ventas Perdidas: 0    Periodicos No Vendidos: 0    Beneficio Diario: 10.0    Beneficio Promedio: 3\n",
            "Dia: 103    Num. Aleatorio: 0.39    Ventas Simuladas: 40    Ventas Reales: 40    Ventas Perdidas: 0    Periodicos No Vendidos: 10    Beneficio Diario: -2.0    Beneficio Promedio: 3\n",
            "Dia: 104    Num. Aleatorio: 0.83    Ventas Simuladas: 60    Ventas Reales: 50    Ventas Perdidas: 10    Periodicos No Vendidos: 0    Beneficio Diario: 8.0    Beneficio Promedio: 3\n",
            "Dia: 105    Num. Aleatorio: 0.43    Ventas Simuladas: 40    Ventas Reales: 40    Ventas Perdidas: 0    Periodicos No Vendidos: 10    Beneficio Diario: -2.0    Beneficio Promedio: 3\n",
            "Dia: 106    Num. Aleatorio: 0.59    Ventas Simuladas: 50    Ventas Reales: 50    Ventas Perdidas: 0    Periodicos No Vendidos: 0    Beneficio Diario: 10.0    Beneficio Promedio: 3\n",
            "Dia: 107    Num. Aleatorio: 0.97    Ventas Simuladas: 70    Ventas Reales: 50    Ventas Perdidas: 20    Periodicos No Vendidos: 0    Beneficio Diario: 6.0    Beneficio Promedio: 3\n",
            "Dia: 108    Num. Aleatorio: 0.73    Ventas Simuladas: 60    Ventas Reales: 50    Ventas Perdidas: 10    Periodicos No Vendidos: 0    Beneficio Diario: 8.0    Beneficio Promedio: 3\n",
            "Dia: 109    Num. Aleatorio: 0.24    Ventas Simuladas: 40    Ventas Reales: 40    Ventas Perdidas: 0    Periodicos No Vendidos: 10    Beneficio Diario: -2.0    Beneficio Promedio: 3\n",
            "Dia: 110    Num. Aleatorio: 0.86    Ventas Simuladas: 60    Ventas Reales: 50    Ventas Perdidas: 10    Periodicos No Vendidos: 0    Beneficio Diario: 8.0    Beneficio Promedio: 3\n",
            "Dia: 111    Num. Aleatorio: 0.28    Ventas Simuladas: 40    Ventas Reales: 40    Ventas Perdidas: 0    Periodicos No Vendidos: 10    Beneficio Diario: -2.0    Beneficio Promedio: 3\n",
            "Dia: 112    Num. Aleatorio: 0.14    Ventas Simuladas: 30    Ventas Reales: 30    Ventas Perdidas: 0    Periodicos No Vendidos: 20    Beneficio Diario: -14.0    Beneficio Promedio: 3\n",
            "Dia: 113    Num. Aleatorio: 0.45    Ventas Simuladas: 40    Ventas Reales: 40    Ventas Perdidas: 0    Periodicos No Vendidos: 10    Beneficio Diario: -2.0    Beneficio Promedio: 3\n",
            "Dia: 114    Num. Aleatorio: 0.87    Ventas Simuladas: 60    Ventas Reales: 50    Ventas Perdidas: 10    Periodicos No Vendidos: 0    Beneficio Diario: 8.0    Beneficio Promedio: 3\n",
            "Dia: 115    Num. Aleatorio: 0.4    Ventas Simuladas: 40    Ventas Reales: 40    Ventas Perdidas: 0    Periodicos No Vendidos: 10    Beneficio Diario: -2.0    Beneficio Promedio: 3\n",
            "Dia: 116    Num. Aleatorio: 0.92    Ventas Simuladas: 70    Ventas Reales: 50    Ventas Perdidas: 20    Periodicos No Vendidos: 0    Beneficio Diario: 6.0    Beneficio Promedio: 3\n",
            "Dia: 117    Num. Aleatorio: 0.66    Ventas Simuladas: 50    Ventas Reales: 50    Ventas Perdidas: 0    Periodicos No Vendidos: 0    Beneficio Diario: 10.0    Beneficio Promedio: 3\n",
            "Dia: 118    Num. Aleatorio: 0.56    Ventas Simuladas: 50    Ventas Reales: 50    Ventas Perdidas: 0    Periodicos No Vendidos: 0    Beneficio Diario: 10.0    Beneficio Promedio: 3\n",
            "Dia: 119    Num. Aleatorio: 0.8    Ventas Simuladas: 60    Ventas Reales: 50    Ventas Perdidas: 10    Periodicos No Vendidos: 0    Beneficio Diario: 8.0    Beneficio Promedio: 3\n",
            "Dia: 120    Num. Aleatorio: 0.33    Ventas Simuladas: 40    Ventas Reales: 40    Ventas Perdidas: 0    Periodicos No Vendidos: 10    Beneficio Diario: -2.0    Beneficio Promedio: 3\n",
            "Dia: 121    Num. Aleatorio: 0.37    Ventas Simuladas: 40    Ventas Reales: 40    Ventas Perdidas: 0    Periodicos No Vendidos: 10    Beneficio Diario: -2.0    Beneficio Promedio: 3\n",
            "Dia: 122    Num. Aleatorio: 0.32    Ventas Simuladas: 40    Ventas Reales: 40    Ventas Perdidas: 0    Periodicos No Vendidos: 10    Beneficio Diario: -2.0    Beneficio Promedio: 3\n",
            "Dia: 123    Num. Aleatorio: 0.91    Ventas Simuladas: 70    Ventas Reales: 50    Ventas Perdidas: 20    Periodicos No Vendidos: 0    Beneficio Diario: 6.0    Beneficio Promedio: 3\n",
            "Dia: 124    Num. Aleatorio: 0.17    Ventas Simuladas: 30    Ventas Reales: 30    Ventas Perdidas: 0    Periodicos No Vendidos: 20    Beneficio Diario: -14.0    Beneficio Promedio: 3\n",
            "Dia: 125    Num. Aleatorio: 0.93    Ventas Simuladas: 70    Ventas Reales: 50    Ventas Perdidas: 20    Periodicos No Vendidos: 0    Beneficio Diario: 6.0    Beneficio Promedio: 3\n",
            "Dia: 126    Num. Aleatorio: 0.11    Ventas Simuladas: 30    Ventas Reales: 30    Ventas Perdidas: 0    Periodicos No Vendidos: 20    Beneficio Diario: -14.0    Beneficio Promedio: 3\n",
            "Dia: 127    Num. Aleatorio: 0.49    Ventas Simuladas: 50    Ventas Reales: 50    Ventas Perdidas: 0    Periodicos No Vendidos: 0    Beneficio Diario: 10.0    Beneficio Promedio: 3\n",
            "Dia: 128    Num. Aleatorio: 0.34    Ventas Simuladas: 40    Ventas Reales: 40    Ventas Perdidas: 0    Periodicos No Vendidos: 10    Beneficio Diario: -2.0    Beneficio Promedio: 3\n",
            "Dia: 129    Num. Aleatorio: 0.06    Ventas Simuladas: 30    Ventas Reales: 30    Ventas Perdidas: 0    Periodicos No Vendidos: 20    Beneficio Diario: -14.0    Beneficio Promedio: 3\n",
            "Dia: 130    Num. Aleatorio: 0.14    Ventas Simuladas: 30    Ventas Reales: 30    Ventas Perdidas: 0    Periodicos No Vendidos: 20    Beneficio Diario: -14.0    Beneficio Promedio: 3\n",
            "Dia: 131    Num. Aleatorio: 0.04    Ventas Simuladas: 30    Ventas Reales: 30    Ventas Perdidas: 0    Periodicos No Vendidos: 20    Beneficio Diario: -14.0    Beneficio Promedio: 2\n",
            "Dia: 132    Num. Aleatorio: 0.03    Ventas Simuladas: 30    Ventas Reales: 30    Ventas Perdidas: 0    Periodicos No Vendidos: 20    Beneficio Diario: -14.0    Beneficio Promedio: 2\n",
            "Dia: 133    Num. Aleatorio: 0.58    Ventas Simuladas: 50    Ventas Reales: 50    Ventas Perdidas: 0    Periodicos No Vendidos: 0    Beneficio Diario: 10.0    Beneficio Promedio: 2\n",
            "Dia: 134    Num. Aleatorio: 0.72    Ventas Simuladas: 60    Ventas Reales: 50    Ventas Perdidas: 10    Periodicos No Vendidos: 0    Beneficio Diario: 8.0    Beneficio Promedio: 2\n",
            "Dia: 135    Num. Aleatorio: 0.8    Ventas Simuladas: 60    Ventas Reales: 50    Ventas Perdidas: 10    Periodicos No Vendidos: 0    Beneficio Diario: 8.0    Beneficio Promedio: 2\n",
            "Dia: 136    Num. Aleatorio: 0.44    Ventas Simuladas: 40    Ventas Reales: 40    Ventas Perdidas: 0    Periodicos No Vendidos: 10    Beneficio Diario: -2.0    Beneficio Promedio: 2\n",
            "Dia: 137    Num. Aleatorio: 0.09    Ventas Simuladas: 30    Ventas Reales: 30    Ventas Perdidas: 0    Periodicos No Vendidos: 20    Beneficio Diario: -14.0    Beneficio Promedio: 2\n",
            "Dia: 138    Num. Aleatorio: 0.58    Ventas Simuladas: 50    Ventas Reales: 50    Ventas Perdidas: 0    Periodicos No Vendidos: 0    Beneficio Diario: 10.0    Beneficio Promedio: 2\n",
            "Dia: 139    Num. Aleatorio: 0.69    Ventas Simuladas: 50    Ventas Reales: 50    Ventas Perdidas: 0    Periodicos No Vendidos: 0    Beneficio Diario: 10.0    Beneficio Promedio: 2\n",
            "Dia: 140    Num. Aleatorio: 0.85    Ventas Simuladas: 60    Ventas Reales: 50    Ventas Perdidas: 10    Periodicos No Vendidos: 0    Beneficio Diario: 8.0    Beneficio Promedio: 2\n",
            "Dia: 141    Num. Aleatorio: 0.82    Ventas Simuladas: 60    Ventas Reales: 50    Ventas Perdidas: 10    Periodicos No Vendidos: 0    Beneficio Diario: 8.0    Beneficio Promedio: 2\n",
            "Dia: 142    Num. Aleatorio: 0.17    Ventas Simuladas: 30    Ventas Reales: 30    Ventas Perdidas: 0    Periodicos No Vendidos: 20    Beneficio Diario: -14.0    Beneficio Promedio: 2\n",
            "Dia: 143    Num. Aleatorio: 0.81    Ventas Simuladas: 60    Ventas Reales: 50    Ventas Perdidas: 10    Periodicos No Vendidos: 0    Beneficio Diario: 8.0    Beneficio Promedio: 2\n",
            "Dia: 144    Num. Aleatorio: 0.2    Ventas Simuladas: 40    Ventas Reales: 40    Ventas Perdidas: 0    Periodicos No Vendidos: 10    Beneficio Diario: -2.0    Beneficio Promedio: 2\n",
            "Dia: 145    Num. Aleatorio: 0.68    Ventas Simuladas: 50    Ventas Reales: 50    Ventas Perdidas: 0    Periodicos No Vendidos: 0    Beneficio Diario: 10.0    Beneficio Promedio: 2\n",
            "Dia: 146    Num. Aleatorio: 0.48    Ventas Simuladas: 50    Ventas Reales: 50    Ventas Perdidas: 0    Periodicos No Vendidos: 0    Beneficio Diario: 10.0    Beneficio Promedio: 2\n",
            "Dia: 147    Num. Aleatorio: 0.44    Ventas Simuladas: 40    Ventas Reales: 40    Ventas Perdidas: 0    Periodicos No Vendidos: 10    Beneficio Diario: -2.0    Beneficio Promedio: 2\n",
            "Dia: 148    Num. Aleatorio: 0.67    Ventas Simuladas: 50    Ventas Reales: 50    Ventas Perdidas: 0    Periodicos No Vendidos: 0    Beneficio Diario: 10.0    Beneficio Promedio: 2\n",
            "Dia: 149    Num. Aleatorio: 0.6    Ventas Simuladas: 50    Ventas Reales: 50    Ventas Perdidas: 0    Periodicos No Vendidos: 0    Beneficio Diario: 10.0    Beneficio Promedio: 3\n",
            "Dia: 150    Num. Aleatorio: 0.25    Ventas Simuladas: 40    Ventas Reales: 40    Ventas Perdidas: 0    Periodicos No Vendidos: 10    Beneficio Diario: -2.0    Beneficio Promedio: 2\n",
            "Dia: 151    Num. Aleatorio: 0.4    Ventas Simuladas: 40    Ventas Reales: 40    Ventas Perdidas: 0    Periodicos No Vendidos: 10    Beneficio Diario: -2.0    Beneficio Promedio: 2\n",
            "Dia: 152    Num. Aleatorio: 0.43    Ventas Simuladas: 40    Ventas Reales: 40    Ventas Perdidas: 0    Periodicos No Vendidos: 10    Beneficio Diario: -2.0    Beneficio Promedio: 2\n",
            "Dia: 153    Num. Aleatorio: 0.06    Ventas Simuladas: 30    Ventas Reales: 30    Ventas Perdidas: 0    Periodicos No Vendidos: 20    Beneficio Diario: -14.0    Beneficio Promedio: 2\n",
            "Dia: 154    Num. Aleatorio: 0.85    Ventas Simuladas: 60    Ventas Reales: 50    Ventas Perdidas: 10    Periodicos No Vendidos: 0    Beneficio Diario: 8.0    Beneficio Promedio: 2\n",
            "Dia: 155    Num. Aleatorio: 0.47    Ventas Simuladas: 50    Ventas Reales: 50    Ventas Perdidas: 0    Periodicos No Vendidos: 0    Beneficio Diario: 10.0    Beneficio Promedio: 2\n",
            "Dia: 156    Num. Aleatorio: 0.38    Ventas Simuladas: 40    Ventas Reales: 40    Ventas Perdidas: 0    Periodicos No Vendidos: 10    Beneficio Diario: -2.0    Beneficio Promedio: 2\n",
            "Dia: 157    Num. Aleatorio: 0.92    Ventas Simuladas: 70    Ventas Reales: 50    Ventas Perdidas: 20    Periodicos No Vendidos: 0    Beneficio Diario: 6.0    Beneficio Promedio: 2\n",
            "Dia: 158    Num. Aleatorio: 0.24    Ventas Simuladas: 40    Ventas Reales: 40    Ventas Perdidas: 0    Periodicos No Vendidos: 10    Beneficio Diario: -2.0    Beneficio Promedio: 2\n",
            "Dia: 159    Num. Aleatorio: 0.37    Ventas Simuladas: 40    Ventas Reales: 40    Ventas Perdidas: 0    Periodicos No Vendidos: 10    Beneficio Diario: -2.0    Beneficio Promedio: 2\n",
            "Dia: 160    Num. Aleatorio: 0.6    Ventas Simuladas: 50    Ventas Reales: 50    Ventas Perdidas: 0    Periodicos No Vendidos: 0    Beneficio Diario: 10.0    Beneficio Promedio: 2\n",
            "Dia: 161    Num. Aleatorio: 0.32    Ventas Simuladas: 40    Ventas Reales: 40    Ventas Perdidas: 0    Periodicos No Vendidos: 10    Beneficio Diario: -2.0    Beneficio Promedio: 2\n",
            "Dia: 162    Num. Aleatorio: 0.52    Ventas Simuladas: 50    Ventas Reales: 50    Ventas Perdidas: 0    Periodicos No Vendidos: 0    Beneficio Diario: 10.0    Beneficio Promedio: 2\n",
            "Dia: 163    Num. Aleatorio: 0.49    Ventas Simuladas: 50    Ventas Reales: 50    Ventas Perdidas: 0    Periodicos No Vendidos: 0    Beneficio Diario: 10.0    Beneficio Promedio: 2\n",
            "Dia: 164    Num. Aleatorio: 0.99    Ventas Simuladas: 70    Ventas Reales: 50    Ventas Perdidas: 20    Periodicos No Vendidos: 0    Beneficio Diario: 6.0    Beneficio Promedio: 2\n",
            "Dia: 165    Num. Aleatorio: 0.66    Ventas Simuladas: 50    Ventas Reales: 50    Ventas Perdidas: 0    Periodicos No Vendidos: 0    Beneficio Diario: 10.0    Beneficio Promedio: 3\n",
            "Dia: 166    Num. Aleatorio: 0.75    Ventas Simuladas: 60    Ventas Reales: 50    Ventas Perdidas: 10    Periodicos No Vendidos: 0    Beneficio Diario: 8.0    Beneficio Promedio: 3\n",
            "Dia: 167    Num. Aleatorio: 0.73    Ventas Simuladas: 60    Ventas Reales: 50    Ventas Perdidas: 10    Periodicos No Vendidos: 0    Beneficio Diario: 8.0    Beneficio Promedio: 3\n",
            "Dia: 168    Num. Aleatorio: 0.85    Ventas Simuladas: 60    Ventas Reales: 50    Ventas Perdidas: 10    Periodicos No Vendidos: 0    Beneficio Diario: 8.0    Beneficio Promedio: 3\n",
            "Dia: 169    Num. Aleatorio: 0.95    Ventas Simuladas: 70    Ventas Reales: 50    Ventas Perdidas: 20    Periodicos No Vendidos: 0    Beneficio Diario: 6.0    Beneficio Promedio: 3\n",
            "Dia: 170    Num. Aleatorio: 0.61    Ventas Simuladas: 50    Ventas Reales: 50    Ventas Perdidas: 0    Periodicos No Vendidos: 0    Beneficio Diario: 10.0    Beneficio Promedio: 3\n",
            "Dia: 171    Num. Aleatorio: 0.25    Ventas Simuladas: 40    Ventas Reales: 40    Ventas Perdidas: 0    Periodicos No Vendidos: 10    Beneficio Diario: -2.0    Beneficio Promedio: 3\n",
            "Dia: 172    Num. Aleatorio: 0.87    Ventas Simuladas: 60    Ventas Reales: 50    Ventas Perdidas: 10    Periodicos No Vendidos: 0    Beneficio Diario: 8.0    Beneficio Promedio: 3\n",
            "Dia: 173    Num. Aleatorio: 0.98    Ventas Simuladas: 70    Ventas Reales: 50    Ventas Perdidas: 20    Periodicos No Vendidos: 0    Beneficio Diario: 6.0    Beneficio Promedio: 3\n",
            "Dia: 174    Num. Aleatorio: 0.25    Ventas Simuladas: 40    Ventas Reales: 40    Ventas Perdidas: 0    Periodicos No Vendidos: 10    Beneficio Diario: -2.0    Beneficio Promedio: 3\n",
            "Dia: 175    Num. Aleatorio: 0.07    Ventas Simuladas: 30    Ventas Reales: 30    Ventas Perdidas: 0    Periodicos No Vendidos: 20    Beneficio Diario: -14.0    Beneficio Promedio: 3\n",
            "Dia: 176    Num. Aleatorio: 0.94    Ventas Simuladas: 70    Ventas Reales: 50    Ventas Perdidas: 20    Periodicos No Vendidos: 0    Beneficio Diario: 6.0    Beneficio Promedio: 3\n",
            "Dia: 177    Num. Aleatorio: 0.48    Ventas Simuladas: 50    Ventas Reales: 50    Ventas Perdidas: 0    Periodicos No Vendidos: 0    Beneficio Diario: 10.0    Beneficio Promedio: 3\n",
            "Dia: 178    Num. Aleatorio: 0.33    Ventas Simuladas: 40    Ventas Reales: 40    Ventas Perdidas: 0    Periodicos No Vendidos: 10    Beneficio Diario: -2.0    Beneficio Promedio: 3\n",
            "Dia: 179    Num. Aleatorio: 0.59    Ventas Simuladas: 50    Ventas Reales: 50    Ventas Perdidas: 0    Periodicos No Vendidos: 0    Beneficio Diario: 10.0    Beneficio Promedio: 3\n",
            "Dia: 180    Num. Aleatorio: 0.82    Ventas Simuladas: 60    Ventas Reales: 50    Ventas Perdidas: 10    Periodicos No Vendidos: 0    Beneficio Diario: 8.0    Beneficio Promedio: 3\n",
            "Dia: 181    Num. Aleatorio: 0.63    Ventas Simuladas: 50    Ventas Reales: 50    Ventas Perdidas: 0    Periodicos No Vendidos: 0    Beneficio Diario: 10.0    Beneficio Promedio: 3\n",
            "Dia: 182    Num. Aleatorio: 0.45    Ventas Simuladas: 50    Ventas Reales: 50    Ventas Perdidas: 0    Periodicos No Vendidos: 0    Beneficio Diario: 10.0    Beneficio Promedio: 3\n",
            "Dia: 183    Num. Aleatorio: 0.67    Ventas Simuladas: 50    Ventas Reales: 50    Ventas Perdidas: 0    Periodicos No Vendidos: 0    Beneficio Diario: 10.0    Beneficio Promedio: 3\n",
            "Dia: 184    Num. Aleatorio: 0.94    Ventas Simuladas: 70    Ventas Reales: 50    Ventas Perdidas: 20    Periodicos No Vendidos: 0    Beneficio Diario: 6.0    Beneficio Promedio: 3\n",
            "Dia: 185    Num. Aleatorio: 0.22    Ventas Simuladas: 40    Ventas Reales: 40    Ventas Perdidas: 0    Periodicos No Vendidos: 10    Beneficio Diario: -2.0    Beneficio Promedio: 3\n",
            "Dia: 186    Num. Aleatorio: 0.31    Ventas Simuladas: 40    Ventas Reales: 40    Ventas Perdidas: 0    Periodicos No Vendidos: 10    Beneficio Diario: -2.0    Beneficio Promedio: 3\n",
            "Dia: 187    Num. Aleatorio: 0.55    Ventas Simuladas: 50    Ventas Reales: 50    Ventas Perdidas: 0    Periodicos No Vendidos: 0    Beneficio Diario: 10.0    Beneficio Promedio: 3\n",
            "Dia: 188    Num. Aleatorio: 0.75    Ventas Simuladas: 60    Ventas Reales: 50    Ventas Perdidas: 10    Periodicos No Vendidos: 0    Beneficio Diario: 8.0    Beneficio Promedio: 3\n",
            "Dia: 189    Num. Aleatorio: 0.4    Ventas Simuladas: 40    Ventas Reales: 40    Ventas Perdidas: 0    Periodicos No Vendidos: 10    Beneficio Diario: -2.0    Beneficio Promedio: 3\n",
            "Dia: 190    Num. Aleatorio: 0.71    Ventas Simuladas: 60    Ventas Reales: 50    Ventas Perdidas: 10    Periodicos No Vendidos: 0    Beneficio Diario: 8.0    Beneficio Promedio: 3\n",
            "Dia: 191    Num. Aleatorio: 0.92    Ventas Simuladas: 70    Ventas Reales: 50    Ventas Perdidas: 20    Periodicos No Vendidos: 0    Beneficio Diario: 6.0    Beneficio Promedio: 3\n",
            "Dia: 192    Num. Aleatorio: 0.09    Ventas Simuladas: 30    Ventas Reales: 30    Ventas Perdidas: 0    Periodicos No Vendidos: 20    Beneficio Diario: -14.0    Beneficio Promedio: 3\n",
            "Dia: 193    Num. Aleatorio: 0.5    Ventas Simuladas: 50    Ventas Reales: 50    Ventas Perdidas: 0    Periodicos No Vendidos: 0    Beneficio Diario: 10.0    Beneficio Promedio: 3\n",
            "Dia: 194    Num. Aleatorio: 0.25    Ventas Simuladas: 40    Ventas Reales: 40    Ventas Perdidas: 0    Periodicos No Vendidos: 10    Beneficio Diario: -2.0    Beneficio Promedio: 3\n",
            "Dia: 195    Num. Aleatorio: 0.85    Ventas Simuladas: 60    Ventas Reales: 50    Ventas Perdidas: 10    Periodicos No Vendidos: 0    Beneficio Diario: 8.0    Beneficio Promedio: 3\n",
            "Dia: 196    Num. Aleatorio: 0.73    Ventas Simuladas: 60    Ventas Reales: 50    Ventas Perdidas: 10    Periodicos No Vendidos: 0    Beneficio Diario: 8.0    Beneficio Promedio: 3\n",
            "Dia: 197    Num. Aleatorio: 0.87    Ventas Simuladas: 60    Ventas Reales: 50    Ventas Perdidas: 10    Periodicos No Vendidos: 0    Beneficio Diario: 8.0    Beneficio Promedio: 3\n",
            "Dia: 198    Num. Aleatorio: 0.84    Ventas Simuladas: 60    Ventas Reales: 50    Ventas Perdidas: 10    Periodicos No Vendidos: 0    Beneficio Diario: 8.0    Beneficio Promedio: 3\n",
            "Dia: 199    Num. Aleatorio: 0.37    Ventas Simuladas: 40    Ventas Reales: 40    Ventas Perdidas: 0    Periodicos No Vendidos: 10    Beneficio Diario: -2.0    Beneficio Promedio: 3\n",
            "Dia: 200    Num. Aleatorio: 0.22    Ventas Simuladas: 40    Ventas Reales: 40    Ventas Perdidas: 0    Periodicos No Vendidos: 10    Beneficio Diario: -2.0    Beneficio Promedio: 3\n",
            "Dia: 201    Num. Aleatorio: 0.44    Ventas Simuladas: 40    Ventas Reales: 40    Ventas Perdidas: 0    Periodicos No Vendidos: 10    Beneficio Diario: -2.0    Beneficio Promedio: 3\n",
            "Dia: 202    Num. Aleatorio: 0.59    Ventas Simuladas: 50    Ventas Reales: 50    Ventas Perdidas: 0    Periodicos No Vendidos: 0    Beneficio Diario: 10.0    Beneficio Promedio: 3\n",
            "Dia: 203    Num. Aleatorio: 0.04    Ventas Simuladas: 30    Ventas Reales: 30    Ventas Perdidas: 0    Periodicos No Vendidos: 20    Beneficio Diario: -14.0    Beneficio Promedio: 3\n",
            "Dia: 204    Num. Aleatorio: 0.58    Ventas Simuladas: 50    Ventas Reales: 50    Ventas Perdidas: 0    Periodicos No Vendidos: 0    Beneficio Diario: 10.0    Beneficio Promedio: 3\n",
            "Dia: 205    Num. Aleatorio: 0.66    Ventas Simuladas: 50    Ventas Reales: 50    Ventas Perdidas: 0    Periodicos No Vendidos: 0    Beneficio Diario: 10.0    Beneficio Promedio: 3\n",
            "Dia: 206    Num. Aleatorio: 0.72    Ventas Simuladas: 60    Ventas Reales: 50    Ventas Perdidas: 10    Periodicos No Vendidos: 0    Beneficio Diario: 8.0    Beneficio Promedio: 3\n",
            "Dia: 207    Num. Aleatorio: 0.4    Ventas Simuladas: 40    Ventas Reales: 40    Ventas Perdidas: 0    Periodicos No Vendidos: 10    Beneficio Diario: -2.0    Beneficio Promedio: 3\n",
            "Dia: 208    Num. Aleatorio: 0.42    Ventas Simuladas: 40    Ventas Reales: 40    Ventas Perdidas: 0    Periodicos No Vendidos: 10    Beneficio Diario: -2.0    Beneficio Promedio: 3\n",
            "Dia: 209    Num. Aleatorio: 0.96    Ventas Simuladas: 70    Ventas Reales: 50    Ventas Perdidas: 20    Periodicos No Vendidos: 0    Beneficio Diario: 6.0    Beneficio Promedio: 3\n",
            "Dia: 210    Num. Aleatorio: 0.76    Ventas Simuladas: 60    Ventas Reales: 50    Ventas Perdidas: 10    Periodicos No Vendidos: 0    Beneficio Diario: 8.0    Beneficio Promedio: 3\n",
            "Dia: 211    Num. Aleatorio: 0.98    Ventas Simuladas: 70    Ventas Reales: 50    Ventas Perdidas: 20    Periodicos No Vendidos: 0    Beneficio Diario: 6.0    Beneficio Promedio: 3\n",
            "Dia: 212    Num. Aleatorio: 0.01    Ventas Simuladas: 30    Ventas Reales: 30    Ventas Perdidas: 0    Periodicos No Vendidos: 20    Beneficio Diario: -14.0    Beneficio Promedio: 3\n",
            "Dia: 213    Num. Aleatorio: 0.88    Ventas Simuladas: 60    Ventas Reales: 50    Ventas Perdidas: 10    Periodicos No Vendidos: 0    Beneficio Diario: 8.0    Beneficio Promedio: 3\n",
            "Dia: 214    Num. Aleatorio: 0.73    Ventas Simuladas: 60    Ventas Reales: 50    Ventas Perdidas: 10    Periodicos No Vendidos: 0    Beneficio Diario: 8.0    Beneficio Promedio: 3\n",
            "Dia: 215    Num. Aleatorio: 0.03    Ventas Simuladas: 30    Ventas Reales: 30    Ventas Perdidas: 0    Periodicos No Vendidos: 20    Beneficio Diario: -14.0    Beneficio Promedio: 3\n",
            "Dia: 216    Num. Aleatorio: 0.02    Ventas Simuladas: 30    Ventas Reales: 30    Ventas Perdidas: 0    Periodicos No Vendidos: 20    Beneficio Diario: -14.0    Beneficio Promedio: 3\n",
            "Dia: 217    Num. Aleatorio: 0.87    Ventas Simuladas: 60    Ventas Reales: 50    Ventas Perdidas: 10    Periodicos No Vendidos: 0    Beneficio Diario: 8.0    Beneficio Promedio: 3\n",
            "Dia: 218    Num. Aleatorio: 0.65    Ventas Simuladas: 50    Ventas Reales: 50    Ventas Perdidas: 0    Periodicos No Vendidos: 0    Beneficio Diario: 10.0    Beneficio Promedio: 3\n",
            "Dia: 219    Num. Aleatorio: 0.49    Ventas Simuladas: 50    Ventas Reales: 50    Ventas Perdidas: 0    Periodicos No Vendidos: 0    Beneficio Diario: 10.0    Beneficio Promedio: 3\n",
            "Dia: 220    Num. Aleatorio: 0.11    Ventas Simuladas: 30    Ventas Reales: 30    Ventas Perdidas: 0    Periodicos No Vendidos: 20    Beneficio Diario: -14.0    Beneficio Promedio: 3\n",
            "Dia: 221    Num. Aleatorio: 0.25    Ventas Simuladas: 40    Ventas Reales: 40    Ventas Perdidas: 0    Periodicos No Vendidos: 10    Beneficio Diario: -2.0    Beneficio Promedio: 3\n",
            "Dia: 222    Num. Aleatorio: 0.68    Ventas Simuladas: 50    Ventas Reales: 50    Ventas Perdidas: 0    Periodicos No Vendidos: 0    Beneficio Diario: 10.0    Beneficio Promedio: 3\n",
            "Dia: 223    Num. Aleatorio: 0.08    Ventas Simuladas: 30    Ventas Reales: 30    Ventas Perdidas: 0    Periodicos No Vendidos: 20    Beneficio Diario: -14.0    Beneficio Promedio: 3\n",
            "Dia: 224    Num. Aleatorio: 0.57    Ventas Simuladas: 50    Ventas Reales: 50    Ventas Perdidas: 0    Periodicos No Vendidos: 0    Beneficio Diario: 10.0    Beneficio Promedio: 3\n",
            "Dia: 225    Num. Aleatorio: 0.16    Ventas Simuladas: 30    Ventas Reales: 30    Ventas Perdidas: 0    Periodicos No Vendidos: 20    Beneficio Diario: -14.0    Beneficio Promedio: 3\n",
            "Dia: 226    Num. Aleatorio: 0.2    Ventas Simuladas: 30    Ventas Reales: 30    Ventas Perdidas: 0    Periodicos No Vendidos: 20    Beneficio Diario: -14.0    Beneficio Promedio: 3\n",
            "Dia: 227    Num. Aleatorio: 0.94    Ventas Simuladas: 70    Ventas Reales: 50    Ventas Perdidas: 20    Periodicos No Vendidos: 0    Beneficio Diario: 6.0    Beneficio Promedio: 3\n",
            "Dia: 228    Num. Aleatorio: 0.08    Ventas Simuladas: 30    Ventas Reales: 30    Ventas Perdidas: 0    Periodicos No Vendidos: 20    Beneficio Diario: -14.0    Beneficio Promedio: 2\n",
            "Dia: 229    Num. Aleatorio: 0.78    Ventas Simuladas: 60    Ventas Reales: 50    Ventas Perdidas: 10    Periodicos No Vendidos: 0    Beneficio Diario: 8.0    Beneficio Promedio: 2\n",
            "Dia: 230    Num. Aleatorio: 0.98    Ventas Simuladas: 70    Ventas Reales: 50    Ventas Perdidas: 20    Periodicos No Vendidos: 0    Beneficio Diario: 6.0    Beneficio Promedio: 3\n",
            "Dia: 231    Num. Aleatorio: 0.33    Ventas Simuladas: 40    Ventas Reales: 40    Ventas Perdidas: 0    Periodicos No Vendidos: 10    Beneficio Diario: -2.0    Beneficio Promedio: 2\n",
            "Dia: 232    Num. Aleatorio: 0.44    Ventas Simuladas: 40    Ventas Reales: 40    Ventas Perdidas: 0    Periodicos No Vendidos: 10    Beneficio Diario: -2.0    Beneficio Promedio: 2\n",
            "Dia: 233    Num. Aleatorio: 0.26    Ventas Simuladas: 40    Ventas Reales: 40    Ventas Perdidas: 0    Periodicos No Vendidos: 10    Beneficio Diario: -2.0    Beneficio Promedio: 2\n",
            "Dia: 234    Num. Aleatorio: 0.78    Ventas Simuladas: 60    Ventas Reales: 50    Ventas Perdidas: 10    Periodicos No Vendidos: 0    Beneficio Diario: 8.0    Beneficio Promedio: 2\n",
            "Dia: 235    Num. Aleatorio: 0.84    Ventas Simuladas: 60    Ventas Reales: 50    Ventas Perdidas: 10    Periodicos No Vendidos: 0    Beneficio Diario: 8.0    Beneficio Promedio: 2\n",
            "Dia: 236    Num. Aleatorio: 0.59    Ventas Simuladas: 50    Ventas Reales: 50    Ventas Perdidas: 0    Periodicos No Vendidos: 0    Beneficio Diario: 10.0    Beneficio Promedio: 3\n",
            "Dia: 237    Num. Aleatorio: 0.21    Ventas Simuladas: 40    Ventas Reales: 40    Ventas Perdidas: 0    Periodicos No Vendidos: 10    Beneficio Diario: -2.0    Beneficio Promedio: 3\n",
            "Dia: 238    Num. Aleatorio: 0.59    Ventas Simuladas: 50    Ventas Reales: 50    Ventas Perdidas: 0    Periodicos No Vendidos: 0    Beneficio Diario: 10.0    Beneficio Promedio: 3\n",
            "Dia: 239    Num. Aleatorio: 0.28    Ventas Simuladas: 40    Ventas Reales: 40    Ventas Perdidas: 0    Periodicos No Vendidos: 10    Beneficio Diario: -2.0    Beneficio Promedio: 3\n",
            "Dia: 240    Num. Aleatorio: 0.74    Ventas Simuladas: 60    Ventas Reales: 50    Ventas Perdidas: 10    Periodicos No Vendidos: 0    Beneficio Diario: 8.0    Beneficio Promedio: 3\n",
            "Dia: 241    Num. Aleatorio: 0.68    Ventas Simuladas: 50    Ventas Reales: 50    Ventas Perdidas: 0    Periodicos No Vendidos: 0    Beneficio Diario: 10.0    Beneficio Promedio: 3\n",
            "Dia: 242    Num. Aleatorio: 0.65    Ventas Simuladas: 50    Ventas Reales: 50    Ventas Perdidas: 0    Periodicos No Vendidos: 0    Beneficio Diario: 10.0    Beneficio Promedio: 3\n",
            "Dia: 243    Num. Aleatorio: 0.75    Ventas Simuladas: 60    Ventas Reales: 50    Ventas Perdidas: 10    Periodicos No Vendidos: 0    Beneficio Diario: 8.0    Beneficio Promedio: 3\n",
            "Dia: 244    Num. Aleatorio: 0.04    Ventas Simuladas: 30    Ventas Reales: 30    Ventas Perdidas: 0    Periodicos No Vendidos: 20    Beneficio Diario: -14.0    Beneficio Promedio: 3\n",
            "Dia: 245    Num. Aleatorio: 0.75    Ventas Simuladas: 60    Ventas Reales: 50    Ventas Perdidas: 10    Periodicos No Vendidos: 0    Beneficio Diario: 8.0    Beneficio Promedio: 3\n",
            "Dia: 246    Num. Aleatorio: 0.66    Ventas Simuladas: 50    Ventas Reales: 50    Ventas Perdidas: 0    Periodicos No Vendidos: 0    Beneficio Diario: 10.0    Beneficio Promedio: 3\n",
            "Dia: 247    Num. Aleatorio: 0.38    Ventas Simuladas: 40    Ventas Reales: 40    Ventas Perdidas: 0    Periodicos No Vendidos: 10    Beneficio Diario: -2.0    Beneficio Promedio: 3\n",
            "Dia: 248    Num. Aleatorio: 0.49    Ventas Simuladas: 50    Ventas Reales: 50    Ventas Perdidas: 0    Periodicos No Vendidos: 0    Beneficio Diario: 10.0    Beneficio Promedio: 3\n",
            "Dia: 249    Num. Aleatorio: 0.22    Ventas Simuladas: 40    Ventas Reales: 40    Ventas Perdidas: 0    Periodicos No Vendidos: 10    Beneficio Diario: -2.0    Beneficio Promedio: 3\n",
            "Dia: 250    Num. Aleatorio: 0.84    Ventas Simuladas: 60    Ventas Reales: 50    Ventas Perdidas: 10    Periodicos No Vendidos: 0    Beneficio Diario: 8.0    Beneficio Promedio: 3\n",
            "Dia: 251    Num. Aleatorio: 0.48    Ventas Simuladas: 50    Ventas Reales: 50    Ventas Perdidas: 0    Periodicos No Vendidos: 0    Beneficio Diario: 10.0    Beneficio Promedio: 3\n",
            "Dia: 252    Num. Aleatorio: 0.82    Ventas Simuladas: 60    Ventas Reales: 50    Ventas Perdidas: 10    Periodicos No Vendidos: 0    Beneficio Diario: 8.0    Beneficio Promedio: 3\n",
            "Dia: 253    Num. Aleatorio: 0.56    Ventas Simuladas: 50    Ventas Reales: 50    Ventas Perdidas: 0    Periodicos No Vendidos: 0    Beneficio Diario: 10.0    Beneficio Promedio: 3\n",
            "Dia: 254    Num. Aleatorio: 0.63    Ventas Simuladas: 50    Ventas Reales: 50    Ventas Perdidas: 0    Periodicos No Vendidos: 0    Beneficio Diario: 10.0    Beneficio Promedio: 3\n",
            "Dia: 255    Num. Aleatorio: 0.6    Ventas Simuladas: 50    Ventas Reales: 50    Ventas Perdidas: 0    Periodicos No Vendidos: 0    Beneficio Diario: 10.0    Beneficio Promedio: 3\n",
            "Dia: 256    Num. Aleatorio: 0.05    Ventas Simuladas: 30    Ventas Reales: 30    Ventas Perdidas: 0    Periodicos No Vendidos: 20    Beneficio Diario: -14.0    Beneficio Promedio: 3\n",
            "Dia: 257    Num. Aleatorio: 0.07    Ventas Simuladas: 30    Ventas Reales: 30    Ventas Perdidas: 0    Periodicos No Vendidos: 20    Beneficio Diario: -14.0    Beneficio Promedio: 3\n",
            "Dia: 258    Num. Aleatorio: 0.93    Ventas Simuladas: 70    Ventas Reales: 50    Ventas Perdidas: 20    Periodicos No Vendidos: 0    Beneficio Diario: 6.0    Beneficio Promedio: 3\n",
            "Dia: 259    Num. Aleatorio: 0.89    Ventas Simuladas: 60    Ventas Reales: 50    Ventas Perdidas: 10    Periodicos No Vendidos: 0    Beneficio Diario: 8.0    Beneficio Promedio: 3\n",
            "Dia: 260    Num. Aleatorio: 0.09    Ventas Simuladas: 30    Ventas Reales: 30    Ventas Perdidas: 0    Periodicos No Vendidos: 20    Beneficio Diario: -14.0    Beneficio Promedio: 3\n",
            "Dia: 261    Num. Aleatorio: 0.6    Ventas Simuladas: 50    Ventas Reales: 50    Ventas Perdidas: 0    Periodicos No Vendidos: 0    Beneficio Diario: 10.0    Beneficio Promedio: 3\n",
            "Dia: 262    Num. Aleatorio: 0.01    Ventas Simuladas: 30    Ventas Reales: 30    Ventas Perdidas: 0    Periodicos No Vendidos: 20    Beneficio Diario: -14.0    Beneficio Promedio: 3\n",
            "Dia: 263    Num. Aleatorio: 0.21    Ventas Simuladas: 40    Ventas Reales: 40    Ventas Perdidas: 0    Periodicos No Vendidos: 10    Beneficio Diario: -2.0    Beneficio Promedio: 3\n",
            "Dia: 264    Num. Aleatorio: 0.33    Ventas Simuladas: 40    Ventas Reales: 40    Ventas Perdidas: 0    Periodicos No Vendidos: 10    Beneficio Diario: -2.0    Beneficio Promedio: 3\n",
            "Dia: 265    Num. Aleatorio: 0.37    Ventas Simuladas: 40    Ventas Reales: 40    Ventas Perdidas: 0    Periodicos No Vendidos: 10    Beneficio Diario: -2.0    Beneficio Promedio: 3\n",
            "Dia: 266    Num. Aleatorio: 0.56    Ventas Simuladas: 50    Ventas Reales: 50    Ventas Perdidas: 0    Periodicos No Vendidos: 0    Beneficio Diario: 10.0    Beneficio Promedio: 3\n",
            "Dia: 267    Num. Aleatorio: 0.13    Ventas Simuladas: 30    Ventas Reales: 30    Ventas Perdidas: 0    Periodicos No Vendidos: 20    Beneficio Diario: -14.0    Beneficio Promedio: 2\n",
            "Dia: 268    Num. Aleatorio: 0.03    Ventas Simuladas: 30    Ventas Reales: 30    Ventas Perdidas: 0    Periodicos No Vendidos: 20    Beneficio Diario: -14.0    Beneficio Promedio: 2\n",
            "Dia: 269    Num. Aleatorio: 0.48    Ventas Simuladas: 50    Ventas Reales: 50    Ventas Perdidas: 0    Periodicos No Vendidos: 0    Beneficio Diario: 10.0    Beneficio Promedio: 2\n",
            "Dia: 270    Num. Aleatorio: 0.54    Ventas Simuladas: 50    Ventas Reales: 50    Ventas Perdidas: 0    Periodicos No Vendidos: 0    Beneficio Diario: 10.0    Beneficio Promedio: 2\n",
            "Dia: 271    Num. Aleatorio: 0.84    Ventas Simuladas: 60    Ventas Reales: 50    Ventas Perdidas: 10    Periodicos No Vendidos: 0    Beneficio Diario: 8.0    Beneficio Promedio: 2\n",
            "Dia: 272    Num. Aleatorio: 0.66    Ventas Simuladas: 50    Ventas Reales: 50    Ventas Perdidas: 0    Periodicos No Vendidos: 0    Beneficio Diario: 10.0    Beneficio Promedio: 3\n",
            "Dia: 273    Num. Aleatorio: 0.16    Ventas Simuladas: 30    Ventas Reales: 30    Ventas Perdidas: 0    Periodicos No Vendidos: 20    Beneficio Diario: -14.0    Beneficio Promedio: 2\n",
            "Dia: 274    Num. Aleatorio: 0.53    Ventas Simuladas: 50    Ventas Reales: 50    Ventas Perdidas: 0    Periodicos No Vendidos: 0    Beneficio Diario: 10.0    Beneficio Promedio: 2\n",
            "Dia: 275    Num. Aleatorio: 0.51    Ventas Simuladas: 50    Ventas Reales: 50    Ventas Perdidas: 0    Periodicos No Vendidos: 0    Beneficio Diario: 10.0    Beneficio Promedio: 3\n",
            "Dia: 276    Num. Aleatorio: 0.32    Ventas Simuladas: 40    Ventas Reales: 40    Ventas Perdidas: 0    Periodicos No Vendidos: 10    Beneficio Diario: -2.0    Beneficio Promedio: 3\n",
            "Dia: 277    Num. Aleatorio: 0.96    Ventas Simuladas: 70    Ventas Reales: 50    Ventas Perdidas: 20    Periodicos No Vendidos: 0    Beneficio Diario: 6.0    Beneficio Promedio: 3\n",
            "Dia: 278    Num. Aleatorio: 0.33    Ventas Simuladas: 40    Ventas Reales: 40    Ventas Perdidas: 0    Periodicos No Vendidos: 10    Beneficio Diario: -2.0    Beneficio Promedio: 2\n",
            "Dia: 279    Num. Aleatorio: 0.63    Ventas Simuladas: 50    Ventas Reales: 50    Ventas Perdidas: 0    Periodicos No Vendidos: 0    Beneficio Diario: 10.0    Beneficio Promedio: 3\n",
            "Dia: 280    Num. Aleatorio: 0.95    Ventas Simuladas: 70    Ventas Reales: 50    Ventas Perdidas: 20    Periodicos No Vendidos: 0    Beneficio Diario: 6.0    Beneficio Promedio: 3\n",
            "Dia: 281    Num. Aleatorio: 0.49    Ventas Simuladas: 50    Ventas Reales: 50    Ventas Perdidas: 0    Periodicos No Vendidos: 0    Beneficio Diario: 10.0    Beneficio Promedio: 3\n",
            "Dia: 282    Num. Aleatorio: 0.38    Ventas Simuladas: 40    Ventas Reales: 40    Ventas Perdidas: 0    Periodicos No Vendidos: 10    Beneficio Diario: -2.0    Beneficio Promedio: 3\n",
            "Dia: 283    Num. Aleatorio: 0.71    Ventas Simuladas: 60    Ventas Reales: 50    Ventas Perdidas: 10    Periodicos No Vendidos: 0    Beneficio Diario: 8.0    Beneficio Promedio: 3\n",
            "Dia: 284    Num. Aleatorio: 0.59    Ventas Simuladas: 50    Ventas Reales: 50    Ventas Perdidas: 0    Periodicos No Vendidos: 0    Beneficio Diario: 10.0    Beneficio Promedio: 3\n",
            "Dia: 285    Num. Aleatorio: 0.22    Ventas Simuladas: 40    Ventas Reales: 40    Ventas Perdidas: 0    Periodicos No Vendidos: 10    Beneficio Diario: -2.0    Beneficio Promedio: 3\n",
            "Dia: 286    Num. Aleatorio: 0.45    Ventas Simuladas: 40    Ventas Reales: 40    Ventas Perdidas: 0    Periodicos No Vendidos: 10    Beneficio Diario: -2.0    Beneficio Promedio: 3\n",
            "Dia: 287    Num. Aleatorio: 0.74    Ventas Simuladas: 60    Ventas Reales: 50    Ventas Perdidas: 10    Periodicos No Vendidos: 0    Beneficio Diario: 8.0    Beneficio Promedio: 3\n",
            "Dia: 288    Num. Aleatorio: 0.78    Ventas Simuladas: 60    Ventas Reales: 50    Ventas Perdidas: 10    Periodicos No Vendidos: 0    Beneficio Diario: 8.0    Beneficio Promedio: 3\n",
            "Dia: 289    Num. Aleatorio: 0.2    Ventas Simuladas: 30    Ventas Reales: 30    Ventas Perdidas: 0    Periodicos No Vendidos: 20    Beneficio Diario: -14.0    Beneficio Promedio: 3\n",
            "Dia: 290    Num. Aleatorio: 0.46    Ventas Simuladas: 50    Ventas Reales: 50    Ventas Perdidas: 0    Periodicos No Vendidos: 0    Beneficio Diario: 10.0    Beneficio Promedio: 3\n",
            "Dia: 291    Num. Aleatorio: 0.17    Ventas Simuladas: 30    Ventas Reales: 30    Ventas Perdidas: 0    Periodicos No Vendidos: 20    Beneficio Diario: -14.0    Beneficio Promedio: 3\n",
            "Dia: 292    Num. Aleatorio: 0.3    Ventas Simuladas: 40    Ventas Reales: 40    Ventas Perdidas: 0    Periodicos No Vendidos: 10    Beneficio Diario: -2.0    Beneficio Promedio: 2\n",
            "Dia: 293    Num. Aleatorio: 0.39    Ventas Simuladas: 40    Ventas Reales: 40    Ventas Perdidas: 0    Periodicos No Vendidos: 10    Beneficio Diario: -2.0    Beneficio Promedio: 2\n",
            "Dia: 294    Num. Aleatorio: 0.35    Ventas Simuladas: 40    Ventas Reales: 40    Ventas Perdidas: 0    Periodicos No Vendidos: 10    Beneficio Diario: -2.0    Beneficio Promedio: 2\n",
            "Dia: 295    Num. Aleatorio: 0.31    Ventas Simuladas: 40    Ventas Reales: 40    Ventas Perdidas: 0    Periodicos No Vendidos: 10    Beneficio Diario: -2.0    Beneficio Promedio: 2\n",
            "Dia: 296    Num. Aleatorio: 0.67    Ventas Simuladas: 50    Ventas Reales: 50    Ventas Perdidas: 0    Periodicos No Vendidos: 0    Beneficio Diario: 10.0    Beneficio Promedio: 2\n",
            "Dia: 297    Num. Aleatorio: 0.06    Ventas Simuladas: 30    Ventas Reales: 30    Ventas Perdidas: 0    Periodicos No Vendidos: 20    Beneficio Diario: -14.0    Beneficio Promedio: 2\n",
            "Dia: 298    Num. Aleatorio: 0.41    Ventas Simuladas: 40    Ventas Reales: 40    Ventas Perdidas: 0    Periodicos No Vendidos: 10    Beneficio Diario: -2.0    Beneficio Promedio: 2\n",
            "Dia: 299    Num. Aleatorio: 0.99    Ventas Simuladas: 70    Ventas Reales: 50    Ventas Perdidas: 20    Periodicos No Vendidos: 0    Beneficio Diario: 6.0    Beneficio Promedio: 2\n",
            "Dia: 300    Num. Aleatorio: 0.95    Ventas Simuladas: 70    Ventas Reales: 50    Ventas Perdidas: 20    Periodicos No Vendidos: 0    Beneficio Diario: 6.0    Beneficio Promedio: 2\n",
            "Dia: 301    Num. Aleatorio: 0.49    Ventas Simuladas: 50    Ventas Reales: 50    Ventas Perdidas: 0    Periodicos No Vendidos: 0    Beneficio Diario: 10.0    Beneficio Promedio: 2\n",
            "Dia: 302    Num. Aleatorio: 0.19    Ventas Simuladas: 30    Ventas Reales: 30    Ventas Perdidas: 0    Periodicos No Vendidos: 20    Beneficio Diario: -14.0    Beneficio Promedio: 2\n",
            "Dia: 303    Num. Aleatorio: 0.23    Ventas Simuladas: 40    Ventas Reales: 40    Ventas Perdidas: 0    Periodicos No Vendidos: 10    Beneficio Diario: -2.0    Beneficio Promedio: 2\n",
            "Dia: 304    Num. Aleatorio: 0.25    Ventas Simuladas: 40    Ventas Reales: 40    Ventas Perdidas: 0    Periodicos No Vendidos: 10    Beneficio Diario: -2.0    Beneficio Promedio: 2\n",
            "Dia: 305    Num. Aleatorio: 0.27    Ventas Simuladas: 40    Ventas Reales: 40    Ventas Perdidas: 0    Periodicos No Vendidos: 10    Beneficio Diario: -2.0    Beneficio Promedio: 2\n",
            "Dia: 306    Num. Aleatorio: 0.95    Ventas Simuladas: 70    Ventas Reales: 50    Ventas Perdidas: 20    Periodicos No Vendidos: 0    Beneficio Diario: 6.0    Beneficio Promedio: 2\n",
            "Dia: 307    Num. Aleatorio: 0.86    Ventas Simuladas: 60    Ventas Reales: 50    Ventas Perdidas: 10    Periodicos No Vendidos: 0    Beneficio Diario: 8.0    Beneficio Promedio: 2\n",
            "Dia: 308    Num. Aleatorio: 0.11    Ventas Simuladas: 30    Ventas Reales: 30    Ventas Perdidas: 0    Periodicos No Vendidos: 20    Beneficio Diario: -14.0    Beneficio Promedio: 2\n",
            "Dia: 309    Num. Aleatorio: 0.66    Ventas Simuladas: 50    Ventas Reales: 50    Ventas Perdidas: 0    Periodicos No Vendidos: 0    Beneficio Diario: 10.0    Beneficio Promedio: 2\n",
            "Dia: 310    Num. Aleatorio: 0.83    Ventas Simuladas: 60    Ventas Reales: 50    Ventas Perdidas: 10    Periodicos No Vendidos: 0    Beneficio Diario: 8.0    Beneficio Promedio: 2\n",
            "Dia: 311    Num. Aleatorio: 0.34    Ventas Simuladas: 40    Ventas Reales: 40    Ventas Perdidas: 0    Periodicos No Vendidos: 10    Beneficio Diario: -2.0    Beneficio Promedio: 2\n",
            "Dia: 312    Num. Aleatorio: 0.45    Ventas Simuladas: 50    Ventas Reales: 50    Ventas Perdidas: 0    Periodicos No Vendidos: 0    Beneficio Diario: 10.0    Beneficio Promedio: 2\n",
            "Dia: 313    Num. Aleatorio: 0.89    Ventas Simuladas: 60    Ventas Reales: 50    Ventas Perdidas: 10    Periodicos No Vendidos: 0    Beneficio Diario: 8.0    Beneficio Promedio: 2\n",
            "Dia: 314    Num. Aleatorio: 0.79    Ventas Simuladas: 60    Ventas Reales: 50    Ventas Perdidas: 10    Periodicos No Vendidos: 0    Beneficio Diario: 8.0    Beneficio Promedio: 2\n",
            "Dia: 315    Num. Aleatorio: 0.47    Ventas Simuladas: 50    Ventas Reales: 50    Ventas Perdidas: 0    Periodicos No Vendidos: 0    Beneficio Diario: 10.0    Beneficio Promedio: 2\n",
            "Dia: 316    Num. Aleatorio: 0.91    Ventas Simuladas: 70    Ventas Reales: 50    Ventas Perdidas: 20    Periodicos No Vendidos: 0    Beneficio Diario: 6.0    Beneficio Promedio: 2\n",
            "Dia: 317    Num. Aleatorio: 0.35    Ventas Simuladas: 40    Ventas Reales: 40    Ventas Perdidas: 0    Periodicos No Vendidos: 10    Beneficio Diario: -2.0    Beneficio Promedio: 2\n",
            "Dia: 318    Num. Aleatorio: 0.8    Ventas Simuladas: 60    Ventas Reales: 50    Ventas Perdidas: 10    Periodicos No Vendidos: 0    Beneficio Diario: 8.0    Beneficio Promedio: 2\n",
            "Dia: 319    Num. Aleatorio: 0.39    Ventas Simuladas: 40    Ventas Reales: 40    Ventas Perdidas: 0    Periodicos No Vendidos: 10    Beneficio Diario: -2.0    Beneficio Promedio: 2\n",
            "Dia: 320    Num. Aleatorio: 0.01    Ventas Simuladas: 30    Ventas Reales: 30    Ventas Perdidas: 0    Periodicos No Vendidos: 20    Beneficio Diario: -14.0    Beneficio Promedio: 2\n",
            "Dia: 321    Num. Aleatorio: 0.98    Ventas Simuladas: 70    Ventas Reales: 50    Ventas Perdidas: 20    Periodicos No Vendidos: 0    Beneficio Diario: 6.0    Beneficio Promedio: 2\n",
            "Dia: 322    Num. Aleatorio: 0.94    Ventas Simuladas: 70    Ventas Reales: 50    Ventas Perdidas: 20    Periodicos No Vendidos: 0    Beneficio Diario: 6.0    Beneficio Promedio: 2\n",
            "Dia: 323    Num. Aleatorio: 0.61    Ventas Simuladas: 50    Ventas Reales: 50    Ventas Perdidas: 0    Periodicos No Vendidos: 0    Beneficio Diario: 10.0    Beneficio Promedio: 2\n",
            "Dia: 324    Num. Aleatorio: 0.04    Ventas Simuladas: 30    Ventas Reales: 30    Ventas Perdidas: 0    Periodicos No Vendidos: 20    Beneficio Diario: -14.0    Beneficio Promedio: 2\n",
            "Dia: 325    Num. Aleatorio: 0.17    Ventas Simuladas: 30    Ventas Reales: 30    Ventas Perdidas: 0    Periodicos No Vendidos: 20    Beneficio Diario: -14.0    Beneficio Promedio: 2\n",
            "Dia: 326    Num. Aleatorio: 0.83    Ventas Simuladas: 60    Ventas Reales: 50    Ventas Perdidas: 10    Periodicos No Vendidos: 0    Beneficio Diario: 8.0    Beneficio Promedio: 2\n",
            "Dia: 327    Num. Aleatorio: 0.59    Ventas Simuladas: 50    Ventas Reales: 50    Ventas Perdidas: 0    Periodicos No Vendidos: 0    Beneficio Diario: 10.0    Beneficio Promedio: 2\n",
            "Dia: 328    Num. Aleatorio: 0.62    Ventas Simuladas: 50    Ventas Reales: 50    Ventas Perdidas: 0    Periodicos No Vendidos: 0    Beneficio Diario: 10.0    Beneficio Promedio: 2\n",
            "Dia: 329    Num. Aleatorio: 0.19    Ventas Simuladas: 30    Ventas Reales: 30    Ventas Perdidas: 0    Periodicos No Vendidos: 20    Beneficio Diario: -14.0    Beneficio Promedio: 2\n",
            "Dia: 330    Num. Aleatorio: 0.78    Ventas Simuladas: 60    Ventas Reales: 50    Ventas Perdidas: 10    Periodicos No Vendidos: 0    Beneficio Diario: 8.0    Beneficio Promedio: 2\n",
            "Dia: 331    Num. Aleatorio: 0.15    Ventas Simuladas: 30    Ventas Reales: 30    Ventas Perdidas: 0    Periodicos No Vendidos: 20    Beneficio Diario: -14.0    Beneficio Promedio: 2\n",
            "Dia: 332    Num. Aleatorio: 0.26    Ventas Simuladas: 40    Ventas Reales: 40    Ventas Perdidas: 0    Periodicos No Vendidos: 10    Beneficio Diario: -2.0    Beneficio Promedio: 2\n",
            "Dia: 333    Num. Aleatorio: 0.67    Ventas Simuladas: 50    Ventas Reales: 50    Ventas Perdidas: 0    Periodicos No Vendidos: 0    Beneficio Diario: 10.0    Beneficio Promedio: 2\n",
            "Dia: 334    Num. Aleatorio: 0.15    Ventas Simuladas: 30    Ventas Reales: 30    Ventas Perdidas: 0    Periodicos No Vendidos: 20    Beneficio Diario: -14.0    Beneficio Promedio: 2\n",
            "Dia: 335    Num. Aleatorio: 0.87    Ventas Simuladas: 60    Ventas Reales: 50    Ventas Perdidas: 10    Periodicos No Vendidos: 0    Beneficio Diario: 8.0    Beneficio Promedio: 2\n",
            "Dia: 336    Num. Aleatorio: 0.46    Ventas Simuladas: 50    Ventas Reales: 50    Ventas Perdidas: 0    Periodicos No Vendidos: 0    Beneficio Diario: 10.0    Beneficio Promedio: 2\n",
            "Dia: 337    Num. Aleatorio: 0.02    Ventas Simuladas: 30    Ventas Reales: 30    Ventas Perdidas: 0    Periodicos No Vendidos: 20    Beneficio Diario: -14.0    Beneficio Promedio: 2\n",
            "Dia: 338    Num. Aleatorio: 0.55    Ventas Simuladas: 50    Ventas Reales: 50    Ventas Perdidas: 0    Periodicos No Vendidos: 0    Beneficio Diario: 10.0    Beneficio Promedio: 2\n",
            "Dia: 339    Num. Aleatorio: 0.09    Ventas Simuladas: 30    Ventas Reales: 30    Ventas Perdidas: 0    Periodicos No Vendidos: 20    Beneficio Diario: -14.0    Beneficio Promedio: 2\n",
            "Dia: 340    Num. Aleatorio: 0.27    Ventas Simuladas: 40    Ventas Reales: 40    Ventas Perdidas: 0    Periodicos No Vendidos: 10    Beneficio Diario: -2.0    Beneficio Promedio: 2\n",
            "Dia: 341    Num. Aleatorio: 0.81    Ventas Simuladas: 60    Ventas Reales: 50    Ventas Perdidas: 10    Periodicos No Vendidos: 0    Beneficio Diario: 8.0    Beneficio Promedio: 2\n",
            "Dia: 342    Num. Aleatorio: 0.83    Ventas Simuladas: 60    Ventas Reales: 50    Ventas Perdidas: 10    Periodicos No Vendidos: 0    Beneficio Diario: 8.0    Beneficio Promedio: 2\n",
            "Dia: 343    Num. Aleatorio: 0.91    Ventas Simuladas: 70    Ventas Reales: 50    Ventas Perdidas: 20    Periodicos No Vendidos: 0    Beneficio Diario: 6.0    Beneficio Promedio: 2\n",
            "Dia: 344    Num. Aleatorio: 0.43    Ventas Simuladas: 40    Ventas Reales: 40    Ventas Perdidas: 0    Periodicos No Vendidos: 10    Beneficio Diario: -2.0    Beneficio Promedio: 2\n",
            "Dia: 345    Num. Aleatorio: 0.87    Ventas Simuladas: 60    Ventas Reales: 50    Ventas Perdidas: 10    Periodicos No Vendidos: 0    Beneficio Diario: 8.0    Beneficio Promedio: 2\n",
            "Dia: 346    Num. Aleatorio: 0.32    Ventas Simuladas: 40    Ventas Reales: 40    Ventas Perdidas: 0    Periodicos No Vendidos: 10    Beneficio Diario: -2.0    Beneficio Promedio: 2\n",
            "Dia: 347    Num. Aleatorio: 0.48    Ventas Simuladas: 50    Ventas Reales: 50    Ventas Perdidas: 0    Periodicos No Vendidos: 0    Beneficio Diario: 10.0    Beneficio Promedio: 2\n",
            "Dia: 348    Num. Aleatorio: 0.51    Ventas Simuladas: 50    Ventas Reales: 50    Ventas Perdidas: 0    Periodicos No Vendidos: 0    Beneficio Diario: 10.0    Beneficio Promedio: 2\n",
            "Dia: 349    Num. Aleatorio: 0.1    Ventas Simuladas: 30    Ventas Reales: 30    Ventas Perdidas: 0    Periodicos No Vendidos: 20    Beneficio Diario: -14.0    Beneficio Promedio: 2\n",
            "Dia: 350    Num. Aleatorio: 0.31    Ventas Simuladas: 40    Ventas Reales: 40    Ventas Perdidas: 0    Periodicos No Vendidos: 10    Beneficio Diario: -2.0    Beneficio Promedio: 2\n",
            "Dia: 351    Num. Aleatorio: 0.55    Ventas Simuladas: 50    Ventas Reales: 50    Ventas Perdidas: 0    Periodicos No Vendidos: 0    Beneficio Diario: 10.0    Beneficio Promedio: 2\n",
            "Dia: 352    Num. Aleatorio: 0.0    Ventas Simuladas: 30    Ventas Reales: 30    Ventas Perdidas: 0    Periodicos No Vendidos: 20    Beneficio Diario: -14.0    Beneficio Promedio: 2\n",
            "Dia: 353    Num. Aleatorio: 0.57    Ventas Simuladas: 50    Ventas Reales: 50    Ventas Perdidas: 0    Periodicos No Vendidos: 0    Beneficio Diario: 10.0    Beneficio Promedio: 2\n",
            "Dia: 354    Num. Aleatorio: 0.38    Ventas Simuladas: 40    Ventas Reales: 40    Ventas Perdidas: 0    Periodicos No Vendidos: 10    Beneficio Diario: -2.0    Beneficio Promedio: 2\n",
            "Dia: 355    Num. Aleatorio: 0.2    Ventas Simuladas: 40    Ventas Reales: 40    Ventas Perdidas: 0    Periodicos No Vendidos: 10    Beneficio Diario: -2.0    Beneficio Promedio: 2\n",
            "Dia: 356    Num. Aleatorio: 0.91    Ventas Simuladas: 70    Ventas Reales: 50    Ventas Perdidas: 20    Periodicos No Vendidos: 0    Beneficio Diario: 6.0    Beneficio Promedio: 2\n",
            "Dia: 357    Num. Aleatorio: 0.53    Ventas Simuladas: 50    Ventas Reales: 50    Ventas Perdidas: 0    Periodicos No Vendidos: 0    Beneficio Diario: 10.0    Beneficio Promedio: 2\n",
            "Dia: 358    Num. Aleatorio: 0.97    Ventas Simuladas: 70    Ventas Reales: 50    Ventas Perdidas: 20    Periodicos No Vendidos: 0    Beneficio Diario: 6.0    Beneficio Promedio: 2\n",
            "Dia: 359    Num. Aleatorio: 0.0    Ventas Simuladas: 30    Ventas Reales: 30    Ventas Perdidas: 0    Periodicos No Vendidos: 20    Beneficio Diario: -14.0    Beneficio Promedio: 2\n",
            "Dia: 360    Num. Aleatorio: 0.73    Ventas Simuladas: 60    Ventas Reales: 50    Ventas Perdidas: 10    Periodicos No Vendidos: 0    Beneficio Diario: 8.0    Beneficio Promedio: 2\n",
            "Dia: 361    Num. Aleatorio: 0.25    Ventas Simuladas: 40    Ventas Reales: 40    Ventas Perdidas: 0    Periodicos No Vendidos: 10    Beneficio Diario: -2.0    Beneficio Promedio: 2\n",
            "Dia: 362    Num. Aleatorio: 0.31    Ventas Simuladas: 40    Ventas Reales: 40    Ventas Perdidas: 0    Periodicos No Vendidos: 10    Beneficio Diario: -2.0    Beneficio Promedio: 2\n",
            "Dia: 363    Num. Aleatorio: 0.32    Ventas Simuladas: 40    Ventas Reales: 40    Ventas Perdidas: 0    Periodicos No Vendidos: 10    Beneficio Diario: -2.0    Beneficio Promedio: 2\n",
            "Dia: 364    Num. Aleatorio: 0.65    Ventas Simuladas: 50    Ventas Reales: 50    Ventas Perdidas: 0    Periodicos No Vendidos: 0    Beneficio Diario: 10.0    Beneficio Promedio: 2\n",
            "Dia: 365    Num. Aleatorio: 0.96    Ventas Simuladas: 70    Ventas Reales: 50    Ventas Perdidas: 20    Periodicos No Vendidos: 0    Beneficio Diario: 6.0    Beneficio Promedio: 2\n",
            "El beneficio promedio diario es: 2.24\n"
          ]
        }
      ]
    },
    {
      "cell_type": "markdown",
      "source": [
        "En esta ocasión, calculamos que en la simulacion unica de un año, el beneficio diario esperado del quiosquero es de $2.24$ $ € $, sin embargo al ser unicamente una simulacion este valor puede llegar a variar segun se ejecute el codigo.\n",
        "\n",
        "Ahora bien, para una simulación mas efectiva haremos 10 mil iteraciones, para asi calcular los posibles resultados a obtener durante el mismo periodo de tiempo, en este caso durante el mismo año, y se calculara la media.\n",
        "\n",
        "En este caso, mandaremos los mismos argumentos a excepcion de que ahora no deseamos imprimir la tabla de datos, ya que se nos haria demasiado extenso nuestra simulacion: \n",
        "\n",
        "Pedidos $=$ 50\n",
        "\n",
        "Dias a Simular $=$ 1 año $=$ 365 dias\n",
        "\n",
        "NO Deseamos imprimir la Tabla de valores $=$ 0"
      ],
      "metadata": {
        "id": "RAhI5dU0BFAs"
      }
    },
    {
      "cell_type": "code",
      "source": [
        "resultados = []\n",
        "for i in range(10000):\n",
        "    resultado = calcular_beneficio_diario(50, 365, 0)\n",
        "    resultados.append(resultado)\n",
        "\n",
        "# Calculamos la media de los resultados y la imprimimos en pantalla\n",
        "media = sum(resultados) / len(resultados)\n",
        "print(\"El beneficio diario promedio es:\", media)"
      ],
      "metadata": {
        "colab": {
          "base_uri": "https://localhost:8080/"
        },
        "id": "FXPN6HjR5g08",
        "outputId": "f00df5d4-a3f3-44ce-da7c-c338a2d63319"
      },
      "execution_count": null,
      "outputs": [
        {
          "output_type": "stream",
          "name": "stdout",
          "text": [
            "El beneficio diario promedio es: 1.3988904109589084\n"
          ]
        }
      ]
    },
    {
      "cell_type": "markdown",
      "source": [
        "y asi, como resultado obtenemos que el beneficio diario del quiosquero durante ese mismo año, es de aproximadamente $1.398890$ $€$ $\\eqsim$ $1.40$ $€$.\n",
        "\n",
        "si deseamos calcular el beneficio esperado del quiosquero durante todo este año, unicamente basta con multiplicar por 365 dias, o bien por los dias que correspondan al ciclo de tiempo planteado en nuestra simulacion.\n",
        "\n",
        "$B = 1.398890 \\times 365 = 510.59$ $€$"
      ],
      "metadata": {
        "id": "TB-rSEqGC49t"
      }
    },
    {
      "cell_type": "markdown",
      "source": [
        "### b) Resolver Analíticamente"
      ],
      "metadata": {
        "id": "DvcbUZ3qXKIG"
      }
    },
    {
      "cell_type": "markdown",
      "source": [],
      "metadata": {
        "id": "3KFpYQ9vYmgm"
      }
    },
    {
      "cell_type": "markdown",
      "source": [
        "### c) Determine, por simulación, el pedido de periódicos que optimiza el beneficio"
      ],
      "metadata": {
        "id": "cWir5FEPHEuN"
      }
    },
    {
      "cell_type": "markdown",
      "source": [
        "Para este inciso, nos alejaremos un tanto del planteamiento del problema, ya que nos olvidaremos de las probabilidades de ocurrencia para la venta de periodicos."
      ],
      "metadata": {
        "id": "18F8Kip3MiKO"
      }
    },
    {
      "cell_type": "markdown",
      "source": [
        "La función: **grid_search(func,params)** implementa una búsqueda en malla, que es una técnica de optimización que consiste en evaluar sistemáticamente todas las combinaciones posibles de valores de los parámetros de entrada de una función, con el fin de encontrar los valores que maximizan (o minimizan) la función objetivo.\n",
        "\n",
        "La función **grid_search(func,params)** toma como argumentos la función objetivo func y un diccionario params que especifica los valores posibles de cada parámetro que se quiere optimizar, en este caso se toma una lista de 1 a 100, el cual se define como sigue: **params = {'pedido': list(range(1, 101))}**, sin embargo, si queremos seguir la esctructura de nuestro problema inicial podemos mandar unicamente los parametros que se nos dan inicialmente como sigue: **params = {'pedido': [30,40,50,60,70]}**, sin embargo, para tener un margen mas exacto de maximizacion emplearemos el rango planteado inicialmente.\n",
        "\n",
        "**max_result y max_params** son inicializados en None al inicio de la función. Estas variables serán actualizadas a medida que se va evaluando cada combinación de parámetros. Cuando se inicializa una variable en None, significa que no se le está asignando ningún valor en particular en ese momento, sino que se está reservando su espacio en memoria para asignarle un valor más adelante.\n",
        "\n",
        "\n",
        "El ciclo for itera sobre todas las combinaciones de valores posibles de los parámetros especificados en params. Para generar todas las combinaciones, se utiliza la función itertools.product, que toma como argumentos los valores posibles de cada parámetro y devuelve un iterador que genera todas las combinaciones posibles.\n",
        "En cada iteración del ciclo, se crea un diccionario param_dict que asigna los valores actuales de los parámetros a sus respectivas claves en el diccionario params.\n",
        "Luego, se evalúa la función objetivo func con los parámetros especificados en param_dict. El resultado se almacena en la variable result.\n",
        "\n",
        "Si max_result es None o result es mayor que max_result, se actualiza max_result y max_params con los valores actuales de result y param_dict, respectivamente.\n",
        "Finalmente, la función retorna los parámetros que maximizan la función objetivo (max_params) y el valor máximo de la función objetivo (max_result)."
      ],
      "metadata": {
        "id": "XN7eXHvZRLvu"
      }
    },
    {
      "cell_type": "code",
      "source": [
        "import numpy as np\n",
        "import itertools\n",
        "\n",
        "def grid_search(func, params):\n",
        "    max_result = None\n",
        "    max_params = None\n",
        "    for param_values in itertools.product(*params.values()):\n",
        "        param_dict = dict(zip(params.keys(), param_values))\n",
        "        result = func(**param_dict)\n",
        "        if max_result is None or result > max_result:\n",
        "            max_result = result\n",
        "            max_params = param_dict\n",
        "    return max_params, max_result"
      ],
      "metadata": {
        "id": "UabOjreWUAL2"
      },
      "execution_count": null,
      "outputs": []
    },
    {
      "cell_type": "markdown",
      "source": [
        "La funcion **calcular_beneficio_diario_2(pedido)**, es una función similar, a la funcion que se declaro en el inciso a) llamada **calcular_beneficio_diario(pedido,Dias_a_simular,Imprimir)**\n",
        "\n",
        "Solo que en esta ocasion, se ha limitado a tener el atributo de pedido, ya que es el dato que se desea maximizar."
      ],
      "metadata": {
        "id": "eMoYMhbeUBH2"
      }
    },
    {
      "cell_type": "code",
      "source": [
        "def calcular_beneficio_diario_2(pedido):\n",
        "    Beneficios_diarios = []\n",
        "    ventas_reales = 0\n",
        "    ventas_perdidas = 0\n",
        "    periodicos_no_vendidos = 0\n",
        "    \n",
        "    ## El valor 366, hace referencia al año considerado, es decir, esta simulando 365 dias para \n",
        "    ##  tener un mejor margen de simulacion y veracidad.\n",
        "    for i in range(1, 365):\n",
        "        [num_ventas,aleatorio] = num_periodicos_vendidos()\n",
        "        if num_ventas > pedido:\n",
        "            ventas_reales = pedido\n",
        "            ventas_perdidas = num_ventas - pedido\n",
        "            periodicos_no_vendidos = 0\n",
        "        else:\n",
        "            ventas_reales = num_ventas\n",
        "            ventas_perdidas = 0\n",
        "            periodicos_no_vendidos = pedido - num_ventas\n",
        "        \n",
        "        beneficio_diario = ventas_reales * 1.10 - pedido*0.90 - ventas_perdidas * 0.20 - periodicos_no_vendidos * 0.10\n",
        "        Beneficios_diarios.append(beneficio_diario)\n",
        "    beneficio_promedio = np.mean(Beneficios_diarios)\n",
        "    return beneficio_promedio"
      ],
      "metadata": {
        "id": "SVEV2g2fFkTt"
      },
      "execution_count": null,
      "outputs": []
    },
    {
      "cell_type": "markdown",
      "source": [
        "Finalmente, calculamos el pedido de periódicos que optimiza el beneficio"
      ],
      "metadata": {
        "id": "0t2CS2DcVPv-"
      }
    },
    {
      "cell_type": "code",
      "source": [
        "parametros_iniciales = {'pedido': list(range(1, 101))}\n",
        "max_params, max_result = grid_search(calcular_beneficio_diario_2, parametros_iniciales)\n",
        "\n",
        "print(\"El pedido de periódicos que optimiza el beneficio es:\", max_params['pedido'])\n",
        "print(\"El beneficio promedio diario máximo es:\", max_result)"
      ],
      "metadata": {
        "colab": {
          "base_uri": "https://localhost:8080/"
        },
        "id": "26cYZaa3VMXe",
        "outputId": "4837c6cf-b2f8-4397-c3f9-ff2fb11a9db0"
      },
      "execution_count": null,
      "outputs": [
        {
          "output_type": "stream",
          "name": "stdout",
          "text": [
            "El pedido de periódicos que optimiza el beneficio es: 40\n",
            "El beneficio promedio diario máximo es: 3.681318681318681\n"
          ]
        }
      ]
    },
    {
      "cell_type": "markdown",
      "source": [
        "Y se obtiene que el numero de periodicos que optimiza el beneficio es de 40 periodicos, si el codigo se corre en mayor cantidad de veces, podemos notar que siempre esta en $\\pm 2$ periodicos, sin embargo recordemos que nuestro problema inicial nos da como punto de partida unicamente los siguientes valores:  **params = {'pedido': [30,40,50,60,70]}**, por ende, tomaremos que son 40 periodicos, los que Maximizan de manera optima nuestro beneficio.\n",
        "\n",
        "Por lo que no es necesario ejecutar una cantidad $n$, de veces esta simulación, ya que si lo corremos de manera manual un par de veces, se nota y es suficiente, pues siempre tenemos el mismo valor o agluno demasiado cercano."
      ],
      "metadata": {
        "id": "G83S-hMhV0EP"
      }
    },
    {
      "cell_type": "markdown",
      "source": [
        "# <font color='blue'>Ejercicio 3</font>\n",
        "\n",
        "Una empresa dispone de varias máquinas herramienta cuyas herramientas de corte\n",
        "se desgastan constantemente. Cuando esto ocurre, la máquina es inservible. En la\n",
        "actualidad el mantenimiento es correctivo reemplazándose una herramienta cuando falla. Dado que cada máquina dispone de una torre con cinco herramientas, se propone reemplazar toda la torre de herramientas (las cinco herramientas de golpe) cada vez que falle una, lo que debería reducir la frecuencia de desgaste de las herramientas. El tiempo necesario para el reemplazo de una herramienta es de una hora. Las cinco pueden reemplazarse en dos horas. El coste de una hora de máquina parada es de cien euros. Cada herramienta cuesta diez euros. \n",
        "\n",
        "La tabla siguiente recoge los datos de averías en el caso de sustituir una sola herramienta cada vez.\n",
        "\n",
        "| Horas entre averías | Probabilidad |\n",
        "|---------------------|--------------|\n",
        "| 20                  | 0.05         |\n",
        "| 30                  | 0.15         |\n",
        "| 40                  | 0.15         |\n",
        "| 50                  | 0.20         |\n",
        "| 60                  | 0.20         |\n",
        "| 70                  | 0.15         |\n",
        "| 80                  | 0.10         |\n",
        "\n",
        "Si las cinco herramientas se cambian cada vez que una falla, la distribución de probabilidad entre fallos es la siguiente:\n",
        "\n",
        "| Horas entre averías | Probabilidad |\n",
        "|---------------------|--------------|\n",
        "| 30                  | 0.05         |\n",
        "| 40                  | 0.15         |\n",
        "| 50                  | 0.15         |\n",
        "| 60                  | 0.20         |\n",
        "| 70                  | 0.20         |\n",
        "| 80                  | 0.15         |\n",
        "| 90                  | 0.10         |\n"
      ],
      "metadata": {
        "id": "bz8SYWVCQQyg"
      }
    },
    {
      "cell_type": "markdown",
      "source": [
        "\n",
        "###(a) Determine mediante simulación la mejor política de reemplazo de las herramientas de corte.\n",
        "\n",
        "El primer paso sera seccionar nuestros intervalos y los tomaremos como sigue:\n",
        "\n",
        "Averías en el caso de sustituir una sola herramienta cada vez.\n",
        "\n",
        "| Horas entre averias    |  f(x) |   F(x)  | Intervalos   |\n",
        "|------------------------|-------|---------|--------------|\n",
        "| 20                     | 0.05  |   0.05  |  [0.00,0.05) |\n",
        "| 30                     | 0.15  |   0.20  |  [0.05,0.20) |\n",
        "| 40                     | 0.15  |   0.35  |  [0.20,0.35) |\n",
        "| 50                     | 0.20  |   0.55  |  [0.35,0.55) |\n",
        "| 60                     | 0.20  |   0.75  |  [0.55,0.75) |\n",
        "| 70                     | 0.15  |   0.90  |  [0.75,0.90) |\n",
        "| 80                     | 0.10  |   1.00  |  [0.90,1.00] |\n",
        "\n",
        "Ahora bien, para este caso particular utilizaremos la funcion añadida en Python, \"random.random()\" para elegir numeros aleatorios entre 0 y 1, una vez que se ha elegido el numero, nos posicionaremos en la posicion de Horas de averia que corresponda, segun el numero elegido al azar y nuestros intervalos dados, y diremos que nuestra proxima averia se dara en un Tiempo = Numero seleccionado de \"Horas entre averias\" correspondiente al intervalo dado"
      ],
      "metadata": {
        "id": "cy8NLVZyLsz5"
      }
    },
    {
      "cell_type": "code",
      "source": [
        "#La biblioteca random proporciona funciones para generar números aleatorios en\n",
        "# Python. Se utiliza principalmente para aplicaciones de juegos y simulaciones\n",
        "\n",
        "import random\n",
        "\n",
        "#La biblioteca numpy es una biblioteca de Python utilizada para cálculos \n",
        "# numéricos en general y es especialmente útil para el procesamiento de matrices \n",
        "# y arreglos multidimensionales. \n",
        "\n",
        "import numpy as np\n",
        "\n",
        "def tiempo():\n",
        "    aleatorio = random.random()\n",
        "    if aleatorio < 0.05:\n",
        "        return 20\n",
        "    elif aleatorio < 0.20:\n",
        "        return 30\n",
        "    elif aleatorio < 0.35:\n",
        "        return 40\n",
        "    elif aleatorio < 0.55:\n",
        "        return 50\n",
        "    elif aleatorio < 0.75:\n",
        "        return 60\n",
        "    elif aleatorio < 0.90:\n",
        "        return 70\n",
        "    else:\n",
        "        return 80"
      ],
      "metadata": {
        "id": "UpPtHao052ya"
      },
      "execution_count": null,
      "outputs": []
    },
    {
      "cell_type": "markdown",
      "source": [
        "Una vez que se ha definido lo anterior, se continua como sigue:"
      ],
      "metadata": {
        "id": "8atVE5bv7At3"
      }
    },
    {
      "cell_type": "markdown",
      "source": [
        "Y ahora definimos, la siguiente tabla, que hace referencia a Averías en caso de sustituir la torre de 5 herramientas.\n",
        "\n",
        "| Horas entre averias    |  f(x) |   F(x)  | Intervalos   |\n",
        "|------------------------|-------|---------|--------------|\n",
        "| 30                     | 0.05  |   0.05  |  [0.00,0.05) |\n",
        "| 40                     | 0.15  |   0.20  |  [0.05,0.20) |\n",
        "| 50                     | 0.15  |   0.35  |  [0.20,0.35) |\n",
        "| 60                     | 0.20  |   0.55  |  [0.35,0.55) |\n",
        "| 70                     | 0.20  |   0.75  |  [0.55,0.75) |\n",
        "| 80                     | 0.15  |   0.90  |  [0.75,0.90) |\n",
        "| 90                     | 0.10  |   1.00  |  [0.90,1.00] |\n",
        "\n",
        "y analogamente se hara una funcion en Python que nos ayude a seleccionar esto, y se muestra a continuacion:"
      ],
      "metadata": {
        "id": "LABd45467-wT"
      }
    },
    {
      "cell_type": "code",
      "source": [
        "def tiempo2():\n",
        "    aleatorio = random.random()\n",
        "    if aleatorio < 0.05:\n",
        "        return 30\n",
        "    elif aleatorio < 0.20:\n",
        "        return 40\n",
        "    elif aleatorio < 0.35:\n",
        "        return 50\n",
        "    elif aleatorio < 0.55:\n",
        "        return 60\n",
        "    elif aleatorio < 0.75:\n",
        "        return 70\n",
        "    elif aleatorio < 0.90:\n",
        "        return 80\n",
        "    else:\n",
        "        return 90\n"
      ],
      "metadata": {
        "id": "57b4RwYS-KXT"
      },
      "execution_count": null,
      "outputs": []
    },
    {
      "cell_type": "markdown",
      "source": [
        "Nuetro horizonte de planificación lo definimos como el tiempo laboral de la maquina en horas, esto quiere decir, si nuestra maquina trabajara durante todo un año, podemos decir que un año tiene 365 dias, y cada dia 24 horas, implica que nuestro horizonte de planificacion tiene $365 \\cdot 24 = 8760$ horas de trabajo, asi entonces, definimos como sigue:"
      ],
      "metadata": {
        "id": "4tWg7bG08-GA"
      }
    },
    {
      "cell_type": "code",
      "source": [
        "# Horizonte de planificación\n",
        "Horas_de_Trabajo = 8760 #Este valor implica un año de trabajo en horas."
      ],
      "metadata": {
        "id": "iJMmQhre9g8A"
      },
      "execution_count": null,
      "outputs": []
    },
    {
      "cell_type": "markdown",
      "source": [
        "Nuestra siguiente función, tiene un funcionamiento demasiado simple, una vez que se invoca, lo primero que hace es tomar un tiempo en el cual nuestra maquina va a fallar o averiarse, este tiempo se toma en base a la tabla de cambiar una sola herramienta que ya se menciono antes, seguido de esto definimos nuestro costo de mantenimiento como 0, ya que al iniciar nuestra simulacion, no contamos con un costo inicial, sin embargo si existiera un costo inicial por uso de maquina, etc. se podria definir en este apartado.\n",
        "\n",
        "Seguido de esto, entramos en un ciclo for, que se repetira durante las horas de trabajo que definimos en nuestro Horizonte de Planificación.\n",
        "\n",
        "Ejemplificando este caso, nosotros planificamos que nuestra maquina laborara un año, que es equivalente a $8760$ horas, supongamos que nuestro primer fallo se produce a las $70$ horas, nuestro tiempo se define en $70$ horas para el primer fallo, lo que hace nuestro ciclo for, es correr las horas e irlas restando a nuestro horizonte de planificación, y en este caso particular, en la hora $70$ tenemos un condicional el cual, nos indica que hay que hay que reparar la maquina o bien cambiar la herramienta dañada, una vez reparada, nuestro costo de mantenimiento aumenta pues ya se reparo una ocasión, lo que nos indica que ya tuvimos un gasto de $100$ euros por el tiempo en que la maquina estuvo parada y un gasto de $10$ euros por la herramienta averíada, después de esto, nuevamente definimos nuestro proximo tiempo de descompostura, el cual nuevamente tomara un valor entre $1$ y $80$; se repite el proceso, hasta que nuesto ciclo u horas de trabajo culminen, finalmente el valor que retorna es el costo de mantenimiento por hora, esto quiere decir que si en un año se gastaron $20mil$ euros por costo de mantenimiento, basta con decir que:\n",
        "\n",
        "$mantenimiento_{por \\cdot hora} =  \\frac{costo \\cdot anual}{horas \\cdot al \\cdot año} = \\frac{20000}{8760} = 2.2831$\n",
        "\n",
        "Asi entonces, el valor a retornar es de $2.2831$ euros por hora, siempre y cuando la maquina labore un total de $8760$ horas $i.e$ un año."
      ],
      "metadata": {
        "id": "vBnUIdu89v7_"
      }
    },
    {
      "cell_type": "code",
      "source": [
        "# Política de reemplazo de una herramienta\n",
        "def una_herramienta():\n",
        "    # Tiempo hasta la primera avería\n",
        "    time = tiempo()\n",
        "    # Costo de mantenimiento\n",
        "    costo_mantenimiento = 0\n",
        "    for i in range(Horas_de_Trabajo):\n",
        "        # Actualizar el tiempo hasta la próxima avería\n",
        "        time -= 1\n",
        "        if time == 0:\n",
        "            # Se produce una avería\n",
        "            costo_mantenimiento += 100 + 10\n",
        "            time = tiempo()\n",
        "            # Se reemplaza la herramienta dañada unicamente y el tiempo para realizar esta reparacion es de una hora.\n",
        "            time -= 1\n",
        "    return costo_mantenimiento / Horas_de_Trabajo"
      ],
      "metadata": {
        "id": "v8zLQ3sGChPY"
      },
      "execution_count": null,
      "outputs": []
    },
    {
      "cell_type": "markdown",
      "source": [
        "Ahora bien, nuestra siguiente función, corresponde a la accion de cambiar las $5$ herramientas cuando al menos una falla. \n",
        "\n",
        "Se repite el mismo caso que la funcion anterior, unicamente que en esta ocasion se cambia el costo de mantenimiento al fallar, ya que cuando falla, se cambian las $5$ herramientas lo cual produce un costo de $50$ euros, asi como tambien, la reparacion dura dos horas, por lo que, el costo por tener la maquina parada dos horas es de $200$ euros, asi como tambien se modifica el tiempo que se debe de restar. \n",
        "\n",
        "y finalmente se retorna el costo de mantenimiento por hora."
      ],
      "metadata": {
        "id": "StZuu6VVCjdo"
      }
    },
    {
      "cell_type": "code",
      "source": [
        "# Política de reemplazo de toda la torre de herramientas\n",
        "def toda_la_torre():\n",
        "    # Tiempo hasta la primera avería\n",
        "    tiempo = tiempo2()\n",
        "    # Costo de mantenimiento\n",
        "    costo_mantenimiento = 0\n",
        "    for i in range(Horas_de_Trabajo):\n",
        "        # Actualizar el tiempo hasta la próxima avería\n",
        "        tiempo -= 1\n",
        "        if tiempo == 0:\n",
        "            # Se produce una avería\n",
        "            costo_mantenimiento += 200 + 5 * 10\n",
        "            tiempo = tiempo2()\n",
        "            # Se reemplaza toda la torre de herramientas y el tiempo para realizar esta reparacion es de dos horas.\n",
        "            tiempo -= 2\n",
        "    return costo_mantenimiento / Horas_de_Trabajo"
      ],
      "metadata": {
        "id": "RNPIt55XFD8i"
      },
      "execution_count": null,
      "outputs": []
    },
    {
      "cell_type": "markdown",
      "source": [
        "La simulación de Monte Carlo se utiliza comúnmente en la ciencia, la ingeniería, la economía y otras disciplinas para modelar y analizar sistemas complejos que no pueden ser analizados de manera determinista. En este caso, se utiliza para simular la vida útil de una herramienta y estimar los costos de mantenimiento promedio en función de los valores aleatorios generados.\n",
        "\n",
        "Utilizaremos $1000$ simulaciones para empezar y ver que es lo que sucede y lo que nos arroja.\n",
        "Nuestra metodologia en este caso es hacer la simulacion $1000$ veces para el caso en que se labore un año, y ver lo que sucede cuando cambiamos unicamente la herramienta que falla y volver a simular $1000$ veces para el caso en que se labore el mismo año, pero cambiando las $5$ herramientas cuando al menos una falle.\n",
        "\n",
        "Esto se hara sumando los valores que nos retorne cada funcion declarada como ya se menciono y dividiendo entre el numero de simulaciones que se hagan:\n",
        "\n",
        "Y finalmente se hara una comparacion de los dos valores para saber cual de las dos combiene más, dado que combiene la que genere un menor coste."
      ],
      "metadata": {
        "id": "zytyQVtSFji5"
      }
    },
    {
      "cell_type": "code",
      "source": [
        "# Simulación de Monte Carlo\n",
        "num_simulaciones = 1000\n",
        "costo_promedio_una_herramienta = sum(una_herramienta() for i in range(num_simulaciones)) / num_simulaciones\n",
        "costo_promedio_toda_la_torre = sum(toda_la_torre() for i in range(num_simulaciones)) / num_simulaciones\n",
        "\n",
        "# Resultados\n",
        "print(\"Costo promedio con política de reemplazo de una herramienta: {:.2f} euros por hora de trabajo\".format(costo_promedio_una_herramienta))\n",
        "print(\"Costo promedio con política de reemplazo de toda la torre de herramientas: {:.2f} euros por hora de trabajo\".format(costo_promedio_toda_la_torre))\n",
        "\n",
        "if costo_promedio_una_herramienta < costo_promedio_toda_la_torre:\n",
        "    print(\"La mejor política es la de reemplazar una herramienta a la vez.\")\n",
        "else:\n",
        "    print(\"La mejor política es la de reemplazar toda la torre de herramientas.\")\n"
      ],
      "metadata": {
        "colab": {
          "base_uri": "https://localhost:8080/"
        },
        "id": "cH_V10U_y3II",
        "outputId": "5ed0b743-2227-48a9-eb68-cf10b027d60f"
      },
      "execution_count": null,
      "outputs": [
        {
          "output_type": "stream",
          "name": "stdout",
          "text": [
            "Costo promedio con política de reemplazo de una herramienta: 2.15 euros por hora de trabajo\n",
            "Costo promedio con política de reemplazo de toda la torre de herramientas: 4.15 euros por hora de trabajo\n",
            "La mejor política es la de reemplazar una herramienta a la vez.\n"
          ]
        }
      ]
    },
    {
      "cell_type": "markdown",
      "source": [
        "Asi, finalmente concluimos que es mejor unicamente ir reemplazando la herramienta que se vaya dañando, ya que si se cambia toda la torre de herramientas, el costo de mantenimiento se eleba casi al doble de lo que arroja el hecho de cambiar unicamente la que se ha dañado."
      ],
      "metadata": {
        "id": "YCTT_FBqDNjx"
      }
    },
    {
      "cell_type": "markdown",
      "source": [
        "### (b) Resuelva el caso sin el uso de la simulación y compare los resultados. Indique si esto afecta o no a la decisión tomada utilizando la simulación.\n"
      ],
      "metadata": {
        "id": "IBSeg5UDC865"
      }
    },
    {
      "cell_type": "markdown",
      "source": [
        "\n",
        "\n",
        "Para resolver cuál es la mejor opción, debemos calcular los costos esperados de cada estrategia.\n",
        "\n",
        "En primer lugar, calculemos el costo esperado por hora de la estrategia actual (cambio de herramienta única):\n",
        "\n",
        "El costo de una hora de máquina parada es de $100$ euros, y el costo de reemplazo de una herramienta es de $10$ euros. Por lo tanto, el costo esperado por hora es:\n",
        "\n",
        "**Costo esperado por hora = Costo de máquina parada + Costo de herramientas = (100 \\* Probabilidad de fallo por hora) + 10**\n",
        "\n",
        "\n",
        "Para calcular el costo total esperado por hora, debemos sumar los costos esperados por hora para cada una de las probabilidades de fallo por hora en la tabla, y dividir entre el numero total de horas trabajadas, en este caso son $350$ horas. El resultado es:\n",
        "\n",
        "$Costo \\cdot total \\cdot esperado \\cdot por \\cdot hora = \\frac{(100 * 0.05 + 10) + (100 * 0.15 + 10) + (100 * 0.15 + 10) + (100 * 0.20 + 10) + (100 * 0.20 + 10) + (100 * 0.15 + 10) + (100 * 0.10 + 10)}{350} = 0.4857 \\cdot euros/hora$\n",
        "\n",
        "\\\\\n",
        "En segundo lugar, calculemos el costo esperado por hora de la estrategia propuesta (cambio de torre de herramientas completa):\n",
        "\n",
        "Cuando falla una herramienta, se reemplaza toda la torre de herramientas. El costo de reemplazo de una torre completa es de $5 * 10 = 50 \\cdot euros$. \n",
        "\n",
        "El tiempo necesario para el reemplazo es de dos horas. Por lo tanto, el costo esperado por hora es:\n",
        "\n",
        "**Costo esperado por hora = Costo de máquina parada + Costo de herramientas = (100 \\* Probabilidad de fallo por hora \\* 2) + 50**\n",
        "\n",
        "Nuevamente, para calcular el costo total esperado por hora, debemos sumar los costos esperados por hora para cada una de las probabilidades de fallo por hora en la tabla y dividir entre el numero de horas trabajadas en este caso son $420$ horas. El resultado es:\n",
        "\n",
        "$Costo \\cdot total \\cdot esperado \\cdot por \\cdot hora = \\\\ \\frac{(100 * 0.05 * 2 + 50) + (100 * 0.15 * 2 + 50) + (100 * 0.15 * 2 + 50) + (100 * 0.20 * 2 + 50) + (100 * 0.20 * 2 + 50) + (100 * 0.15 * 2 + 50) + (100 * 0.10 * 2 + 50)}{420} = 1.30 \\cdot euros/hora$\n",
        "\n",
        "\\\\\n",
        "\n",
        "Por lo tanto, el costo esperado por hora de la estrategia de cambiar unicamente la pieza que se dañe es de $0.4857 \\cdot euros/hora$, mientras que el costo esperado por la estrategia de cambiar las cinco herramientas de la torre es de $1.30 \\cdot euros/hora$.\n",
        "\n",
        "Como resultado final, decimos que la estrategia actual de cambiar solo la herramienta que falla es mejor que la estrategia propuesta de cambiar toda la torre de herramientas cuando solo una falla. \n",
        "\n",
        "Por lo que podemos concluir, que tanto el resultado de la simulación, como el resultado utilizando el valor esperado, coinciden mutuamente, haciendo que se tome la misma decision para ambos casos."
      ],
      "metadata": {
        "id": "g9gDU0ciP1Jj"
      }
    },
    {
      "cell_type": "markdown",
      "source": [
        "# <font color='blue'>Ejercicio 4</font>\n",
        "Numero de Lista: 20: Nieto Cambrón Daniel Alejandro \n",
        "\n",
        "Ej. 19) Las bombillas eléctricas de un fabricante A tiene una duración media a 1400 horas con una desviación típica de 200 horas, mientras que las de otro fabricante B tiene una duración media de 1200 horas con una desviación típica de 100 horas. Si se toman muestras al azar de 125 bombillas de cada fabricante, \n",
        "\n",
        "¿cuál es la probabilidad de que las bombillas de A tengan una duración media que sea al menos\n",
        "\n",
        "$i$) 160 horas\n",
        "\n",
        "$ii$) 250 horas \n",
        "\n",
        "más quelas bombillas de B?"
      ],
      "metadata": {
        "id": "o9MaqSABZ31-"
      }
    },
    {
      "cell_type": "markdown",
      "source": [
        "### a) Resolver por simulación\n"
      ],
      "metadata": {
        "id": "uQRQXShxbG9W"
      }
    },
    {
      "cell_type": "markdown",
      "source": [
        "El código proporcionado realiza una simulación de Monte Carlo para estimar la probabilidad de que la duración media de las bombillas del fabricante A sea al menos **diferencia_minima = 160 y 250** horas mayor que la duración media de las bombillas del fabricante B, con un **nivel_confianza = 0.95**.\n",
        "\n",
        "El código primero define una funcion llamada: ***probabilidad_duracion_bombillas()***, que recibe como parametros las variables necesarias, como la media y la desviación estándar de la duración de las bombillas de los fabricantes A y B, respectivamente, y el tamaño de muestra n dada en el problema. También se define la *diferencia_minima* que se considera significativa y el *nivel_confianza* para el intervalo de confianza.\n",
        "\n",
        "Luego, estando en la funcion, se calcula el valor crítico de z para el intervalo de confianza utilizando la función norm.ppf(). \n",
        "\n",
        "Después, se ejecuta el experimento un millón de veces. En cada iteración, se generan dos muestras aleatorias de n bombillas cada una de los fabricantes A y B, utilizando la función np.random.normal(). Se calcula la diferencia de las medias de duración de las bombillas y se verifica si la diferencia es mayor o igual a la diferencia_minima que se considera significativa. Si es así, se incrementa el contador de éxitos."
      ],
      "metadata": {
        "id": "W5shicaIphzv"
      }
    },
    {
      "cell_type": "code",
      "source": [
        "from scipy.stats import norm\n",
        "import numpy as np\n",
        "\n",
        "def probabilidad_duracion_bombillas(diferencia_minima, nivel_confianza, media_a=1400, std_a=200, media_b=1200, std_b=100, n=125, num_simulaciones=50000):\n",
        "    contador_exitos = 0\n",
        "    \n",
        "    # Calcular el valor crítico de z\n",
        "    SE = np.sqrt((std_a**2/n) + (std_b**2/n))\n",
        "    z_critico = norm.ppf((1 + nivel_confianza) / 2)\n",
        "\n",
        "    # Ejecutar el experimento cien mil veces\n",
        "    for i in range(num_simulaciones):\n",
        "        # Generar dos muestras aleatorias de 125 bombillas cada una de los fabricantes A y B\n",
        "        muestras_a = np.random.normal(loc=media_a, scale=std_a, size=n)\n",
        "        muestras_b = np.random.normal(loc=media_b, scale=std_b, size=n)\n",
        "\n",
        "        # Calcular la diferencia de las medias de duración de las bombillas\n",
        "        diferencia_medias = np.mean(muestras_a) - np.mean(muestras_b)\n",
        "\n",
        "        # Verificar si la diferencia es mayor o igual a la diferencia mínima que se considera significativa\n",
        "        if diferencia_medias >= diferencia_minima:\n",
        "            contador_exitos += 1\n",
        "\n",
        "    # Calcular la probabilidad de que la duración media de las bombillas del fabricante A sea al menos `diferencia_minima` mayor que la duración media de las bombillas del fabricante B\n",
        "    probabilidad_exitos = contador_exitos / num_simulaciones\n",
        "    intervalo_confianza = (probabilidad_exitos - z_critico*np.sqrt((probabilidad_exitos*(1-probabilidad_exitos))/num_simulaciones), probabilidad_exitos + z_critico*np.sqrt((probabilidad_exitos*(1-probabilidad_exitos))/num_simulaciones))\n",
        "\n",
        "    return probabilidad_exitos, intervalo_confianza\n"
      ],
      "metadata": {
        "id": "N8x03p98oj74"
      },
      "execution_count": null,
      "outputs": []
    },
    {
      "cell_type": "markdown",
      "source": [
        "Finalmente, el código calcula la probabilidad de éxito y el intervalo de confianza utilizando el contador de éxitos, el número de simulaciones, y el valor crítico de z, y las retorna a los valores indicados cuando se invoca a la función.\n",
        "\n",
        "En resumen, el código proporcionado realiza una simulación de Monte Carlo para estimar la probabilidad de que la duración media de las bombillas del fabricante A sea al menos ***diferencia_minima*** horas mayor que la duración media de las bombillas del fabricante B, con un nivel de confianza del ***nivel_confianza***. El intervalo de confianza se calcula utilizando el método del valor crítico de z."
      ],
      "metadata": {
        "id": "SKYvpIRMqgHo"
      }
    },
    {
      "cell_type": "markdown",
      "source": [
        "Ahora bien modificando un poco el codigo anterior, podemos graficar de la siguiente manera, para ver que la probabilidad converge al valor calculado, Guarda en un arreglo llamado: **probabilidad_exitos[i]** las probabilidades calculadas y los muestra en la grafica, mientras que las lineas rojas, indican el intervalo de confianza de 95%."
      ],
      "metadata": {
        "id": "IeA77MH-ukVJ"
      }
    },
    {
      "cell_type": "code",
      "source": [
        "import matplotlib.pyplot as plt\n",
        "\n",
        "def probabilidad_diferencia_medias(diferencia_minima):\n",
        "    from scipy.stats import norm\n",
        "    import numpy as np\n",
        "\n",
        "    # Definir todas las variables necesarias\n",
        "    media_a = 1400\n",
        "    std_a = 200\n",
        "    media_b = 1200\n",
        "    std_b = 100\n",
        "    n = 125\n",
        "    nivel_confianza = 0.95\n",
        "    contador_exitos = 0\n",
        "    num_simulaciones = 50000\n",
        "\n",
        "    # Calcular el valor crítico de z\n",
        "    SE = np.sqrt((std_a**2/n) + (std_b**2/n))\n",
        "    z_critico = norm.ppf((1 + nivel_confianza) / 2)\n",
        "\n",
        "    # Ejecutar el experimento un millón de veces\n",
        "    probabilidad_exitos = np.zeros(num_simulaciones)\n",
        "    for i in range(num_simulaciones):\n",
        "        # Generar dos muestras aleatorias de 125 bombillas cada una de los fabricantes A y B\n",
        "        muestras_a = np.random.normal(loc=media_a, scale=std_a, size=n)\n",
        "        muestras_b = np.random.normal(loc=media_b, scale=std_b, size=n)\n",
        "\n",
        "        # Calcular la diferencia de las medias de duración de las bombillas\n",
        "        diferencia_medias = np.mean(muestras_a) - np.mean(muestras_b)\n",
        "\n",
        "        # Verificar si la diferencia es mayor o igual a la diferencia mínima que se considera significativa\n",
        "        if diferencia_medias >= diferencia_minima:\n",
        "            contador_exitos += 1\n",
        "\n",
        "        # Calcular la probabilidad de éxito hasta este punto\n",
        "        probabilidad_exitos[i] = contador_exitos / (i+1)\n",
        "\n",
        "    # Calcular el intervalo de confianza\n",
        "    intervalo_confianza = (probabilidad_exitos[-1] - z_critico*np.sqrt((probabilidad_exitos[-1]*(1-probabilidad_exitos[-1]))/(num_simulaciones)), probabilidad_exitos[-1] + z_critico*np.sqrt((probabilidad_exitos[-1]*(1-probabilidad_exitos[-1]))/(num_simulaciones)))\n",
        "\n",
        "    # Graficar la convergencia de la probabilidad de éxito\n",
        "    plt.plot(np.arange(num_simulaciones), probabilidad_exitos)\n",
        "    plt.axhline(y=intervalo_confianza[0], color='r', linestyle='-')\n",
        "    plt.axhline(y=intervalo_confianza[1], color='r', linestyle='-')\n",
        "    plt.title(f\"Convergencia de la probabilidad para una diferencia mínima de {diferencia_minima}\")\n",
        "    plt.xlabel(\"Número de simulaciones\")\n",
        "    plt.ylabel(\"Probabilidad de éxito\")\n",
        "    plt.show()\n",
        "\n",
        "    return probabilidad_exitos[-1], intervalo_confianza\n"
      ],
      "metadata": {
        "id": "CsssKxpFs6AZ"
      },
      "execution_count": null,
      "outputs": []
    },
    {
      "cell_type": "markdown",
      "source": [
        "### $i$) ¿Cuál es la probabilidad de que las bombillas de A tengan una duración media que sea al menos 160 horas más quelas bombillas de B?"
      ],
      "metadata": {
        "id": "NH6ANYaVrV6I"
      }
    },
    {
      "cell_type": "code",
      "source": [
        "probabilidad, intervalo = probabilidad_duracion_bombillas(diferencia_minima=160,nivel_confianza=0.95)\n",
        "\n",
        "print(f\"La probabilidad de que la duración media de las bombillas del fabricante A sea al menos 160 horas mayor que la duración media de las bombillas del fabricante B es: {probabilidad}\")\n",
        "print(f\"Intervalo de confianza al {nivel_confianza*100}%: {intervalo}\")\n",
        "P,Int = probabilidad_diferencia_medias(160)"
      ],
      "metadata": {
        "colab": {
          "base_uri": "https://localhost:8080/",
          "height": 507
        },
        "id": "WTAFiWwvomzg",
        "outputId": "ac98c5e6-ee19-4dcd-eef1-a9725273f083"
      },
      "execution_count": null,
      "outputs": [
        {
          "output_type": "stream",
          "name": "stdout",
          "text": [
            "La probabilidad de que la duración media de las bombillas del fabricante A sea al menos 160 horas mayor que la duración media de las bombillas del fabricante B es: 0.97722\n",
            "Intervalo de confianza al 95.0%: (0.9762952568472493, 0.9781447431527507)\n"
          ]
        },
        {
          "output_type": "display_data",
          "data": {
            "text/plain": [
              "<Figure size 640x480 with 1 Axes>"
            ],
            "image/png": "[encoded data removed]"
          },
          "metadata": {}
        }
      ]
    },
    {
      "cell_type": "markdown",
      "source": [
        "Asi concluimos que la probabilidad de que las bombillas de A tengan una duracion media que sea al menos 160 horas mas que las bombillas B es de $P = 0.97722$ lo equivalente a $P = 97.722\\%$ y que ademas, la gráfica anterior muestra su convergencia."
      ],
      "metadata": {
        "id": "hl4eK8Wvw2iB"
      }
    },
    {
      "cell_type": "markdown",
      "source": [
        "### $ii$) ¿Cuál es la probabilidad de que las bombillas de A tengan una duración media que sea al menos 250 horas más quelas bombillas de B?"
      ],
      "metadata": {
        "id": "GCqMRiHKrtjA"
      }
    },
    {
      "cell_type": "code",
      "source": [
        "probabilidad, intervalo = probabilidad_duracion_bombillas(diferencia_minima=250,nivel_confianza=0.95)\n",
        "\n",
        "print(f\"La probabilidad de que la duración media de las bombillas del fabricante A sea al menos 250 horas mayor que la duración media de las bombillas del fabricante B es: {probabilidad}\")\n",
        "print(f\"Intervalo de confianza al {nivel_confianza*100}%: {intervalo}\")\n",
        "\n",
        "P,Int = probabilidad_diferencia_medias(250)"
      ],
      "metadata": {
        "colab": {
          "base_uri": "https://localhost:8080/",
          "height": 507
        },
        "id": "HGW-0tZrrtJH",
        "outputId": "b66cc3a1-f439-4bb0-beb6-0f2131de438d"
      },
      "execution_count": null,
      "outputs": [
        {
          "output_type": "stream",
          "name": "stdout",
          "text": [
            "La probabilidad de que la duración media de las bombillas del fabricante A sea al menos 250 horas mayor que la duración media de las bombillas del fabricante B es: 0.00624\n",
            "Intervalo de confianza al 95.0%: (0.005751931092424905, 0.006728068907575095)\n"
          ]
        },
        {
          "output_type": "display_data",
          "data": {
            "text/plain": [
              "<Figure size 640x480 with 1 Axes>"
            ],
            "image/png": "[encoded data removed]"
          },
          "metadata": {}
        }
      ]
    },
    {
      "cell_type": "markdown",
      "source": [
        "Notese, como en ambos casos el numero de simulaciones no excede de 50mil, sin embargo entre mayor sea este numero de iteraciones, se puede decir que mas exacto se hace el valor de nuestra probabilidad.\n",
        "\n",
        "Asi concluimos, que la probabilidad de que las bombillas de A tengan una duracion media que sea al menos 250 horas mas que las bombillas B es de $P = 0.00624$ lo equivalente a $P = 0.624\\%$ y que ademas, la gráfica anterior muestra su convergencia."
      ],
      "metadata": {
        "id": "_Pn_3HVTwOwJ"
      }
    },
    {
      "cell_type": "markdown",
      "source": [
        "### a) Resolver Analíticamente\n"
      ],
      "metadata": {
        "id": "3ZOIPpPy0rBa"
      }
    }
  ]
}