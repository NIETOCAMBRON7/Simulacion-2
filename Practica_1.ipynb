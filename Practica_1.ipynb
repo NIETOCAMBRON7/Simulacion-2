{
  "nbformat": 4,
  "nbformat_minor": 0,
  "metadata": {
    "colab": {
      "provenance": []
    },
    "kernelspec": {
      "name": "python3",
      "display_name": "Python 3"
    },
    "language_info": {
      "name": "python"
    }
  },
  "cells": [
    {
      "cell_type": "markdown",
      "source": [
        "Prueba de Medias"
      ],
      "metadata": {
        "id": "EnZFFuEsd_GF"
      }
    },
    {
      "cell_type": "markdown",
      "source": [
        "En la siguiente sección, primeramente vamos a crear un arreglo de 'n' números. El arreglo tendrá un límite inferior '0' y un límite superior '1', y los datos del arreglo serán generados de forma aleatoria siguiendo una distribucion normal utilizando la librería random y la función randint.\n",
        "\n",
        "Los valores de 'n' serán solicitados al usuario para su ingreso."
      ],
      "metadata": {
        "id": "WecY5xmoeGIc"
      }
    },
    {
      "cell_type": "code",
      "source": [
        "import random\n",
        "import statistics\n",
        "\n",
        "# Pide al usuario los valores de n\n",
        "n = int(input(\"Ingrese la cantidad de números aleatorios que desea generar: \"))\n",
        "\n",
        "arreglo = []\n",
        "\n",
        "for i in range(n):\n",
        "    valor = random.gauss(0, 1)\n",
        "    valor_absoluto = abs(valor)\n",
        "    arreglo.append(valor_absoluto)\n",
        "\n",
        "print(\"El arreglo generado es:\", arreglo)\n",
        "\n",
        "media = statistics.mean(arreglo)\n",
        "\n",
        "print(\"La media del arreglo es:\", media)\n"
      ],
      "metadata": {
        "colab": {
          "base_uri": "https://localhost:8080/"
        },
        "id": "gFEFSp8oYK5v",
        "outputId": "30798b1d-840b-4a11-a6fa-7396e332dc85"
      },
      "execution_count": null,
      "outputs": [
        {
          "output_type": "stream",
          "name": "stdout",
          "text": [
            "Ingrese la cantidad de números aleatorios que desea generar: 25\n",
            "El arreglo generado es: [0.9287116560375692, 0.461190921349278, 0.10703080836229491, 0.04028296889985006, 1.4819463937668291, 0.4655895585464893, 0.7036601746231224, 0.21217308269702234, 0.33572463018949694, 0.7043538217737715, 0.2597307069694229, 0.1476904960186302, 1.174773829349981, 0.3232590229790047, 0.7591233243635589, 0.5006083779173174, 1.0055058015412972, 0.9933317736473374, 0.5080463979850289, 0.2496135186076711, 2.652418197864538, 0.2611421152210314, 0.12659743080739416, 0.10677522223463323, 0.032576404860461476]\n",
            "La media del arreglo es: 0.5816742654645213\n"
          ]
        }
      ]
    },
    {
      "cell_type": "markdown",
      "source": [
        "En esta parte del código, se solicitará al usuario que ingrese el nivel de confianza deseado para la prueba de medias que se va a realizar.\n",
        "Posteriormente calculara los limites superior e inferior."
      ],
      "metadata": {
        "id": "KblAgk2QfB_f"
      }
    },
    {
      "cell_type": "code",
      "source": [
        "from scipy.stats import norm\n",
        "import math\n",
        "\n",
        "nivel_confianza = int(input(\"Ingrese el nivel de confianza (en valor entero) que requiere para hacer la Prueba de Medias: \"))\n",
        "z = norm.ppf((1 + (nivel_confianza/100)) / 2)\n",
        "\n",
        "print(\"El valor de z para un nivel de confianza del\", nivel_confianza, \"% es:\", round(z,2))\n",
        "\n",
        "ls = 0.5 + z * (1 / math.sqrt(12*n))\n",
        "li = 0.5 - z * (1 / math.sqrt(12*n))\n",
        "\n",
        "print(\"El valor del limite inferior es: \", li)\n",
        "print(\"El valor del limite superior es: \", ls)\n"
      ],
      "metadata": {
        "colab": {
          "base_uri": "https://localhost:8080/"
        },
        "id": "sXggo6fdahfr",
        "outputId": "c9fac234-12ba-49ea-ab13-c90aff8c35bf"
      },
      "execution_count": null,
      "outputs": [
        {
          "output_type": "stream",
          "name": "stdout",
          "text": [
            "Ingrese el nivel de confianza (en valor entero) que requiere para hacer la Prueba de Medias: 95\n",
            "El valor de z para un nivel de confianza del 95 % es: 1.96\n",
            "El valor del limite inferior es:  0.38684142659238285\n",
            "El valor del limite superior es:  0.6131585734076171\n"
          ]
        }
      ]
    },
    {
      "cell_type": "markdown",
      "source": [
        "Finalmente, para decidir si se pasa la prueba de medias, es necesario verificar que la media obtenida en el inicio se encuentre entre los valores de 'li' y 'ls'."
      ],
      "metadata": {
        "id": "8uS-8eP9g-Ir"
      }
    },
    {
      "cell_type": "code",
      "source": [
        "if li <= media <= ls:\n",
        "    print(\"El valor está dentro del rango, decimos que H0 = mu = 1/2 Se cumple para los datos del arreglo dado.\")\n",
        "else:\n",
        "    print(\"El valor está fuera del rango, decimos que H0 != mu = 1/2 NO se cumple para los datos del arreglo dado.\")"
      ],
      "metadata": {
        "colab": {
          "base_uri": "https://localhost:8080/"
        },
        "id": "lh7i1DMKk__D",
        "outputId": "7a832554-f157-401d-b013-5e5308ef62d9"
      },
      "execution_count": null,
      "outputs": [
        {
          "output_type": "stream",
          "name": "stdout",
          "text": [
            "El valor está dentro del rango, decimos que H0 = mu = 1/2 Se cumple para los datos del arreglo dado.\n"
          ]
        }
      ]
    },
    {
      "cell_type": "code",
      "source": [
        "import scipy.stats as stats\n",
        "import statistics\n",
        "\n",
        "print(nivel_confianza)\n",
        "n=25\n",
        "varianza = statistics.variance(arreglo)\n",
        "print(\"La varianza del arreglo es:\", varianza)\n",
        "\n",
        "S2 = varianza\n",
        "grados_libertad = n - 1\n",
        "print((nivel_confianza)/200)\n",
        "\n",
        "# Calcular el valor crítico de chi-cuadrado\n",
        "chi_critico = stats.chi2.ppf((nivel_confianza)/200, grados_libertad)\n",
        "print(\"El valor crítico de chi-cuadrado es:\", chi_critico)\n",
        "\n",
        "# Calcular los límites inferior y superior del intervalo de confianza\n",
        "limite_inferior = chi_critico / 12*(n-1)\n",
        "limite_superior = stats.chi2.ppf((nivel_confianza/100) / 2, grados_libertad) / 12*grados_libertad\n",
        "\n",
        "print(\"Los límites del intervalo de confianza para la varianza son:\", limite_inferior, limite_superior)\n"
      ],
      "metadata": {
        "colab": {
          "base_uri": "https://localhost:8080/"
        },
        "id": "8v_ZoHzEm3qO",
        "outputId": "06584920-ba56-4a18-a487-a3e0ae62ce55"
      },
      "execution_count": null,
      "outputs": [
        {
          "output_type": "stream",
          "name": "stdout",
          "text": [
            "95\n",
            "La varianza del arreglo es: 0.3351037534340217\n",
            "0.475\n",
            "El valor crítico de chi-cuadrado es: 22.911965157210048\n",
            "Los límites del intervalo de confianza para la varianza son: 45.823930314420096 45.823930314420096\n"
          ]
        }
      ]
    },
    {
      "cell_type": "code",
      "source": [
        "from scipy.stats import chi2\n",
        "\n",
        "valor_critico = chi2.ppf(0.95, 5)\n",
        "print(valor_critico)\n"
      ],
      "metadata": {
        "id": "RDYNQDM5uqK2",
        "outputId": "c370a06a-573a-4dc7-b395-f76a1952d960",
        "colab": {
          "base_uri": "https://localhost:8080/"
        }
      },
      "execution_count": null,
      "outputs": [
        {
          "output_type": "stream",
          "name": "stdout",
          "text": [
            "11.070497693516351\n"
          ]
        }
      ]
    }
  ]
}