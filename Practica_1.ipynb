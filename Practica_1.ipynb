{
  "nbformat": 4,
  "nbformat_minor": 0,
  "metadata": {
    "colab": {
      "provenance": [],
      "authorship_tag": "ABX9TyNK+lFtG0a7QlI+NuSZMXRH",
      "include_colab_link": true
    },
    "kernelspec": {
      "name": "python3",
      "display_name": "Python 3"
    },
    "language_info": {
      "name": "python"
    }
  },
  "cells": [
    {
      "cell_type": "markdown",
      "metadata": {
        "id": "view-in-github",
        "colab_type": "text"
      },
      "source": [
        "<a href=\"https://colab.research.google.com/github/NIETOCAMBRON7/Simulacion-2/blob/main/Practica_1.ipynb\" target=\"_parent\"><img src=\"https://colab.research.google.com/assets/colab-badge.svg\" alt=\"Open In Colab\"/></a>"
      ]
    },
    {
      "cell_type": "markdown",
      "source": [
        "## ALUMNO: NIETO CAMBRON DANIEL ALEJANDRO\n",
        "\n",
        "\n",
        "### PRÁCTICA 1: Escribir un código en Python que implemente las Pruebas de Uniformidad y las Pruebas de Independencia de números aleatorios vistas en clase, guardarlo en su cuenta de github."
      ],
      "metadata": {
        "id": "w1JfZ_fiJPsI"
      }
    },
    {
      "cell_type": "markdown",
      "source": [
        "# Prueba de Medias\n",
        "\n"
      ],
      "metadata": {
        "id": "EnZFFuEsd_GF"
      }
    },
    {
      "cell_type": "markdown",
      "source": [
        "En la siguiente sección, primeramente vamos a crear un arreglo de 'n' números. El arreglo tendrá un límite inferior '0' y un límite superior '1', y los datos del arreglo serán generados de forma aleatoria siguiendo una distribucion normal utilizando la librería random y la función randint.\n",
        "\n",
        "Los valores de 'n' serán solicitados al usuario para su ingreso.\n",
        "\n",
        "NOTA: En caso de requerir un arreglo especifico, modificar la parte del codigo en la que se declara el arreglo, y meter el arreglo de manera manual en la parte del codigo."
      ],
      "metadata": {
        "id": "WecY5xmoeGIc"
      }
    },
    {
      "cell_type": "code",
      "source": [
        "import numpy as np\n",
        "\n",
        "n = int(input(\"Ingrese el tamaño del arreglo: \"))\n",
        "\n",
        "while n < 1 or n > 1000000:\n",
        "    n = int(input(\"El tamaño debe estar entre 1 y 1,000,000. Ingrese nuevamente: \"))\n",
        "\n",
        "mu, sigma = 0.5, 0.1  # media y desviación estándar\n",
        "arreglo = mu + sigma * np.random.normal(size=n)  # distribución normal con media mu y desviación estándar sigma\n",
        "arreglo = np.clip(arreglo, 0, 1)  # ajuste del rango del arreglo a [0, 1]\n",
        "\n",
        "media = np.mean(arreglo)\n",
        "\n",
        "print(\"El arreglo aleatorio generado es:\", arreglo)\n",
        "print(\"La media del arreglo es:\", media)\n"
      ],
      "metadata": {
        "colab": {
          "base_uri": "https://localhost:8080/"
        },
        "id": "gFEFSp8oYK5v",
        "outputId": "30a872eb-87a7-4647-db66-30140c72fbb8"
      },
      "execution_count": null,
      "outputs": [
        {
          "output_type": "stream",
          "name": "stdout",
          "text": [
            "Ingrese el tamaño del arreglo: 60\n",
            "El arreglo aleatorio generado es: [0.43406571 0.34072648 0.47339193 0.59850633 0.43936625 0.59505654\n",
            " 0.47858001 0.26278414 0.40297278 0.55559653 0.52701803 0.54601004\n",
            " 0.37700744 0.5018559  0.37345908 0.43192003 0.38808192 0.62518793\n",
            " 0.39248252 0.62842841 0.55338224 0.41626035 0.42768246 0.35667832\n",
            " 0.49755063 0.46119981 0.42944055 0.34103783 0.61965126 0.64266064\n",
            " 0.33864989 0.6066314  0.60016189 0.67157474 0.73606994 0.33164673\n",
            " 0.52579707 0.36601392 0.70804549 0.4053951  0.46064785 0.51373753\n",
            " 0.53501833 0.61141004 0.51964205 0.36621519 0.3859555  0.50598746\n",
            " 0.48821889 0.34628141 0.52012574 0.32252062 0.38745006 0.40528259\n",
            " 0.52544646 0.62457829 0.66562011 0.53683755 0.52172259 0.73654453]\n",
            "La media del arreglo es: 0.48978785122223784\n"
          ]
        }
      ]
    },
    {
      "cell_type": "markdown",
      "source": [
        "En esta parte del código, se solicitará al usuario que ingrese el nivel de confianza deseado para la prueba de medias que se va a realizar.\n",
        "Posteriormente calculara los limites superior e inferior."
      ],
      "metadata": {
        "id": "KblAgk2QfB_f"
      }
    },
    {
      "cell_type": "code",
      "source": [
        "from scipy.stats import norm\n",
        "import math\n",
        "\n",
        "nivel_confianza = int(input(\"Ingrese el nivel de confianza (en valor entero) que requiere para hacer la Prueba de Medias: \"))\n",
        "z = norm.ppf((1 + (nivel_confianza/100)) / 2)\n",
        "\n",
        "print(\"El valor de z para un nivel de confianza del\", nivel_confianza, \"% es:\", round(z,2))\n",
        "\n",
        "ls = 0.5 + z * (1 / math.sqrt(12*n))\n",
        "li = 0.5 - z * (1 / math.sqrt(12*n))\n",
        "\n",
        "print(\"El valor del limite inferior es: \", li)\n",
        "print(\"El valor del limite superior es: \", ls)\n"
      ],
      "metadata": {
        "colab": {
          "base_uri": "https://localhost:8080/"
        },
        "id": "sXggo6fdahfr",
        "outputId": "86dd8cab-668d-4dad-a0f0-785af815d317"
      },
      "execution_count": null,
      "outputs": [
        {
          "output_type": "stream",
          "name": "stdout",
          "text": [
            "Ingrese el nivel de confianza (en valor entero) que requiere para hacer la Prueba de Medias: 95\n",
            "El valor de z para un nivel de confianza del 95 % es: 1.96\n",
            "El valor del limite inferior es:  0.42695645495195156\n",
            "El valor del limite superior es:  0.5730435450480484\n"
          ]
        }
      ]
    },
    {
      "cell_type": "markdown",
      "source": [
        "Finalmente, para decidir si se pasa la prueba de medias, es necesario verificar que la media obtenida en el inicio se encuentre entre los valores de 'li' y 'ls'."
      ],
      "metadata": {
        "id": "8uS-8eP9g-Ir"
      }
    },
    {
      "cell_type": "code",
      "source": [
        "if li <= media <= ls:\n",
        "    print(\"El valor está dentro del rango, decimos que H0 = mu = 1/2 Se cumple para los datos del arreglo dado.\")\n",
        "else:\n",
        "    print(\"El valor está fuera del rango, decimos que H0 != mu = 1/2 NO se cumple para los datos del arreglo dado.\")"
      ],
      "metadata": {
        "colab": {
          "base_uri": "https://localhost:8080/"
        },
        "id": "lh7i1DMKk__D",
        "outputId": "5d4816d7-a5b4-4783-e4cd-fa82cacd9c99"
      },
      "execution_count": null,
      "outputs": [
        {
          "output_type": "stream",
          "name": "stdout",
          "text": [
            "El valor está dentro del rango, decimos que H0 = mu = 1/2 Se cumple para los datos del arreglo dado.\n"
          ]
        }
      ]
    },
    {
      "cell_type": "markdown",
      "source": [
        "### Prueba de Varianza\n",
        "\n"
      ],
      "metadata": {
        "id": "SY3d9KfU2Wzt"
      }
    },
    {
      "cell_type": "markdown",
      "source": [
        "Primeramente calculamos la varianza del arreglo.\n",
        "\n",
        "Posteriormente se calcula el limite superior e inferior de nuestro arreglo dado al inicio, y finalmente se observa si cumple con el hecho de que la varianza se encuentre entre el limite inferior y el limite superior."
      ],
      "metadata": {
        "id": "f7798jw82a9U"
      }
    },
    {
      "cell_type": "code",
      "source": [
        "import scipy.stats as stats\n",
        "import statistics\n",
        "\n",
        "varianza = statistics.variance(arreglo)\n",
        "print(\"La varianza del arreglo es:\", varianza, \"\\n\")\n",
        "\n",
        "S2 = varianza\n",
        "grados_libertad = n - 1\n",
        "\n",
        "# Calcular el valor crítico de chi-cuadrado\n",
        "chi_critico = stats.chi2.ppf((100 - nivel_confianza)/200, grados_libertad)\n",
        "\n",
        "# Calcular los límites inferior y superior del intervalo de confianza\n",
        "limite_inferior = chi_critico / (12*(n-1))\n",
        "limite_superior = stats.chi2.ppf((nivel_confianza)/200, grados_libertad) / (12*(n-1))\n",
        "\n",
        "print(\"Los límites del intervalo de confianza para la varianza son:\", limite_inferior, limite_superior, \"\\n\")\n",
        "\n",
        "\n",
        "if limite_inferior <= varianza <= limite_superior:\n",
        "    print(\"El valor está dentro del rango, Se cumple para los datos del arreglo dado.\")\n",
        "else:\n",
        "    print(\"El valor está fuera del rango, NO se cumple para los datos del arreglo dado.\")"
      ],
      "metadata": {
        "colab": {
          "base_uri": "https://localhost:8080/"
        },
        "id": "8v_ZoHzEm3qO",
        "outputId": "90c4d1f8-9b14-4a29-9b2f-b4cc8f6a169c"
      },
      "execution_count": null,
      "outputs": [
        {
          "output_type": "stream",
          "name": "stdout",
          "text": [
            "La varianza del arreglo es: 0.01304989436218931 \n",
            "\n",
            "Los límites del intervalo de confianza para la varianza son: 0.0560195753552481 0.0814415737306576 \n",
            "\n",
            "El valor está fuera del rango, NO se cumple para los datos del arreglo dado.\n"
          ]
        }
      ]
    },
    {
      "cell_type": "markdown",
      "source": [
        "# PRUEBA DE INDEPENDENCIA\n",
        "### 1. Prueba de corridas "
      ],
      "metadata": {
        "id": "xSTl3NrC-VFI"
      }
    },
    {
      "cell_type": "markdown",
      "source": [
        "Paso 1: Clasificar los números aleatorios\n",
        "\n",
        "Para clasificar cada número aleatorio, podemos crear una función que recorra el arreglo de números y compare cada número con el anterior. Si el número actual es menor o igual que el anterior, se le asigna un valor de 0, y si es mayor se le asigna un valor de 1. Luego, la función devuelve una lista con los valores clasificados.\n",
        "\n",
        "Paso 2: Calcular las corridas observadas\n",
        "\n",
        "Para calcular las corridas observadas, podemos crear otra función que recorra la lista de números clasificados y cuente el número de corridas. Una corrida se forma por un conjunto de números consecutivos del mismo signo. La función devuelve el número de corridas.\n",
        "\n",
        "Paso 3: Calcular E(h) y V(h)\n",
        "\n",
        "Para calcular E(h) y V(h), podemos crear otra función que tome como argumento la lista de números y utilice las fórmulas indicadas en el enunciado para calcular los valores esperados de las corridas y su varianza. La función devuelve una tupla con los valores calculados.\n",
        "\n",
        "Paso 4: Calcular el estadístico Z y compararlo con el valor crítico\n",
        "\n",
        "Para calcular el estadístico Z y compararlo con el valor crítico de la tabla de distribución normal, podemos crear otra función que tome como argumento la lista de números y utilice las funciones creadas en los pasos anteriores para realizar los cálculos necesarios. La función devuelve un booleano que indica si se acepta (TRUE) o rechaza (FALSE) la hipótesis de independencia.\n",
        "\n",
        "\n",
        "NOTA: En caso de requerir un arreglo especifico, modificar la parte del codigo en la que se declara el arreglo, y meter el arreglo de manera manual en la parte del codigo; ya que en este caso se crea un arreglo aleatorio haciendo uso de la funcion: \n",
        "\n",
        "*numeros_aleatorios = np.random.rand(n)*"
      ],
      "metadata": {
        "id": "JGMDkDDNIK6B"
      }
    },
    {
      "cell_type": "code",
      "source": [
        "import numpy as np\n",
        "from scipy.stats import norm\n",
        "\n",
        "\n",
        "def calcular_valores_esperados(numeros):\n",
        "    n = len(numeros)\n",
        "    e = ((2*n) - 1) / 3\n",
        "    v = ((16*n) - 29) / 90\n",
        "    return (e, v)\n",
        "\n",
        "\n",
        "def calcular_corridas(clasificados):\n",
        "    corridas = 1\n",
        "    for i in range(1, len(clasificados)):\n",
        "        if clasificados[i] != clasificados[i-1]:\n",
        "            corridas += 1\n",
        "    return corridas\n",
        "\n",
        "\n",
        "def clasificar_numeros(numeros):\n",
        "    clasificados = []\n",
        "    for i in range(len(numeros)):\n",
        "        if i == 0:\n",
        "            clasificados.append(0)\n",
        "        elif numeros[i] <= numeros[i-1]:\n",
        "            clasificados.append(0)\n",
        "        else:\n",
        "            clasificados.append(1)\n",
        "    return clasificados\n",
        "\n",
        "\n",
        "def prueba_corridas(numeros, alpha):\n",
        "    clasificados = clasificar_numeros(numeros)\n",
        "\n",
        "    del clasificados[0]\n",
        "    print (clasificados, \"\\n\")\n",
        "\n",
        "    h = calcular_corridas(clasificados)\n",
        "    print (\"El numero de corridas dentro del arreglo es de: \", h, \"\\n\")\n",
        "\n",
        "    e, v = calcular_valores_esperados(numeros)\n",
        "    z = (h - e) / (v ** 0.5)\n",
        "    print(\"El valor E(h) = \", e)\n",
        "    print(\"El valor V(h) = \", v , \"\\n\")\n",
        "    print(\"El valor Z = \", z , \"\\n\")\n",
        "    \n",
        "    z_critico = norm.ppf((1 + alpha )/ 2)\n",
        "    print (\"El valor de z_critico = \" , round(z_critico,2),\"\\n\")\n",
        "\n",
        "    print (\"Es\" , abs(z) , \"<=\" , z_critico)\n",
        "\n",
        "    return abs(z) <= z_critico\n",
        "\n",
        "\n",
        "n = int(input(\"Ingrese el tamaño del arreglo que se desea generar: \"))\n",
        "nivel_confianza = int(input(\"Ingrese el nivel de confianza (en valor entero) que requiere para hacer la Prueba de independencia: \"))\n",
        "\n",
        "numeros_aleatorios = np.random.rand(n)\n",
        "print(\"\\n\",numeros_aleatorios, \"\\n\")\n",
        "prueba_corridas(numeros_aleatorios, nivel_confianza/100)\n",
        "\n",
        "\n"
      ],
      "metadata": {
        "colab": {
          "base_uri": "https://localhost:8080/"
        },
        "id": "Ry0Xn2xbDNBQ",
        "outputId": "17a991c0-fad1-499f-9670-0f2b2a7061c1"
      },
      "execution_count": 294,
      "outputs": [
        {
          "output_type": "stream",
          "name": "stdout",
          "text": [
            "Ingrese el tamaño del arreglo que se desea generar: 100\n",
            "Ingrese el nivel de confianza (en valor entero) que requiere para hacer la Prueba de independencia: 90\n",
            "\n",
            " [0.63763435 0.37293251 0.43081119 0.153085   0.91667802 0.26615005\n",
            " 0.19739225 0.53928033 0.24500757 0.02992154 0.29743502 0.90509829\n",
            " 0.1477603  0.79301173 0.74869145 0.04803457 0.61262718 0.65096028\n",
            " 0.07824243 0.21659979 0.74970698 0.95718244 0.05431521 0.95002734\n",
            " 0.57441074 0.52750327 0.77534619 0.09008969 0.25849723 0.82554501\n",
            " 0.78725076 0.94583095 0.4103392  0.21954915 0.5895709  0.73467496\n",
            " 0.31129088 0.94804853 0.91539386 0.47911175 0.97831766 0.9095714\n",
            " 0.09161288 0.8669561  0.9960059  0.92304064 0.37207582 0.78133729\n",
            " 0.41832057 0.84529988 0.5291967  0.34625821 0.31522752 0.50553655\n",
            " 0.05222641 0.80288786 0.91324767 0.37915621 0.69827131 0.63478574\n",
            " 0.47969212 0.97290104 0.97483627 0.53187353 0.07277992 0.23946832\n",
            " 0.48889886 0.16226697 0.49898526 0.85079986 0.39611939 0.68055779\n",
            " 0.07832697 0.48201838 0.19847843 0.33509673 0.34591744 0.88141936\n",
            " 0.19916842 0.73031341 0.7908807  0.35532231 0.34756797 0.04787481\n",
            " 0.0801591  0.02289335 0.19946455 0.78471919 0.98832371 0.37072301\n",
            " 0.7521288  0.65414645 0.08339755 0.90164348 0.69139877 0.94204838\n",
            " 0.79592861 0.99109468 0.74579292 0.76582557] \n",
            "\n",
            "[0, 1, 0, 1, 0, 0, 1, 0, 0, 1, 1, 0, 1, 0, 0, 1, 1, 0, 1, 1, 1, 0, 1, 0, 0, 1, 0, 1, 1, 0, 1, 0, 0, 1, 1, 0, 1, 0, 0, 1, 0, 0, 1, 1, 0, 0, 1, 0, 1, 0, 0, 0, 1, 0, 1, 1, 0, 1, 0, 0, 1, 1, 0, 0, 1, 1, 0, 1, 1, 0, 1, 0, 1, 0, 1, 1, 1, 0, 1, 1, 0, 0, 0, 1, 0, 1, 1, 1, 0, 1, 0, 0, 1, 0, 1, 0, 1, 0, 1] \n",
            "\n",
            "El numero de corridas dentro del arreglo es de:  68 \n",
            "\n",
            "El valor E(h) =  66.33333333333333\n",
            "El valor V(h) =  17.455555555555556 \n",
            "\n",
            "El valor Z =  0.398916419011675 \n",
            "\n",
            "El valor de z_critico =  1.64 \n",
            "\n",
            "Es 0.398916419011675 <= 1.6448536269514722\n"
          ]
        },
        {
          "output_type": "execute_result",
          "data": {
            "text/plain": [
              "True"
            ]
          },
          "metadata": {},
          "execution_count": 294
        }
      ]
    },
    {
      "cell_type": "markdown",
      "source": [
        "# PRUEBA DE UNIFORMIDAD\n",
        "### - Prueba de Kolmogorov - Smirnov"
      ],
      "metadata": {
        "id": "f4JQ-OS-N3Kq"
      }
    },
    {
      "cell_type": "markdown",
      "source": [
        "Paso 1: Se genera un arreglo arreglo_ri de tamaño n que contiene valores aleatorios uniformes en el intervalo [0,1]. Estos valores representan la muestra que queremos analizar para determinar si sigue una distribución uniforme.\n",
        "\n",
        "Paso 2: Se ordenan los valores del arreglo arreglo_ri de mayor a menor. Esto se hace para poder aplicar las fórmulas que se usan para calcular los valores de *D_plus, D_minus y D*. El objetivo de este paso es obtener una versión ordenada de la muestra original.\n",
        "\n",
        "Paso 3: Se calculan los valores de *D_plus, D_minus y D*. Estos valores se usan para determinar si la muestra sigue una distribución uniforme.\n",
        "\n",
        "***D_plus*** representa la mayor distancia vertical entre la función de distribución empírica y la función de distribución uniforme teórica, en el caso en que la función empírica se encuentre por debajo de la uniforme.\n",
        "\n",
        "***D_minus*** representa la mayor distancia vertical entre la función de distribución empírica y la función de distribución uniforme teórica, en el caso en que la función empírica se encuentre por encima de la uniforme.\n",
        "\n",
        "***D*** es el máximo de *D_plus y D_minus*, y representa la mayor distancia vertical entre la función de distribución empírica y la función de distribución uniforme teórica en cualquier punto del intervalo [0,1].\n",
        "\n",
        "Paso 4: Se determina *el valor crítico D_critical* a partir de la tabla de valores críticos de **Kolmogorov-Smirnov**, para un grado de confianza alpha y un tamaño de muestra n. Este valor crítico representa la máxima distancia vertical entre la función de distribución empírica y la función de distribución uniforme teórica que se espera encontrar en una muestra aleatoria de tamaño n con un nivel de confianza de 1-alpha.\n",
        "\n",
        "Paso 5: Se compara el valor de *D con el valor crítico D_critical*. *Si D es mayor que D_critical*, se concluye que la muestra arreglo_ri no sigue una distribución uniforme con un nivel de confianza de 1-alpha. Si D es menor o igual que D_critical, se concluye que la muestra arreglo_ri sí sigue una distribución uniforme con un nivel de confianza de 1-alpha."
      ],
      "metadata": {
        "id": "ILiJkXJWNgvR"
      }
    },
    {
      "cell_type": "code",
      "source": [
        "import numpy as np\n",
        "from scipy.stats import ksone\n",
        "\n",
        "# Paso 1: Crear un arreglo arreglo_ri aleatorio con n datos\n",
        "n = int(input(\"Ingrese el valor de n: \"))\n",
        "print(\"\\n\")\n",
        "arreglo_ri = np.random.rand(n)\n",
        "\n",
        "# Paso 2: Ordenar de mayor a menor los numeros del conjunto arreglo_ri\n",
        "arreglo_ri_sorted = np.sort(arreglo_ri)[::-1]\n",
        "print(\"arreglo_ri_sorted:\\n\", arreglo_ri_sorted,\"\\n\")\n",
        "\n",
        "# Determinar valores D+, D- y D\n",
        "D_plus = np.max([(i+1)/n - arreglo_ri_sorted[i] for i in range(n)])\n",
        "D_minus = np.max([arreglo_ri_sorted[i] - i/n for i in range(n)])\n",
        "D = np.max([D_plus, D_minus])\n",
        "print(\"D_plus:\\n\", D_plus)\n",
        "print(\"D_minus:\\n\", D_minus)\n",
        "print(\"D:\\n\", D,\"\\n\")\n",
        "\n",
        "# Paso 3: Determinar el valor crítico D_{/alpha,n}\n",
        "alpha = float(input(\"Ingrese el grado de confianza /alpha: \"))\n",
        "print(\"\\n\")\n",
        "D_critical = ksone.ppf(1-alpha, n)\n",
        "print(\"D_critical:\\n\", D_critical)\n",
        "print(\"\\n\")\n",
        "\n",
        "# Paso 4: Concluir si el conjunto arreglo_ri sigue o no una distribución uniforme\n",
        "if D > D_critical:\n",
        "    print(f\"El conjunto arreglo_ri NO sigue una distribución uniforme con un grado de confianza de {1-alpha}\\n\")\n",
        "else:\n",
        "    print(f\"El conjunto arreglo_ri sigue una distribución uniforme con un grado de confianza de {1-alpha}\\n\")\n"
      ],
      "metadata": {
        "colab": {
          "base_uri": "https://localhost:8080/"
        },
        "id": "oE65Mp4SLqxw",
        "outputId": "cd3bc931-1c6e-4369-9aaf-b69f49c666e2"
      },
      "execution_count": 300,
      "outputs": [
        {
          "output_type": "stream",
          "name": "stdout",
          "text": [
            "Ingrese el valor de n: 100\n",
            "\n",
            "\n",
            "arreglo_ri_sorted:\n",
            " [0.99374742 0.98943854 0.96561343 0.96153728 0.95344281 0.9298908\n",
            " 0.89608552 0.88792012 0.88512632 0.88173198 0.87295817 0.86460748\n",
            " 0.86379759 0.86277055 0.8501649  0.83605513 0.83526231 0.83176889\n",
            " 0.81719461 0.80096697 0.80088425 0.79964118 0.78704001 0.78541215\n",
            " 0.77251427 0.7710822  0.76956208 0.75746176 0.7511493  0.75082021\n",
            " 0.74705513 0.74104755 0.73200014 0.72354144 0.70962931 0.70049734\n",
            " 0.6929259  0.6812188  0.67963465 0.67731448 0.64173476 0.62868941\n",
            " 0.60010064 0.5923424  0.58939376 0.56228529 0.55779517 0.55429875\n",
            " 0.54656334 0.5424371  0.54229423 0.53005061 0.52925912 0.51872983\n",
            " 0.49705523 0.49682799 0.48371914 0.48015032 0.47925037 0.4764012\n",
            " 0.44690785 0.44246093 0.43772454 0.42001026 0.40320366 0.40053462\n",
            " 0.38167852 0.36052068 0.35844246 0.34288555 0.33812069 0.32694439\n",
            " 0.32546533 0.32432965 0.32426136 0.3150554  0.24791139 0.24690977\n",
            " 0.2455278  0.24364895 0.22020184 0.21962495 0.21323248 0.19800851\n",
            " 0.1901399  0.18491902 0.166037   0.15385793 0.12817083 0.12349552\n",
            " 0.12303244 0.11093538 0.0985822  0.09713219 0.07739927 0.05153358\n",
            " 0.04901051 0.03096921 0.00850004 0.00385617] \n",
            "\n",
            "D_plus:\n",
            " 0.9961438322586166\n",
            "D_minus:\n",
            " 0.9937474156229287\n",
            "D:\n",
            " 0.9961438322586166 \n",
            "\n",
            "Ingrese el grado de confianza /alpha: 0.06\n",
            "\n",
            "\n",
            "D_critical:\n",
            " 0.11689727888670595\n",
            "\n",
            "\n",
            "El conjunto arreglo_ri NO sigue una distribución uniforme con un grado de confianza de 0.94\n",
            "\n"
          ]
        }
      ]
    }
  ]
}