{
  "nbformat": 4,
  "nbformat_minor": 0,
  "metadata": {
    "colab": {
      "provenance": [],
      "authorship_tag": "ABX9TyNhJHVSIpe1nEj3arBKbIqr",
      "include_colab_link": true
    },
    "kernelspec": {
      "name": "python3",
      "display_name": "Python 3"
    },
    "language_info": {
      "name": "python"
    }
  },
  "cells": [
    {
      "cell_type": "markdown",
      "metadata": {
        "id": "view-in-github",
        "colab_type": "text"
      },
      "source": [
        "<a href=\"https://colab.research.google.com/github/NIETOCAMBRON7/Simulacion-2/blob/main/Inventario_con_simpy___Nieto_Cambron_Daniel_Alejandro.ipynb\" target=\"_parent\"><img src=\"https://colab.research.google.com/assets/colab-badge.svg\" alt=\"Open In Colab\"/></a>"
      ]
    },
    {
      "cell_type": "markdown",
      "source": [
        "# Inventario con simpy"
      ],
      "metadata": {
        "id": "ReBrwe0ossLt"
      }
    },
    {
      "cell_type": "markdown",
      "source": [
        "## Alumno: Nieto Cambrón Daniel Alejandro"
      ],
      "metadata": {
        "id": "ozKOdbCRsv51"
      }
    },
    {
      "cell_type": "markdown",
      "source": [
        "Se importan las bibliotecas necesarias: simpy, numpy y matplotlib.pyplot.\n"
      ],
      "metadata": {
        "id": "m8y-2yj-sDAl"
      }
    },
    {
      "cell_type": "code",
      "execution_count": 2,
      "metadata": {
        "colab": {
          "base_uri": "https://localhost:8080/"
        },
        "id": "97sW55qfre_3",
        "outputId": "9d6d3eca-5eda-41aa-a878-367591845726"
      },
      "outputs": [
        {
          "output_type": "stream",
          "name": "stdout",
          "text": [
            "Looking in indexes: https://pypi.org/simple, https://us-python.pkg.dev/colab-wheels/public/simple/\n",
            "Requirement already satisfied: simpy in /usr/local/lib/python3.10/dist-packages (4.0.1)\n"
          ]
        }
      ],
      "source": [
        "!pip install simpy\n",
        "import simpy\n",
        "import numpy as np\n",
        "import matplotlib.pyplot as plt\n"
      ]
    },
    {
      "cell_type": "markdown",
      "source": [
        "Se define la función warehouse_run, que simula el funcionamiento del almacén.\n",
        "\n",
        "Se encarga de manejar el inventario, el balance y las órdenes de reposición."
      ],
      "metadata": {
        "id": "Pyaa9RW6sRpd"
      }
    },
    {
      "cell_type": "code",
      "source": [
        "# Función principal que simula el funcionamiento del almacén\n",
        "def warehouse_run(env, order_cutoff, order_target):\n",
        "  global inventory, balance, num_ordered\n",
        "\n",
        "  inventory = order_target\n",
        "  balance = 0.0\n",
        "  num_ordered = 0\n",
        "\n",
        "  while True:\n",
        "    interarrival = generate_interarrival()\n",
        "    yield env.timeout(interarrival)\n",
        "    balance -= inventory * 2 * interarrival\n",
        "    demand = generate_demand()\n",
        "    if demand < inventory:\n",
        "      balance += 100 * demand\n",
        "      inventory -= demand\n",
        "      print('{:.2f} vendidos {}'.format(env.now, demand))\n",
        "    else:\n",
        "      balance += 100 * inventory\n",
        "      inventory = 0\n",
        "      print('{:.2f} vendidos {} (sin stock)'.format(env.now, inventory))\n",
        "    if inventory < order_cutoff and num_ordered == 0:\n",
        "      env.process(handle_order(env, order_target))\n"
      ],
      "metadata": {
        "id": "UXzZeJiFrpCt"
      },
      "execution_count": 3,
      "outputs": []
    },
    {
      "cell_type": "markdown",
      "source": [
        "Se define la función handle_order, que procesa la orden de reposición de inventario. Esta función realiza el pedido, actualiza el inventario y el balance."
      ],
      "metadata": {
        "id": "AKCSguuisX8d"
      }
    },
    {
      "cell_type": "code",
      "source": [
        "# Procesa la orden de reposición de inventario\n",
        "def handle_order(env, order_target):\n",
        "  global inventory, balance, num_ordered\n",
        "\n",
        "  num_ordered = order_target - inventory\n",
        "  print('{:.2f} se ha realizado un pedido de {}'.format(env.now, num_ordered))\n",
        "  balance -= 50 * num_ordered\n",
        "  yield env.timeout(2.0)\n",
        "  inventory += num_ordered\n",
        "  num_ordered = 0\n",
        "  print('{:.2f} pedido recibido, {} en inventario'.format(env.now, inventory))"
      ],
      "metadata": {
        "id": "O1xHUUQKrsCV"
      },
      "execution_count": 4,
      "outputs": []
    },
    {
      "cell_type": "markdown",
      "source": [
        "Se definen las funciones generate_interarrival y generate_demand, que generan los tiempos entre llegadas de pedidos y la demanda de productos, respectivamente, utilizando distribuciones aleatorias."
      ],
      "metadata": {
        "id": "_Ugs_DqGsbRd"
      }
    },
    {
      "cell_type": "code",
      "source": [
        "\n",
        "# Genera el tiempo entre llegadas de los pedidos\n",
        "def generate_interarrival():\n",
        "  return np.random.exponential(1.0 / 5)\n",
        "\n",
        "# Genera la demanda de productos\n",
        "def generate_demand():\n",
        "  return np.random.randint(1, 5)\n",
        "\n"
      ],
      "metadata": {
        "id": "87MXWR3irvlt"
      },
      "execution_count": 5,
      "outputs": []
    },
    {
      "cell_type": "markdown",
      "source": [
        "Se crean las variables obs_time e inventory_level para almacenar las observaciones del nivel de inventario a lo largo del tiempo."
      ],
      "metadata": {
        "id": "rluSA3ulsgeF"
      }
    },
    {
      "cell_type": "code",
      "source": [
        "# Variables para almacenar las observaciones del inventario a lo largo del tiempo\n",
        "obs_time = []\n",
        "inventory_level = []"
      ],
      "metadata": {
        "id": "_lURheh-r3kd"
      },
      "execution_count": 7,
      "outputs": []
    },
    {
      "cell_type": "markdown",
      "source": [
        "\n",
        "Se define la función observe, que se encarga de observar el nivel de inventario en intervalos de tiempo y almacenar los datos en las variables mencionadas anteriormente."
      ],
      "metadata": {
        "id": "z-fElPW9sjVt"
      }
    },
    {
      "cell_type": "code",
      "source": [
        "# Observa el nivel de inventario en intervalos de tiempo\n",
        "def observe(env):\n",
        "  global inventory\n",
        "\n",
        "  while True:\n",
        "    obs_time.append(env.now)\n",
        "    inventory_level.append(inventory)\n",
        "    yield env.timeout(0.1)\n",
        "\n"
      ],
      "metadata": {
        "id": "kcwsRFtdryrl"
      },
      "execution_count": 8,
      "outputs": []
    },
    {
      "cell_type": "markdown",
      "source": [
        "Se establece una semilla aleatoria utilizando np.random.seed(0) para reproducibilidad de los resultados.\n",
        "\n",
        "Se crea un entorno de simulación (simpy.Environment()).\n",
        "\n",
        "Se inician dos procesos en paralelo en el entorno de simulación: warehouse_run(env, 25, 50) y observe(env).\n",
        "\n",
        "Se ejecuta la simulación hasta un tiempo específico (env.run(until=5.0)).\n",
        "\n",
        "Se visualiza el nivel de inventario a lo largo del tiempo utilizando matplotlib.pyplot."
      ],
      "metadata": {
        "id": "8JFXQJBTsmkV"
      }
    },
    {
      "cell_type": "code",
      "source": [
        "np.random.seed(0)\n",
        "\n",
        "# Configuración del entorno de simulación\n",
        "env = simpy.Environment()\n",
        "env.process(warehouse_run(env, 25, 50))\n",
        "env.process(observe(env))\n",
        "\n",
        "# Ejecución de la simulación hasta un tiempo determinado\n",
        "env.run(until=5.0)\n",
        "\n",
        "# Visualización del nivel de inventario a lo largo del tiempo\n",
        "plt.figure()\n",
        "plt.step(obs_time, inventory_level, where='post')\n",
        "plt.xlabel('Tiempo de simulación (días)')\n",
        "plt.ylabel('Nivel de inventario')"
      ],
      "metadata": {
        "colab": {
          "base_uri": "https://localhost:8080/",
          "height": 971
        },
        "id": "5E-CDt5ir601",
        "outputId": "f6b9aaaf-529e-4649-a813-9eb0358498c1"
      },
      "execution_count": 9,
      "outputs": [
        {
          "output_type": "stream",
          "name": "stdout",
          "text": [
            "0.16 vendidos 2\n",
            "0.53 vendidos 4\n",
            "0.69 vendidos 2\n",
            "0.88 vendidos 3\n",
            "1.00 vendidos 3\n",
            "1.01 vendidos 1\n",
            "1.11 vendidos 3\n",
            "1.44 vendidos 3\n",
            "1.61 vendidos 2\n",
            "1.97 vendidos 1\n",
            "1.99 vendidos 4\n",
            "1.99 se ha realizado un pedido de 28\n",
            "2.08 vendidos 2\n",
            "2.38 vendidos 4\n",
            "2.79 vendidos 4\n",
            "3.11 vendidos 4\n",
            "3.26 vendidos 4\n",
            "3.28 vendidos 1\n",
            "3.46 vendidos 2\n",
            "3.99 pedido recibido, 29 en inventario\n",
            "4.04 vendidos 4\n",
            "4.06 vendidos 4\n",
            "4.06 se ha realizado un pedido de 29\n",
            "4.12 vendidos 4\n",
            "4.39 vendidos 1\n",
            "4.56 vendidos 1\n",
            "4.63 vendidos 2\n",
            "4.82 vendidos 1\n",
            "4.92 vendidos 1\n"
          ]
        },
        {
          "output_type": "execute_result",
          "data": {
            "text/plain": [
              "Text(0, 0.5, 'Nivel de inventario')"
            ]
          },
          "metadata": {},
          "execution_count": 9
        },
        {
          "output_type": "display_data",
          "data": {
            "text/plain": [
              "<Figure size 640x480 with 1 Axes>"
            ],
            "image/png": "[encoded data removed]"
          },
          "metadata": {}
        }
      ]
    },
    {
      "cell_type": "markdown",
      "source": [
        "\n",
        "En resumen, este código simula el funcionamiento de un almacén, generando llegadas de pedidos, demanda de productos, realizando órdenes de reposición y observando el nivel de inventario a lo largo del tiempo. Los resultados se representan gráficamente mediante un gráfico de nivel de inventario versus tiempo.\n",
        "\n",
        "Espero que esta explicación general te sea útil. Si tienes alguna pregunta adicional, no dudes en hacerla."
      ],
      "metadata": {
        "id": "G4dmrFO_sNO1"
      }
    }
  ]
}