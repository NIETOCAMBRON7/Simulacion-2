{
  "nbformat": 4,
  "nbformat_minor": 0,
  "metadata": {
    "colab": {
      "provenance": [],
      "authorship_tag": "ABX9TyMdtuwbXLHbM8JmgPBfosv/",
      "include_colab_link": true
    },
    "kernelspec": {
      "name": "python3",
      "display_name": "Python 3"
    },
    "language_info": {
      "name": "python"
    }
  },
  "cells": [
    {
      "cell_type": "markdown",
      "metadata": {
        "id": "view-in-github",
        "colab_type": "text"
      },
      "source": [
        "<a href=\"https://colab.research.google.com/github/NIETOCAMBRON7/Simulacion-2/blob/main/Exmen/Ejercicio3_Ex%C3%A1men.ipynb\" target=\"_parent\"><img src=\"https://colab.research.google.com/assets/colab-badge.svg\" alt=\"Open In Colab\"/></a>"
      ]
    },
    {
      "cell_type": "markdown",
      "source": [
        "#Alumno: Nieto Cambrón Daniel Alejandro\n",
        "## Boleta: 2015030917\n",
        "## Fecha: 07 de mayo de 2023\n",
        "### Primer Examen parcial: Simulación 1"
      ],
      "metadata": {
        "id": "uYZrM6O4_-p7"
      }
    },
    {
      "cell_type": "markdown",
      "source": [
        "# <font color='blue'>Ejercicio 3</font>\n",
        "\n",
        "Una empresa dispone de varias máquinas herramienta cuyas herramientas de corte\n",
        "se desgastan constantemente. Cuando esto ocurre, la máquina es inservible. En la\n",
        "actualidad el mantenimiento es correctivo reemplazándose una herramienta cuando falla. Dado que cada máquina dispone de una torre con cinco herramientas, se propone reemplazar toda la torre de herramientas (las cinco herramientas de golpe) cada vez que falle una, lo que debería reducir la frecuencia de desgaste de las herramientas. El tiempo necesario para el reemplazo de una herramienta es de una hora. Las cinco pueden reemplazarse en dos horas. El coste de una hora de máquina parada es de cien euros. Cada herramienta cuesta diez euros. \n",
        "\n",
        "La tabla siguiente recoge los datos de averías en el caso de sustituir una sola herramienta cada vez.\n",
        "\n",
        "| Horas entre averías | Probabilidad |\n",
        "|---------------------|--------------|\n",
        "| 20                  | 0.05         |\n",
        "| 30                  | 0.15         |\n",
        "| 40                  | 0.15         |\n",
        "| 50                  | 0.20         |\n",
        "| 60                  | 0.20         |\n",
        "| 70                  | 0.15         |\n",
        "| 80                  | 0.10         |\n",
        "\n",
        "Si las cinco herramientas se cambian cada vez que una falla, la distribución de probabilidad entre fallos es la siguiente:\n",
        "\n",
        "| Horas entre averías | Probabilidad |\n",
        "|---------------------|--------------|\n",
        "| 30                  | 0.05         |\n",
        "| 40                  | 0.15         |\n",
        "| 50                  | 0.15         |\n",
        "| 60                  | 0.20         |\n",
        "| 70                  | 0.20         |\n",
        "| 80                  | 0.15         |\n",
        "| 90                  | 0.10         |\n"
      ],
      "metadata": {
        "id": "bz8SYWVCQQyg"
      }
    },
    {
      "cell_type": "markdown",
      "source": [
        "Vamos a resolver este problema, procurando seguir la metodología vista en el curso."
      ],
      "metadata": {
        "id": "W5Nh2nDpOdSq"
      }
    },
    {
      "cell_type": "markdown",
      "source": [
        "\n",
        "###(a) Determine mediante simulación la mejor política de reemplazo de las herramientas de corte.\n",
        "\n",
        "####Paso 1. Identifique las variables \n",
        "\n",
        "\n",
        "El primer paso sera seccionar nuestros intervalos y los tomaremos como sigue:\n",
        "\n",
        "Averías en el caso de sustituir una sola herramienta cada vez.\n",
        "\n",
        "| Horas entre averias    |  f(x) |   F(x)  | Intervalos   |\n",
        "|------------------------|-------|---------|--------------|\n",
        "| 20                     | 0.05  |   0.05  |  [0.00,0.05) |\n",
        "| 30                     | 0.15  |   0.20  |  [0.05,0.20) |\n",
        "| 40                     | 0.15  |   0.35  |  [0.20,0.35) |\n",
        "| 50                     | 0.20  |   0.55  |  [0.35,0.55) |\n",
        "| 60                     | 0.20  |   0.75  |  [0.55,0.75) |\n",
        "| 70                     | 0.15  |   0.90  |  [0.75,0.90) |\n",
        "| 80                     | 0.10  |   1.00  |  [0.90,1.00] |\n",
        "\n",
        "Ahora bien, para este caso particular utilizaremos la funcion añadida en Python, \"random.random()\" para elegir numeros aleatorios entre 0 y 1, una vez que se ha elegido el numero, nos posicionaremos en la posicion de Horas de averia que corresponda, segun el numero elegido al azar y nuestros intervalos dados, y diremos que nuestra proxima averia se dara en un Tiempo = Numero seleccionado de \"Horas entre averias\" correspondiente al intervalo dado.\n",
        "\n",
        "Por lo tanto consideraremos $Tiempo: [T]$, $Tiempo2: [T_2]$"
      ],
      "metadata": {
        "id": "cy8NLVZyLsz5"
      }
    },
    {
      "cell_type": "code",
      "source": [
        "#La biblioteca random proporciona funciones para generar números aleatorios en\n",
        "# Python. Se utiliza principalmente para aplicaciones de juegos y simulaciones\n",
        "\n",
        "import random\n",
        "\n",
        "#La biblioteca numpy es una biblioteca de Python utilizada para cálculos \n",
        "# numéricos en general y es especialmente útil para el procesamiento de matrices \n",
        "# y arreglos multidimensionales. \n",
        "\n",
        "import numpy as np\n",
        "\n",
        "def tiempo():\n",
        "    aleatorio = random.random()\n",
        "    if aleatorio < 0.05:\n",
        "        return 20\n",
        "    elif aleatorio < 0.20:\n",
        "        return 30\n",
        "    elif aleatorio < 0.35:\n",
        "        return 40\n",
        "    elif aleatorio < 0.55:\n",
        "        return 50\n",
        "    elif aleatorio < 0.75:\n",
        "        return 60\n",
        "    elif aleatorio < 0.90:\n",
        "        return 70\n",
        "    else:\n",
        "        return 80"
      ],
      "metadata": {
        "id": "UpPtHao052ya"
      },
      "execution_count": 5,
      "outputs": []
    },
    {
      "cell_type": "markdown",
      "source": [
        "Una vez que se ha definido lo anterior, se continua como sigue:"
      ],
      "metadata": {
        "id": "8atVE5bv7At3"
      }
    },
    {
      "cell_type": "markdown",
      "source": [
        "Y ahora definimos, la siguiente tabla, que hace referencia a Averías en caso de sustituir la torre de 5 herramientas.\n",
        "\n",
        "| Horas entre averias    |  f(x) |   F(x)  | Intervalos   |\n",
        "|------------------------|-------|---------|--------------|\n",
        "| 30                     | 0.05  |   0.05  |  [0.00,0.05) |\n",
        "| 40                     | 0.15  |   0.20  |  [0.05,0.20) |\n",
        "| 50                     | 0.15  |   0.35  |  [0.20,0.35) |\n",
        "| 60                     | 0.20  |   0.55  |  [0.35,0.55) |\n",
        "| 70                     | 0.20  |   0.75  |  [0.55,0.75) |\n",
        "| 80                     | 0.15  |   0.90  |  [0.75,0.90) |\n",
        "| 90                     | 0.10  |   1.00  |  [0.90,1.00] |\n",
        "\n",
        "y analogamente se hara una funcion en Python que nos ayude a seleccionar esto, y se muestra a continuacion:"
      ],
      "metadata": {
        "id": "LABd45467-wT"
      }
    },
    {
      "cell_type": "code",
      "source": [
        "def tiempo2():\n",
        "    aleatorio = random.random()\n",
        "    if aleatorio < 0.05:\n",
        "        return 30\n",
        "    elif aleatorio < 0.20:\n",
        "        return 40\n",
        "    elif aleatorio < 0.35:\n",
        "        return 50\n",
        "    elif aleatorio < 0.55:\n",
        "        return 60\n",
        "    elif aleatorio < 0.75:\n",
        "        return 70\n",
        "    elif aleatorio < 0.90:\n",
        "        return 80\n",
        "    else:\n",
        "        return 90\n"
      ],
      "metadata": {
        "id": "57b4RwYS-KXT"
      },
      "execution_count": 6,
      "outputs": []
    },
    {
      "cell_type": "markdown",
      "source": [
        "#### Paso 2 y 3. Determine la distribución de probabilidad y modele las variables aleatorias"
      ],
      "metadata": {
        "id": "mR9hEys3QCei"
      }
    },
    {
      "cell_type": "markdown",
      "source": [
        "Esta distribución es un ejemplo de una distribución discreta no uniforme. y Se modelan de manera en que estan definidas en \n",
        "\n",
        "los codigos anteriores\n",
        "\n",
        "**def tiempo()** correspondiente a $Tiempo: [T]$\n",
        "\n",
        "**def tiempo2()**correspondiente a  $Tiempo2: [T_2]$\n",
        "\n",
        "De manera analitica lo podemos definir como sigue:\n",
        "\n",
        "Para modelar estas variables aleatorias, podemos utilizar la notación de distribución de probabilidad discreta. Por ejemplo, la distribución de probabilidad de la variable aleatoria tiempo puede ser modelada de la siguiente manera:\n",
        "\n",
        "$$P(T = t_i) =\n",
        "\\begin{cases}\n",
        "0.05, & \\text{si } t_i = 20 \\\\\n",
        "0.15, & \\text{si } t_i = 30 \\\\\n",
        "0.15, & \\text{si } t_i = 40 \\\\\n",
        "0.20, & \\text{si } t_i = 50 \\\\\n",
        "0.20, & \\text{si } t_i = 60 \\\\\n",
        "0.15, & \\text{si } t_i = 70 \\\\\n",
        "0.05, & \\text{si } t_i = 80 \\\\\n",
        "0, & \\text{en otro caso}\n",
        "\\end{cases}$$\n",
        "\n",
        "y \n",
        "\n",
        "\n",
        "$$P(T2 = t_{2,i}) =\n",
        "\\begin{cases}\n",
        "0.05, & \\text{si } t_{2,i} = 30 \\\\\n",
        "0.15, & \\text{si } t_{2,i} = 40 \\\\\n",
        "0.15, & \\text{si } t_{2,i} = 50 \\\\\n",
        "0.20, & \\text{si } t_{2,i} = 60 \\\\\n",
        "0.20, & \\text{si } t_{2,i} = 70 \\\\\n",
        "0.15, & \\text{si } t_{2,i} = 80 \\\\\n",
        "0.05, & \\text{si } t_{2,i} = 90 \\\\\n",
        "0, & \\text{en otro caso}\n",
        "\\end{cases}$$"
      ],
      "metadata": {
        "id": "mzcipGH2PnIp"
      }
    },
    {
      "cell_type": "markdown",
      "source": [
        "\n",
        "#### Paso 4. Defina el modelo del sistema y los objetivos de la simulación"
      ],
      "metadata": {
        "id": "69krI3cXQbbi"
      }
    },
    {
      "cell_type": "markdown",
      "source": [
        "Nuetro horizonte de planificación lo definimos como el tiempo laboral de la maquina en horas, esto quiere decir, si nuestra maquina trabajara durante todo un año, podemos decir que un año tiene 365 dias, y cada dia 24 horas, implica que nuestro horizonte de planificacion tiene $365 \\cdot 24 = 8760$ horas de trabajo, asi entonces, definimos como sigue:"
      ],
      "metadata": {
        "id": "4tWg7bG08-GA"
      }
    },
    {
      "cell_type": "code",
      "source": [
        "# Horizonte de planificación\n",
        "Horas_de_Trabajo = 8760 #Este valor implica un año de trabajo en horas."
      ],
      "metadata": {
        "id": "iJMmQhre9g8A"
      },
      "execution_count": 26,
      "outputs": []
    },
    {
      "cell_type": "markdown",
      "source": [
        "Nuestra siguiente función, tiene un funcionamiento demasiado simple, una vez que se invoca, lo primero que hace es tomar un tiempo en el cual nuestra maquina va a fallar o averiarse, este tiempo se toma en base a la tabla de cambiar una sola herramienta que ya se menciono antes, seguido de esto definimos nuestro costo de mantenimiento como 0, ya que al iniciar nuestra simulacion, no contamos con un costo inicial, sin embargo si existiera un costo inicial por uso de maquina, etc. se podria definir en este apartado.\n",
        "\n",
        "Seguido de esto, entramos en un ciclo for, que se repetira durante las horas de trabajo que definimos en nuestro Horizonte de Planificación.\n",
        "\n",
        "Ejemplificando este caso, nosotros planificamos que nuestra maquina laborara un año, que es equivalente a $8760$ horas, supongamos que nuestro primer fallo se produce a las $70$ horas, nuestro tiempo se define en $70$ horas para el primer fallo, lo que hace nuestro ciclo for, es correr las horas e irlas restando a nuestro horizonte de planificación, y en este caso particular, en la hora $70$ tenemos un condicional el cual, nos indica que hay que hay que reparar la maquina o bien cambiar la herramienta dañada, una vez reparada, nuestro costo de mantenimiento aumenta pues ya se reparo una ocasión, lo que nos indica que ya tuvimos un gasto de $100$ euros por el tiempo en que la maquina estuvo parada y un gasto de $10$ euros por la herramienta averíada, después de esto, nuevamente definimos nuestro proximo tiempo de descompostura, el cual nuevamente tomara un valor entre $1$ y $80$; se repite el proceso, hasta que nuesto ciclo u horas de trabajo culminen, finalmente el valor que retorna es el costo de mantenimiento por hora, esto quiere decir que si en un año se gastaron $20mil$ euros por costo de mantenimiento, basta con decir que:\n",
        "\n",
        "$mantenimiento_{por \\cdot hora} =  \\frac{costo \\cdot anual}{horas \\cdot al \\cdot año} = \\frac{20000}{8760} = 2.2831$\n",
        "\n",
        "Asi entonces, el valor a retornar es de $2.2831$ euros por hora, siempre y cuando la maquina labore un total de $8760$ horas $i.e$ un año."
      ],
      "metadata": {
        "id": "vBnUIdu89v7_"
      }
    },
    {
      "cell_type": "code",
      "source": [
        "# Política de reemplazo de una herramienta\n",
        "def una_herramienta():\n",
        "    # Tiempo hasta la primera avería\n",
        "    time = tiempo()\n",
        "    # Costo de mantenimiento\n",
        "    costo_mantenimiento = 0\n",
        "    for i in range(Horas_de_Trabajo):\n",
        "        # Actualizar el tiempo hasta la próxima avería\n",
        "        time -= 1\n",
        "        if time == 0:\n",
        "            # Se produce una avería\n",
        "            costo_mantenimiento += 100 + 10\n",
        "            time = tiempo()\n",
        "            # Se reemplaza la herramienta dañada unicamente y el tiempo para realizar esta reparacion es de una hora.\n",
        "            time -= 1\n",
        "    return costo_mantenimiento / Horas_de_Trabajo"
      ],
      "metadata": {
        "id": "v8zLQ3sGChPY"
      },
      "execution_count": 27,
      "outputs": []
    },
    {
      "cell_type": "markdown",
      "source": [
        "Ahora bien, nuestra siguiente función, corresponde a la accion de cambiar las $5$ herramientas cuando al menos una falla. \n",
        "\n",
        "Se repite el mismo caso que la funcion anterior, unicamente que en esta ocasion se cambia el costo de mantenimiento al fallar, ya que cuando falla, se cambian las $5$ herramientas lo cual produce un costo de $50$ euros, asi como tambien, la reparacion dura dos horas, por lo que, el costo por tener la maquina parada dos horas es de $200$ euros, asi como tambien se modifica el tiempo que se debe de restar. \n",
        "\n",
        "y finalmente se retorna el costo de mantenimiento por hora."
      ],
      "metadata": {
        "id": "StZuu6VVCjdo"
      }
    },
    {
      "cell_type": "code",
      "source": [
        "# Política de reemplazo de toda la torre de herramientas\n",
        "def toda_la_torre():\n",
        "    # Tiempo hasta la primera avería\n",
        "    tiempo = tiempo2()\n",
        "    # Costo de mantenimiento\n",
        "    costo_mantenimiento = 0\n",
        "    for i in range(Horas_de_Trabajo):\n",
        "        # Actualizar el tiempo hasta la próxima avería\n",
        "        tiempo -= 1\n",
        "        if tiempo == 0:\n",
        "            # Se produce una avería\n",
        "            costo_mantenimiento += 200 + 5 * 10\n",
        "            tiempo = tiempo2()\n",
        "            # Se reemplaza toda la torre de herramientas y el tiempo para realizar esta reparacion es de dos horas.\n",
        "            tiempo -= 2\n",
        "    return costo_mantenimiento / Horas_de_Trabajo"
      ],
      "metadata": {
        "id": "RNPIt55XFD8i"
      },
      "execution_count": 28,
      "outputs": []
    },
    {
      "cell_type": "markdown",
      "source": [
        "#### Paso 5 y 6. Diseñe el experimento y Repita el experimento $n$ veces"
      ],
      "metadata": {
        "id": "VErSNsDrSc1D"
      }
    },
    {
      "cell_type": "markdown",
      "source": [
        "La simulación de Monte Carlo se utiliza comúnmente en la ciencia, la ingeniería, la economía y otras disciplinas para modelar y analizar sistemas complejos que no pueden ser analizados de manera determinista. En este caso, se utiliza para simular la vida útil de una herramienta y estimar los costos de mantenimiento promedio en función de los valores aleatorios generados.\n",
        "\n",
        "Utilizaremos $1000$ simulaciones para empezar y ver que es lo que sucede y lo que nos arroja.\n",
        "Nuestra metodologia en este caso es hacer la simulacion $1000$ veces para el caso en que se labore un año, y ver lo que sucede cuando cambiamos unicamente la herramienta que falla y volver a simular $1000$ veces para el caso en que se labore el mismo año, pero cambiando las $5$ herramientas cuando al menos una falle.\n",
        "\n",
        "Esto se hara sumando los valores que nos retorne cada funcion declarada como ya se menciono y dividiendo entre el numero de simulaciones que se hagan:\n",
        "\n",
        "Y finalmente se hara una comparacion de los dos valores para saber cual de las dos combiene más, dado que combiene la que genere un menor coste."
      ],
      "metadata": {
        "id": "zytyQVtSFji5"
      }
    },
    {
      "cell_type": "code",
      "source": [
        "# Simulación de Monte Carlo\n",
        "num_simulaciones = 1000\n",
        "costo_promedio_una_herramienta = sum(una_herramienta() for i in range(num_simulaciones)) / num_simulaciones\n",
        "costo_promedio_toda_la_torre = sum(toda_la_torre() for i in range(num_simulaciones)) / num_simulaciones\n",
        "\n",
        "# Resultados\n",
        "print(\"Costo promedio con política de reemplazo de una herramienta: {:.2f} euros por hora de trabajo\".format(costo_promedio_una_herramienta))\n",
        "print(\"Costo promedio con política de reemplazo de toda la torre de herramientas: {:.2f} euros por hora de trabajo\".format(costo_promedio_toda_la_torre))\n",
        "\n",
        "if costo_promedio_una_herramienta < costo_promedio_toda_la_torre:\n",
        "    print(\"La mejor política es la de reemplazar una herramienta a la vez.\")\n",
        "else:\n",
        "    print(\"La mejor política es la de reemplazar toda la torre de herramientas.\")\n"
      ],
      "metadata": {
        "colab": {
          "base_uri": "https://localhost:8080/"
        },
        "id": "cH_V10U_y3II",
        "outputId": "261bd185-fc7a-446f-9829-445ac2ede778"
      },
      "execution_count": 29,
      "outputs": [
        {
          "output_type": "stream",
          "name": "stdout",
          "text": [
            "Costo promedio con política de reemplazo de una herramienta: 2.15 euros por hora de trabajo\n",
            "Costo promedio con política de reemplazo de toda la torre de herramientas: 4.15 euros por hora de trabajo\n",
            "La mejor política es la de reemplazar una herramienta a la vez.\n"
          ]
        }
      ]
    },
    {
      "cell_type": "markdown",
      "source": [
        "Asi, finalmente concluimos que es mejor unicamente ir reemplazando la herramienta que se vaya dañando, ya que si se cambia toda la torre de herramientas, el costo de mantenimiento se eleba casi al doble de lo que arroja el hecho de cambiar unicamente la que se ha dañado."
      ],
      "metadata": {
        "id": "YCTT_FBqDNjx"
      }
    },
    {
      "cell_type": "code",
      "source": [
        "import matplotlib.pyplot as plt\n",
        "\n",
        "def graficar_convergencia_beneficio(beneficio_una_herramienta, beneficio_toda_la_torre):\n",
        "    fig, ax = plt.subplots()\n",
        "    ax.plot(beneficio_una_herramienta, label='Una herramienta')\n",
        "    ax.plot(beneficio_toda_la_torre, label='Toda la torre de herramientas')\n",
        "    ax.axhline(y=2.15, color='r', linestyle='--', label='valor de convergencia: 2.15')\n",
        "    ax.axhline(y=4.15, color='g', linestyle='--', label='valor de convergencia: 4.15')\n",
        "    ax.set_xlabel('Número de simulación')\n",
        "    ax.set_ylabel('Beneficio promedio')\n",
        "    ax.set_title('Convergencia del beneficio')\n",
        "    ax.legend()\n",
        "    plt.show()\n"
      ],
      "metadata": {
        "id": "rEOzHQLWTuRK"
      },
      "execution_count": 45,
      "outputs": []
    },
    {
      "cell_type": "code",
      "source": [
        "# Simulación de Monte Carlo\n",
        "num_simulaciones = 1000\n",
        "beneficio_una_herramienta = [una_herramienta() for i in range(num_simulaciones)]\n",
        "beneficio_toda_la_torre = [toda_la_torre() for i in range(num_simulaciones)]\n",
        "costo_promedio_una_herramienta = sum(beneficio_una_herramienta) / num_simulaciones\n",
        "costo_promedio_toda_la_torre = sum(beneficio_toda_la_torre) / num_simulaciones\n",
        "\n",
        "# Resultados\n",
        "print(\"Costo promedio con política de reemplazo de una herramienta: {:.2f} euros por hora de trabajo\".format(costo_promedio_una_herramienta))\n",
        "print(\"Costo promedio con política de reemplazo de toda la torre de herramientas: {:.2f} euros por hora de trabajo\".format(costo_promedio_toda_la_torre))\n",
        "\n",
        "if costo_promedio_una_herramienta < costo_promedio_toda_la_torre:\n",
        "    print(\"La mejor política es la de reemplazar una herramienta a la vez.\")\n",
        "else:\n",
        "    print(\"La mejor política es la de reemplazar toda la torre de herramientas.\")\n",
        "\n",
        "# Graficar convergencia del beneficio\n",
        "graficar_convergencia_beneficio(beneficio_una_herramienta, beneficio_toda_la_torre)\n"
      ],
      "metadata": {
        "colab": {
          "base_uri": "https://localhost:8080/",
          "height": 524
        },
        "id": "2CFTTIYST5QK",
        "outputId": "895411b2-90e6-4445-987a-edec4cbba032"
      },
      "execution_count": 46,
      "outputs": [
        {
          "output_type": "stream",
          "name": "stdout",
          "text": [
            "Costo promedio con política de reemplazo de una herramienta: 2.15 euros por hora de trabajo\n",
            "Costo promedio con política de reemplazo de toda la torre de herramientas: 4.16 euros por hora de trabajo\n",
            "La mejor política es la de reemplazar una herramienta a la vez.\n"
          ]
        },
        {
          "output_type": "display_data",
          "data": {
            "text/plain": [
              "<Figure size 640x480 with 1 Axes>"
            ],
            "image/png": "[encoded data removed]"
          },
          "metadata": {}
        }
      ]
    },
    {
      "cell_type": "markdown",
      "source": [
        "Podemos concluir que el beneficio esperado que se dio, oscila demasiado por lo que no aseguramos convergencia hacia 2.15 y 4.15 especificamente. \n",
        "Pues al ser un beneficio Esperado este varia demasiado en terminos de los eventos y a como suceden, mas aun por que nuestras variables aleatorias juegan un papel muy importante dado que pueden oscilar entre 20 y 90, por lo que puede ser interesante el analisis especifico por casos especificos."
      ],
      "metadata": {
        "id": "8_mNmHw1WfRy"
      }
    },
    {
      "cell_type": "markdown",
      "source": [
        "### (b) Resuelva el caso sin el uso de la simulación y compare los resultados. Indique si esto afecta o no a la decisión tomada utilizando la simulación.\n"
      ],
      "metadata": {
        "id": "IBSeg5UDC865"
      }
    },
    {
      "cell_type": "markdown",
      "source": [
        "\n",
        "\n",
        "Para resolver cuál es la mejor opción, debemos calcular los costos esperados de cada estrategia.\n",
        "\n",
        "En primer lugar, calculemos el costo esperado por hora de la estrategia actual (cambio de herramienta única):\n",
        "\n",
        "El costo de una hora de máquina parada es de $100$ euros, y el costo de reemplazo de una herramienta es de $10$ euros. Por lo tanto, el costo esperado por hora es:\n",
        "\n",
        "**Costo esperado por hora = Costo de máquina parada + Costo de herramientas = (100 $\\cdot$ Probabilidad de fallo por hora) + 10**\n",
        "\n",
        "\n",
        "Para calcular el costo total esperado por hora, debemos sumar los costos esperados por hora para cada una de las probabilidades de fallo por hora en la tabla, y dividir entre el numero total de horas trabajadas, en este caso son $350$ horas. El resultado es:\n",
        "\n",
        "$Costo \\cdot total \\cdot esperado \\cdot por \\cdot hora = \\frac{(100 * 0.05 + 10) + (100 * 0.15 + 10) + (100 * 0.15 + 10) + (100 * 0.20 + 10) + (100 * 0.20 + 10) + (100 * 0.15 + 10) + (100 * 0.10 + 10)}{350} = 0.4857 \\cdot euros/hora$\n",
        "\n",
        "\n",
        "En segundo lugar, calculemos el costo esperado por hora de la estrategia propuesta (cambio de torre de herramientas completa):\n",
        "\n",
        "Cuando falla una herramienta, se reemplaza toda la torre de herramientas. El costo de reemplazo de una torre completa es de $5 * 10 = 50 \\cdot euros$. \n",
        "\n",
        "El tiempo necesario para el reemplazo es de dos horas. Por lo tanto, el costo esperado por hora es:\n",
        "\n",
        "**Costo esperado por hora = Costo de máquina parada + Costo de herramientas = (100 $\\cdot$ Probabilidad de fallo por hora $\\cdot$ 2) + 50**\n",
        "\n",
        "Nuevamente, para calcular el costo total esperado por hora, debemos sumar los costos esperados por hora para cada una de las probabilidades de fallo por hora en la tabla y dividir entre el numero de horas trabajadas en este caso son $420$ horas. El resultado es:\n",
        "\n",
        "$Costo \\cdot total \\cdot esperado \\cdot por \\cdot hora = \\\\ \\frac{(100 * 0.05 * 2 + 50) + (100 * 0.15 * 2 + 50) + (100 * 0.15 * 2 + 50) + (100 * 0.20 * 2 + 50) + (100 * 0.20 * 2 + 50) + (100 * 0.15 * 2 + 50) + (100 * 0.10 * 2 + 50)}{420} = 1.30 \\cdot euros/hora$\n",
        "\n",
        "\n",
        "Por lo tanto, el costo esperado por hora de la estrategia de cambiar unicamente la pieza que se dañe es de $0.4857 \\cdot euros/hora$, mientras que el costo esperado por la estrategia de cambiar las cinco herramientas de la torre es de $1.30 \\cdot euros/hora$.\n",
        "\n",
        "Como resultado final, decimos que la estrategia actual de cambiar solo la herramienta que falla es mejor que la estrategia propuesta de cambiar toda la torre de herramientas cuando solo una falla. \n",
        "\n",
        "Por lo que podemos concluir, que tanto el resultado de la simulación, como el resultado utilizando el valor esperado, coinciden mutuamente, haciendo que se tome la misma decision para ambos casos."
      ],
      "metadata": {
        "id": "g9gDU0ciP1Jj"
      }
    }
  ]
}