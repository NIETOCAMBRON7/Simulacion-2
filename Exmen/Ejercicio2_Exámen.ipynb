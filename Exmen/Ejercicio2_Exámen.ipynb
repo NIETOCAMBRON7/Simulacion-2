{
  "nbformat": 4,
  "nbformat_minor": 0,
  "metadata": {
    "colab": {
      "provenance": [],
      "authorship_tag": "ABX9TyMEzYbAJqBnEtfSvLUFeNny",
      "include_colab_link": true
    },
    "kernelspec": {
      "name": "python3",
      "display_name": "Python 3"
    },
    "language_info": {
      "name": "python"
    }
  },
  "cells": [
    {
      "cell_type": "markdown",
      "metadata": {
        "id": "view-in-github",
        "colab_type": "text"
      },
      "source": [
        "<a href=\"https://colab.research.google.com/github/NIETOCAMBRON7/Simulacion-2/blob/main/Exmen/Ejercicio2_Ex%C3%A1men.ipynb\" target=\"_parent\"><img src=\"https://colab.research.google.com/assets/colab-badge.svg\" alt=\"Open In Colab\"/></a>"
      ]
    },
    {
      "cell_type": "markdown",
      "source": [
        "#Alumno: Nieto Cambrón Daniel Alejandro\n",
        "## Boleta: 2015030917\n",
        "## Fecha: 07 de mayo de 2023\n",
        "### Primer Examen parcial: Simulación 1"
      ],
      "metadata": {
        "id": "uYZrM6O4_-p7"
      }
    },
    {
      "cell_type": "markdown",
      "source": [
        "# <font color='blue'>Ejercicio 2</font>\n",
        "\n",
        "Un quiosquero vende periódicos a 1.10 euros cada uno. Cada periódico le cuesta al quiosquero 0.90 euros. Las ventas de periódicos del quiosquero a partir de su experiencia se refleja en la tabla siguiente.\n",
        "\n",
        "|Periodicos |30 |40 |50 |60 |70 |\n",
        "|-----------|---|---|---|---|---|\n",
        "| f(x)      |20%|25%|25%|20%|10%|\n",
        "\n",
        "La tabla recoge por ejemplo que el 20 % del tiempo las ventas han sido de 30 periódicos. Teniendo en cuenta el coste de 0,20 euros por venta perdida y el coste de 0,10 euros por el reciclaje de cada periódico no vendido, determine el beneficio promedio diario si pide 50 periódicos cada día."
      ],
      "metadata": {
        "id": "cwZXgUKnd2Wx"
      }
    },
    {
      "cell_type": "markdown",
      "source": [
        "### a) Resolver por simulación\n",
        "\n",
        "primero que nada definiremos nuestras variables como sigue la siguiente tabla:\n",
        "\n",
        "|Periodicos                  |   30   |     40    |     50    |    60   |  70  |\n",
        "|----------------------------|--------|-----------|-----------|---------|------|\n",
        "| f(x)                       |  20%   |   25%     |   25%     |   20%   |  10% |\n",
        "| $\\mathcal{f} (\\mathcal{x})$|  0.20  |   0.25    |   0.25    |   0.20  |  0.10|\n",
        "| $\\mathcal{F} (\\mathcal{x})$|0 - 0.19|0.20 - 0.44|0.45 - 0.69|0.70 - 0.89|0.90 - 1.00|\n",
        "\n",
        "A partir de esto definimos nuestra función: **num_periodicos_vendidos()**: la cual nos ayudara a definir aleatoriamente cuantos periodicos se venden al dia, simulando asi la venta diaria.\n"
      ],
      "metadata": {
        "id": "-rEY2ld4h3Ja"
      }
    },
    {
      "cell_type": "code",
      "source": [
        "import random\n",
        "def num_periodicos_vendidos():\n",
        "    num_aleatorio = random.random()\n",
        "    if num_aleatorio <= 0.20:\n",
        "        return 30,num_aleatorio\n",
        "    elif num_aleatorio <= 0.45:\n",
        "        return 40,num_aleatorio\n",
        "    elif num_aleatorio <= 0.70:\n",
        "        return 50,num_aleatorio\n",
        "    elif num_aleatorio <= 0.90:\n",
        "        return 60,num_aleatorio\n",
        "    else:\n",
        "        return 70,num_aleatorio"
      ],
      "metadata": {
        "id": "pB2aJTaH2rNk"
      },
      "execution_count": null,
      "outputs": []
    },
    {
      "cell_type": "markdown",
      "source": [
        "Bien, una vez definido lo anterior tenemos lo que sigue:\n",
        "crearemos la función **calcular_beneficio_diario(pedido,Dias_a_simular,Imprimir)**, a la cual le mandaremos 3 argumentos, siendo:\n",
        "\n",
        " **pedido**: Numero de periodicos que se encargan dia con dia, en este caso el problema nos hace definirlo en 50.\n",
        "\n",
        "**Dias_a_simular**: Sera la cantidad de días que deseamos simular la venta, en este caso, simularemos las ventas de un año\n",
        "\n",
        "**Imprimir**: Se mandara un 1 si deseamos visualizar los resultados de la tabla tales como: numero de Día, El numero aleatorio que se genero en la funcion pasada, el numero de ventas simuladas, las ventas reales, las ventas pedidas, los periodicos no vendidos, así como tambien el beneficio diario y el promedio.\n",
        "Y se mandara cualquier otro numero si no deseamos imprimir nada. Nos es muy util esta ultima ya que al momento de realizar el paso siguiente en el que tengamos que repetir la simulacion $n$ veces, pues unicamente nos interesara visualizar el factor promedio. "
      ],
      "metadata": {
        "id": "HKtaz3Og7im0"
      }
    },
    {
      "cell_type": "code",
      "source": [
        "def calcular_beneficio_diario(pedido,Dias_a_simular,Imprimir):\n",
        "    Beneficios_diarios = []\n",
        "    ventas_reales = 0\n",
        "    ventas_perdidas = 0\n",
        "    periodicos_no_vendidos = 0\n",
        "    for i in range(1, Dias_a_simular +1 ):\n",
        "        [num_ventas,aleatorio] = num_periodicos_vendidos()\n",
        "        if num_ventas > pedido:\n",
        "            ventas_reales = pedido\n",
        "            ventas_perdidas = num_ventas - pedido\n",
        "            periodicos_no_vendidos = 0\n",
        "        else:\n",
        "            ventas_reales = num_ventas\n",
        "            ventas_perdidas = 0\n",
        "            periodicos_no_vendidos = pedido - num_ventas\n",
        "        beneficio_diario = ventas_reales * 1.10 - pedido*0.90 - ventas_perdidas * 0.20 - periodicos_no_vendidos * 0.10\n",
        "        Beneficios_diarios.append(beneficio_diario)\n",
        "        if Imprimir == 1:\n",
        "          print(\"Dia:\", i, \"   Num. Aleatorio:\", round(aleatorio, 2), \"   Ventas Simuladas:\", num_ventas,\n",
        "                \"   Ventas Reales:\", ventas_reales, \"   Ventas Perdidas:\", ventas_perdidas,\n",
        "                \"   Periodicos No Vendidos:\", periodicos_no_vendidos, \"   Beneficio Diario:\", round(beneficio_diario, 2), \"   Beneficio Promedio:\", round(sum(Beneficios_diarios)/i))\n",
        "    \n",
        "    beneficio_promedio = sum(Beneficios_diarios) / Dias_a_simular\n",
        "\n",
        "    if Imprimir == 1:\n",
        "      print(\"El beneficio promedio diario es:\", round(beneficio_promedio, 2))\n",
        "    \n",
        "    return beneficio_promedio"
      ],
      "metadata": {
        "id": "HDKwURvkrmtb"
      },
      "execution_count": null,
      "outputs": []
    },
    {
      "cell_type": "markdown",
      "source": [
        "Realizaremos una simulacion de una unica ocasión, para verificar que los datos que arroja son los que deseamos segun las siguientes condiciones dadas por el problema y ya planificadas en la funcion anterior:\n",
        "\n",
        "\n",
        "***Si*** Ventas Simuladas $> $ Pedido $= 50$, Entonces:\n",
        "\n",
        "Ventas Reales $=$ Pedido $= 50$\n",
        "\n",
        "Ventas Perdidas $=$ Ventas Simuladas $-$ Pedido\n",
        "\n",
        "Periodicos NO Vendidos $=$ 0\n",
        "\n",
        "\n",
        "Por otro lado:\n",
        "\n",
        "\n",
        "***Si*** Ventas Simuladas $ \\leq$ Pedido $= 50$, Entonces:\n",
        "\n",
        "Ventas Perdidas $=$  0\n",
        "\n",
        "Periodicos NO Vendidos $=$ Pedido $-$ Ventas Reales\n",
        "\n",
        "Ventas Reales $=$ Ventas Simuladas\n",
        "\n",
        "Posterior a esto, se calcula el Beneficio, el cual esta dado por:\n",
        "\n",
        "$B = $ Precio Unitario de Venta  $\\times$  Ventas Reales $-$ Coste Unitario de adquisicion $\\times$ Pedido $-$ Costo Unitario de Reciclaje $\\times$ Periodicos NO Vendidos $-$ Coste de Venta Perdida $\\times$ Ventas Perdidas\n",
        "\n",
        "\n",
        "Como vimos en el planteamiento del problema, ya se tiene declarado, y se da como sigue:\n",
        "\n",
        "$B = $ $1.1$  $\\times$  Ventas Reales $-0.90 \\times 50-$ $0.10$ $\\times$ Periodicos NO Vendidos $-$ $0.10$ $\\times$ Ventas Perdidas\n",
        "\n",
        "\n",
        "A continuación, ejecutaremos una simulacion, mandaremos como argumentos\n",
        "\n",
        "Pedidos $=$ 50\n",
        "\n",
        "Dias a Simular $=$ 1 año $=$ 365 dias\n",
        "\n",
        "Deseamos imprimir la Tabla de valores $=$ 1"
      ],
      "metadata": {
        "id": "ibzIo-mU9PQk"
      }
    },
    {
      "cell_type": "code",
      "source": [
        "R = calcular_beneficio_diario(50, 365, 1)"
      ],
      "metadata": {
        "colab": {
          "base_uri": "https://localhost:8080/"
        },
        "id": "8ehdB-Qi82fU",
        "outputId": "e6a96ea8-13bb-4c91-bec1-87d2d180c867"
      },
      "execution_count": null,
      "outputs": [
        {
          "output_type": "stream",
          "name": "stdout",
          "text": [
            "Dia: 1    Num. Aleatorio: 0.88    Ventas Simuladas: 60    Ventas Reales: 50    Ventas Perdidas: 10    Periodicos No Vendidos: 0    Beneficio Diario: 8.0    Beneficio Promedio: 8\n",
            "Dia: 2    Num. Aleatorio: 0.39    Ventas Simuladas: 40    Ventas Reales: 40    Ventas Perdidas: 0    Periodicos No Vendidos: 10    Beneficio Diario: -2.0    Beneficio Promedio: 3\n",
            "Dia: 3    Num. Aleatorio: 0.08    Ventas Simuladas: 30    Ventas Reales: 30    Ventas Perdidas: 0    Periodicos No Vendidos: 20    Beneficio Diario: -14.0    Beneficio Promedio: -3\n",
            "Dia: 4    Num. Aleatorio: 0.96    Ventas Simuladas: 70    Ventas Reales: 50    Ventas Perdidas: 20    Periodicos No Vendidos: 0    Beneficio Diario: 6.0    Beneficio Promedio: 0\n",
            "Dia: 5    Num. Aleatorio: 0.39    Ventas Simuladas: 40    Ventas Reales: 40    Ventas Perdidas: 0    Periodicos No Vendidos: 10    Beneficio Diario: -2.0    Beneficio Promedio: -1\n",
            "Dia: 6    Num. Aleatorio: 0.44    Ventas Simuladas: 40    Ventas Reales: 40    Ventas Perdidas: 0    Periodicos No Vendidos: 10    Beneficio Diario: -2.0    Beneficio Promedio: -1\n",
            "Dia: 7    Num. Aleatorio: 0.03    Ventas Simuladas: 30    Ventas Reales: 30    Ventas Perdidas: 0    Periodicos No Vendidos: 20    Beneficio Diario: -14.0    Beneficio Promedio: -3\n",
            "Dia: 8    Num. Aleatorio: 0.98    Ventas Simuladas: 70    Ventas Reales: 50    Ventas Perdidas: 20    Periodicos No Vendidos: 0    Beneficio Diario: 6.0    Beneficio Promedio: -2\n",
            "Dia: 9    Num. Aleatorio: 0.84    Ventas Simuladas: 60    Ventas Reales: 50    Ventas Perdidas: 10    Periodicos No Vendidos: 0    Beneficio Diario: 8.0    Beneficio Promedio: -1\n",
            "Dia: 10    Num. Aleatorio: 0.75    Ventas Simuladas: 60    Ventas Reales: 50    Ventas Perdidas: 10    Periodicos No Vendidos: 0    Beneficio Diario: 8.0    Beneficio Promedio: 0\n",
            "Dia: 11    Num. Aleatorio: 0.97    Ventas Simuladas: 70    Ventas Reales: 50    Ventas Perdidas: 20    Periodicos No Vendidos: 0    Beneficio Diario: 6.0    Beneficio Promedio: 1\n",
            "Dia: 12    Num. Aleatorio: 0.16    Ventas Simuladas: 30    Ventas Reales: 30    Ventas Perdidas: 0    Periodicos No Vendidos: 20    Beneficio Diario: -14.0    Beneficio Promedio: 0\n",
            "Dia: 13    Num. Aleatorio: 0.26    Ventas Simuladas: 40    Ventas Reales: 40    Ventas Perdidas: 0    Periodicos No Vendidos: 10    Beneficio Diario: -2.0    Beneficio Promedio: -1\n",
            "Dia: 14    Num. Aleatorio: 0.29    Ventas Simuladas: 40    Ventas Reales: 40    Ventas Perdidas: 0    Periodicos No Vendidos: 10    Beneficio Diario: -2.0    Beneficio Promedio: -1\n",
            "Dia: 15    Num. Aleatorio: 0.86    Ventas Simuladas: 60    Ventas Reales: 50    Ventas Perdidas: 10    Periodicos No Vendidos: 0    Beneficio Diario: 8.0    Beneficio Promedio: 0\n",
            "Dia: 16    Num. Aleatorio: 0.85    Ventas Simuladas: 60    Ventas Reales: 50    Ventas Perdidas: 10    Periodicos No Vendidos: 0    Beneficio Diario: 8.0    Beneficio Promedio: 0\n",
            "Dia: 17    Num. Aleatorio: 0.06    Ventas Simuladas: 30    Ventas Reales: 30    Ventas Perdidas: 0    Periodicos No Vendidos: 20    Beneficio Diario: -14.0    Beneficio Promedio: 0\n",
            "Dia: 18    Num. Aleatorio: 0.36    Ventas Simuladas: 40    Ventas Reales: 40    Ventas Perdidas: 0    Periodicos No Vendidos: 10    Beneficio Diario: -2.0    Beneficio Promedio: -1\n",
            "Dia: 19    Num. Aleatorio: 0.1    Ventas Simuladas: 30    Ventas Reales: 30    Ventas Perdidas: 0    Periodicos No Vendidos: 20    Beneficio Diario: -14.0    Beneficio Promedio: -1\n",
            "Dia: 20    Num. Aleatorio: 0.45    Ventas Simuladas: 50    Ventas Reales: 50    Ventas Perdidas: 0    Periodicos No Vendidos: 0    Beneficio Diario: 10.0    Beneficio Promedio: -1\n",
            "Dia: 21    Num. Aleatorio: 0.44    Ventas Simuladas: 40    Ventas Reales: 40    Ventas Perdidas: 0    Periodicos No Vendidos: 10    Beneficio Diario: -2.0    Beneficio Promedio: -1\n",
            "Dia: 22    Num. Aleatorio: 0.83    Ventas Simuladas: 60    Ventas Reales: 50    Ventas Perdidas: 10    Periodicos No Vendidos: 0    Beneficio Diario: 8.0    Beneficio Promedio: 0\n",
            "Dia: 23    Num. Aleatorio: 0.87    Ventas Simuladas: 60    Ventas Reales: 50    Ventas Perdidas: 10    Periodicos No Vendidos: 0    Beneficio Diario: 8.0    Beneficio Promedio: 0\n",
            "Dia: 24    Num. Aleatorio: 0.8    Ventas Simuladas: 60    Ventas Reales: 50    Ventas Perdidas: 10    Periodicos No Vendidos: 0    Beneficio Diario: 8.0    Beneficio Promedio: 0\n",
            "Dia: 25    Num. Aleatorio: 0.48    Ventas Simuladas: 50    Ventas Reales: 50    Ventas Perdidas: 0    Periodicos No Vendidos: 0    Beneficio Diario: 10.0    Beneficio Promedio: 1\n",
            "Dia: 26    Num. Aleatorio: 0.79    Ventas Simuladas: 60    Ventas Reales: 50    Ventas Perdidas: 10    Periodicos No Vendidos: 0    Beneficio Diario: 8.0    Beneficio Promedio: 1\n",
            "Dia: 27    Num. Aleatorio: 0.82    Ventas Simuladas: 60    Ventas Reales: 50    Ventas Perdidas: 10    Periodicos No Vendidos: 0    Beneficio Diario: 8.0    Beneficio Promedio: 1\n",
            "Dia: 28    Num. Aleatorio: 0.38    Ventas Simuladas: 40    Ventas Reales: 40    Ventas Perdidas: 0    Periodicos No Vendidos: 10    Beneficio Diario: -2.0    Beneficio Promedio: 1\n",
            "Dia: 29    Num. Aleatorio: 0.78    Ventas Simuladas: 60    Ventas Reales: 50    Ventas Perdidas: 10    Periodicos No Vendidos: 0    Beneficio Diario: 8.0    Beneficio Promedio: 1\n",
            "Dia: 30    Num. Aleatorio: 0.19    Ventas Simuladas: 30    Ventas Reales: 30    Ventas Perdidas: 0    Periodicos No Vendidos: 20    Beneficio Diario: -14.0    Beneficio Promedio: 1\n",
            "Dia: 31    Num. Aleatorio: 0.59    Ventas Simuladas: 50    Ventas Reales: 50    Ventas Perdidas: 0    Periodicos No Vendidos: 0    Beneficio Diario: 10.0    Beneficio Promedio: 1\n",
            "Dia: 32    Num. Aleatorio: 0.09    Ventas Simuladas: 30    Ventas Reales: 30    Ventas Perdidas: 0    Periodicos No Vendidos: 20    Beneficio Diario: -14.0    Beneficio Promedio: 1\n",
            "Dia: 33    Num. Aleatorio: 0.3    Ventas Simuladas: 40    Ventas Reales: 40    Ventas Perdidas: 0    Periodicos No Vendidos: 10    Beneficio Diario: -2.0    Beneficio Promedio: 1\n",
            "Dia: 34    Num. Aleatorio: 0.7    Ventas Simuladas: 60    Ventas Reales: 50    Ventas Perdidas: 10    Periodicos No Vendidos: 0    Beneficio Diario: 8.0    Beneficio Promedio: 1\n",
            "Dia: 35    Num. Aleatorio: 0.71    Ventas Simuladas: 60    Ventas Reales: 50    Ventas Perdidas: 10    Periodicos No Vendidos: 0    Beneficio Diario: 8.0    Beneficio Promedio: 1\n",
            "Dia: 36    Num. Aleatorio: 0.93    Ventas Simuladas: 70    Ventas Reales: 50    Ventas Perdidas: 20    Periodicos No Vendidos: 0    Beneficio Diario: 6.0    Beneficio Promedio: 1\n",
            "Dia: 37    Num. Aleatorio: 0.99    Ventas Simuladas: 70    Ventas Reales: 50    Ventas Perdidas: 20    Periodicos No Vendidos: 0    Beneficio Diario: 6.0    Beneficio Promedio: 1\n",
            "Dia: 38    Num. Aleatorio: 0.72    Ventas Simuladas: 60    Ventas Reales: 50    Ventas Perdidas: 10    Periodicos No Vendidos: 0    Beneficio Diario: 8.0    Beneficio Promedio: 1\n",
            "Dia: 39    Num. Aleatorio: 0.67    Ventas Simuladas: 50    Ventas Reales: 50    Ventas Perdidas: 0    Periodicos No Vendidos: 0    Beneficio Diario: 10.0    Beneficio Promedio: 2\n",
            "Dia: 40    Num. Aleatorio: 0.2    Ventas Simuladas: 40    Ventas Reales: 40    Ventas Perdidas: 0    Periodicos No Vendidos: 10    Beneficio Diario: -2.0    Beneficio Promedio: 2\n",
            "Dia: 41    Num. Aleatorio: 0.03    Ventas Simuladas: 30    Ventas Reales: 30    Ventas Perdidas: 0    Periodicos No Vendidos: 20    Beneficio Diario: -14.0    Beneficio Promedio: 1\n",
            "Dia: 42    Num. Aleatorio: 0.8    Ventas Simuladas: 60    Ventas Reales: 50    Ventas Perdidas: 10    Periodicos No Vendidos: 0    Beneficio Diario: 8.0    Beneficio Promedio: 1\n",
            "Dia: 43    Num. Aleatorio: 0.49    Ventas Simuladas: 50    Ventas Reales: 50    Ventas Perdidas: 0    Periodicos No Vendidos: 0    Beneficio Diario: 10.0    Beneficio Promedio: 2\n",
            "Dia: 44    Num. Aleatorio: 0.26    Ventas Simuladas: 40    Ventas Reales: 40    Ventas Perdidas: 0    Periodicos No Vendidos: 10    Beneficio Diario: -2.0    Beneficio Promedio: 2\n",
            "Dia: 45    Num. Aleatorio: 0.6    Ventas Simuladas: 50    Ventas Reales: 50    Ventas Perdidas: 0    Periodicos No Vendidos: 0    Beneficio Diario: 10.0    Beneficio Promedio: 2\n",
            "Dia: 46    Num. Aleatorio: 0.54    Ventas Simuladas: 50    Ventas Reales: 50    Ventas Perdidas: 0    Periodicos No Vendidos: 0    Beneficio Diario: 10.0    Beneficio Promedio: 2\n",
            "Dia: 47    Num. Aleatorio: 0.51    Ventas Simuladas: 50    Ventas Reales: 50    Ventas Perdidas: 0    Periodicos No Vendidos: 0    Beneficio Diario: 10.0    Beneficio Promedio: 2\n",
            "Dia: 48    Num. Aleatorio: 0.26    Ventas Simuladas: 40    Ventas Reales: 40    Ventas Perdidas: 0    Periodicos No Vendidos: 10    Beneficio Diario: -2.0    Beneficio Promedio: 2\n",
            "Dia: 49    Num. Aleatorio: 0.74    Ventas Simuladas: 60    Ventas Reales: 50    Ventas Perdidas: 10    Periodicos No Vendidos: 0    Beneficio Diario: 8.0    Beneficio Promedio: 2\n",
            "Dia: 50    Num. Aleatorio: 0.68    Ventas Simuladas: 50    Ventas Reales: 50    Ventas Perdidas: 0    Periodicos No Vendidos: 0    Beneficio Diario: 10.0    Beneficio Promedio: 2\n",
            "Dia: 51    Num. Aleatorio: 0.89    Ventas Simuladas: 60    Ventas Reales: 50    Ventas Perdidas: 10    Periodicos No Vendidos: 0    Beneficio Diario: 8.0    Beneficio Promedio: 2\n",
            "Dia: 52    Num. Aleatorio: 0.59    Ventas Simuladas: 50    Ventas Reales: 50    Ventas Perdidas: 0    Periodicos No Vendidos: 0    Beneficio Diario: 10.0    Beneficio Promedio: 3\n",
            "Dia: 53    Num. Aleatorio: 0.21    Ventas Simuladas: 40    Ventas Reales: 40    Ventas Perdidas: 0    Periodicos No Vendidos: 10    Beneficio Diario: -2.0    Beneficio Promedio: 2\n",
            "Dia: 54    Num. Aleatorio: 0.13    Ventas Simuladas: 30    Ventas Reales: 30    Ventas Perdidas: 0    Periodicos No Vendidos: 20    Beneficio Diario: -14.0    Beneficio Promedio: 2\n",
            "Dia: 55    Num. Aleatorio: 0.95    Ventas Simuladas: 70    Ventas Reales: 50    Ventas Perdidas: 20    Periodicos No Vendidos: 0    Beneficio Diario: 6.0    Beneficio Promedio: 2\n",
            "Dia: 56    Num. Aleatorio: 0.52    Ventas Simuladas: 50    Ventas Reales: 50    Ventas Perdidas: 0    Periodicos No Vendidos: 0    Beneficio Diario: 10.0    Beneficio Promedio: 2\n",
            "Dia: 57    Num. Aleatorio: 0.55    Ventas Simuladas: 50    Ventas Reales: 50    Ventas Perdidas: 0    Periodicos No Vendidos: 0    Beneficio Diario: 10.0    Beneficio Promedio: 2\n",
            "Dia: 58    Num. Aleatorio: 0.54    Ventas Simuladas: 50    Ventas Reales: 50    Ventas Perdidas: 0    Periodicos No Vendidos: 0    Beneficio Diario: 10.0    Beneficio Promedio: 3\n",
            "Dia: 59    Num. Aleatorio: 0.59    Ventas Simuladas: 50    Ventas Reales: 50    Ventas Perdidas: 0    Periodicos No Vendidos: 0    Beneficio Diario: 10.0    Beneficio Promedio: 3\n",
            "Dia: 60    Num. Aleatorio: 0.84    Ventas Simuladas: 60    Ventas Reales: 50    Ventas Perdidas: 10    Periodicos No Vendidos: 0    Beneficio Diario: 8.0    Beneficio Promedio: 3\n",
            "Dia: 61    Num. Aleatorio: 0.64    Ventas Simuladas: 50    Ventas Reales: 50    Ventas Perdidas: 0    Periodicos No Vendidos: 0    Beneficio Diario: 10.0    Beneficio Promedio: 3\n",
            "Dia: 62    Num. Aleatorio: 0.85    Ventas Simuladas: 60    Ventas Reales: 50    Ventas Perdidas: 10    Periodicos No Vendidos: 0    Beneficio Diario: 8.0    Beneficio Promedio: 3\n",
            "Dia: 63    Num. Aleatorio: 0.19    Ventas Simuladas: 30    Ventas Reales: 30    Ventas Perdidas: 0    Periodicos No Vendidos: 20    Beneficio Diario: -14.0    Beneficio Promedio: 3\n",
            "Dia: 64    Num. Aleatorio: 0.93    Ventas Simuladas: 70    Ventas Reales: 50    Ventas Perdidas: 20    Periodicos No Vendidos: 0    Beneficio Diario: 6.0    Beneficio Promedio: 3\n",
            "Dia: 65    Num. Aleatorio: 0.36    Ventas Simuladas: 40    Ventas Reales: 40    Ventas Perdidas: 0    Periodicos No Vendidos: 10    Beneficio Diario: -2.0    Beneficio Promedio: 3\n",
            "Dia: 66    Num. Aleatorio: 0.3    Ventas Simuladas: 40    Ventas Reales: 40    Ventas Perdidas: 0    Periodicos No Vendidos: 10    Beneficio Diario: -2.0    Beneficio Promedio: 3\n",
            "Dia: 67    Num. Aleatorio: 0.11    Ventas Simuladas: 30    Ventas Reales: 30    Ventas Perdidas: 0    Periodicos No Vendidos: 20    Beneficio Diario: -14.0    Beneficio Promedio: 2\n",
            "Dia: 68    Num. Aleatorio: 0.44    Ventas Simuladas: 40    Ventas Reales: 40    Ventas Perdidas: 0    Periodicos No Vendidos: 10    Beneficio Diario: -2.0    Beneficio Promedio: 2\n",
            "Dia: 69    Num. Aleatorio: 0.33    Ventas Simuladas: 40    Ventas Reales: 40    Ventas Perdidas: 0    Periodicos No Vendidos: 10    Beneficio Diario: -2.0    Beneficio Promedio: 2\n",
            "Dia: 70    Num. Aleatorio: 0.56    Ventas Simuladas: 50    Ventas Reales: 50    Ventas Perdidas: 0    Periodicos No Vendidos: 0    Beneficio Diario: 10.0    Beneficio Promedio: 2\n",
            "Dia: 71    Num. Aleatorio: 0.09    Ventas Simuladas: 30    Ventas Reales: 30    Ventas Perdidas: 0    Periodicos No Vendidos: 20    Beneficio Diario: -14.0    Beneficio Promedio: 2\n",
            "Dia: 72    Num. Aleatorio: 0.48    Ventas Simuladas: 50    Ventas Reales: 50    Ventas Perdidas: 0    Periodicos No Vendidos: 0    Beneficio Diario: 10.0    Beneficio Promedio: 2\n",
            "Dia: 73    Num. Aleatorio: 0.73    Ventas Simuladas: 60    Ventas Reales: 50    Ventas Perdidas: 10    Periodicos No Vendidos: 0    Beneficio Diario: 8.0    Beneficio Promedio: 2\n",
            "Dia: 74    Num. Aleatorio: 0.75    Ventas Simuladas: 60    Ventas Reales: 50    Ventas Perdidas: 10    Periodicos No Vendidos: 0    Beneficio Diario: 8.0    Beneficio Promedio: 2\n",
            "Dia: 75    Num. Aleatorio: 0.57    Ventas Simuladas: 50    Ventas Reales: 50    Ventas Perdidas: 0    Periodicos No Vendidos: 0    Beneficio Diario: 10.0    Beneficio Promedio: 3\n",
            "Dia: 76    Num. Aleatorio: 0.88    Ventas Simuladas: 60    Ventas Reales: 50    Ventas Perdidas: 10    Periodicos No Vendidos: 0    Beneficio Diario: 8.0    Beneficio Promedio: 3\n",
            "Dia: 77    Num. Aleatorio: 0.07    Ventas Simuladas: 30    Ventas Reales: 30    Ventas Perdidas: 0    Periodicos No Vendidos: 20    Beneficio Diario: -14.0    Beneficio Promedio: 2\n",
            "Dia: 78    Num. Aleatorio: 0.4    Ventas Simuladas: 40    Ventas Reales: 40    Ventas Perdidas: 0    Periodicos No Vendidos: 10    Beneficio Diario: -2.0    Beneficio Promedio: 2\n",
            "Dia: 79    Num. Aleatorio: 0.99    Ventas Simuladas: 70    Ventas Reales: 50    Ventas Perdidas: 20    Periodicos No Vendidos: 0    Beneficio Diario: 6.0    Beneficio Promedio: 2\n",
            "Dia: 80    Num. Aleatorio: 0.63    Ventas Simuladas: 50    Ventas Reales: 50    Ventas Perdidas: 0    Periodicos No Vendidos: 0    Beneficio Diario: 10.0    Beneficio Promedio: 2\n",
            "Dia: 81    Num. Aleatorio: 0.21    Ventas Simuladas: 40    Ventas Reales: 40    Ventas Perdidas: 0    Periodicos No Vendidos: 10    Beneficio Diario: -2.0    Beneficio Promedio: 2\n",
            "Dia: 82    Num. Aleatorio: 0.86    Ventas Simuladas: 60    Ventas Reales: 50    Ventas Perdidas: 10    Periodicos No Vendidos: 0    Beneficio Diario: 8.0    Beneficio Promedio: 2\n",
            "Dia: 83    Num. Aleatorio: 0.86    Ventas Simuladas: 60    Ventas Reales: 50    Ventas Perdidas: 10    Periodicos No Vendidos: 0    Beneficio Diario: 8.0    Beneficio Promedio: 3\n",
            "Dia: 84    Num. Aleatorio: 0.67    Ventas Simuladas: 50    Ventas Reales: 50    Ventas Perdidas: 0    Periodicos No Vendidos: 0    Beneficio Diario: 10.0    Beneficio Promedio: 3\n",
            "Dia: 85    Num. Aleatorio: 0.96    Ventas Simuladas: 70    Ventas Reales: 50    Ventas Perdidas: 20    Periodicos No Vendidos: 0    Beneficio Diario: 6.0    Beneficio Promedio: 3\n",
            "Dia: 86    Num. Aleatorio: 0.43    Ventas Simuladas: 40    Ventas Reales: 40    Ventas Perdidas: 0    Periodicos No Vendidos: 10    Beneficio Diario: -2.0    Beneficio Promedio: 3\n",
            "Dia: 87    Num. Aleatorio: 0.4    Ventas Simuladas: 40    Ventas Reales: 40    Ventas Perdidas: 0    Periodicos No Vendidos: 10    Beneficio Diario: -2.0    Beneficio Promedio: 3\n",
            "Dia: 88    Num. Aleatorio: 0.3    Ventas Simuladas: 40    Ventas Reales: 40    Ventas Perdidas: 0    Periodicos No Vendidos: 10    Beneficio Diario: -2.0    Beneficio Promedio: 3\n",
            "Dia: 89    Num. Aleatorio: 0.48    Ventas Simuladas: 50    Ventas Reales: 50    Ventas Perdidas: 0    Periodicos No Vendidos: 0    Beneficio Diario: 10.0    Beneficio Promedio: 3\n",
            "Dia: 90    Num. Aleatorio: 0.28    Ventas Simuladas: 40    Ventas Reales: 40    Ventas Perdidas: 0    Periodicos No Vendidos: 10    Beneficio Diario: -2.0    Beneficio Promedio: 3\n",
            "Dia: 91    Num. Aleatorio: 0.95    Ventas Simuladas: 70    Ventas Reales: 50    Ventas Perdidas: 20    Periodicos No Vendidos: 0    Beneficio Diario: 6.0    Beneficio Promedio: 3\n",
            "Dia: 92    Num. Aleatorio: 0.65    Ventas Simuladas: 50    Ventas Reales: 50    Ventas Perdidas: 0    Periodicos No Vendidos: 0    Beneficio Diario: 10.0    Beneficio Promedio: 3\n",
            "Dia: 93    Num. Aleatorio: 0.45    Ventas Simuladas: 50    Ventas Reales: 50    Ventas Perdidas: 0    Periodicos No Vendidos: 0    Beneficio Diario: 10.0    Beneficio Promedio: 3\n",
            "Dia: 94    Num. Aleatorio: 0.71    Ventas Simuladas: 60    Ventas Reales: 50    Ventas Perdidas: 10    Periodicos No Vendidos: 0    Beneficio Diario: 8.0    Beneficio Promedio: 3\n",
            "Dia: 95    Num. Aleatorio: 0.5    Ventas Simuladas: 50    Ventas Reales: 50    Ventas Perdidas: 0    Periodicos No Vendidos: 0    Beneficio Diario: 10.0    Beneficio Promedio: 3\n",
            "Dia: 96    Num. Aleatorio: 0.44    Ventas Simuladas: 40    Ventas Reales: 40    Ventas Perdidas: 0    Periodicos No Vendidos: 10    Beneficio Diario: -2.0    Beneficio Promedio: 3\n",
            "Dia: 97    Num. Aleatorio: 0.27    Ventas Simuladas: 40    Ventas Reales: 40    Ventas Perdidas: 0    Periodicos No Vendidos: 10    Beneficio Diario: -2.0    Beneficio Promedio: 3\n",
            "Dia: 98    Num. Aleatorio: 0.91    Ventas Simuladas: 70    Ventas Reales: 50    Ventas Perdidas: 20    Periodicos No Vendidos: 0    Beneficio Diario: 6.0    Beneficio Promedio: 3\n",
            "Dia: 99    Num. Aleatorio: 0.58    Ventas Simuladas: 50    Ventas Reales: 50    Ventas Perdidas: 0    Periodicos No Vendidos: 0    Beneficio Diario: 10.0    Beneficio Promedio: 3\n",
            "Dia: 100    Num. Aleatorio: 0.8    Ventas Simuladas: 60    Ventas Reales: 50    Ventas Perdidas: 10    Periodicos No Vendidos: 0    Beneficio Diario: 8.0    Beneficio Promedio: 3\n",
            "Dia: 101    Num. Aleatorio: 0.69    Ventas Simuladas: 50    Ventas Reales: 50    Ventas Perdidas: 0    Periodicos No Vendidos: 0    Beneficio Diario: 10.0    Beneficio Promedio: 3\n",
            "Dia: 102    Num. Aleatorio: 0.67    Ventas Simuladas: 50    Ventas Reales: 50    Ventas Perdidas: 0    Periodicos No Vendidos: 0    Beneficio Diario: 10.0    Beneficio Promedio: 3\n",
            "Dia: 103    Num. Aleatorio: 0.39    Ventas Simuladas: 40    Ventas Reales: 40    Ventas Perdidas: 0    Periodicos No Vendidos: 10    Beneficio Diario: -2.0    Beneficio Promedio: 3\n",
            "Dia: 104    Num. Aleatorio: 0.83    Ventas Simuladas: 60    Ventas Reales: 50    Ventas Perdidas: 10    Periodicos No Vendidos: 0    Beneficio Diario: 8.0    Beneficio Promedio: 3\n",
            "Dia: 105    Num. Aleatorio: 0.43    Ventas Simuladas: 40    Ventas Reales: 40    Ventas Perdidas: 0    Periodicos No Vendidos: 10    Beneficio Diario: -2.0    Beneficio Promedio: 3\n",
            "Dia: 106    Num. Aleatorio: 0.59    Ventas Simuladas: 50    Ventas Reales: 50    Ventas Perdidas: 0    Periodicos No Vendidos: 0    Beneficio Diario: 10.0    Beneficio Promedio: 3\n",
            "Dia: 107    Num. Aleatorio: 0.97    Ventas Simuladas: 70    Ventas Reales: 50    Ventas Perdidas: 20    Periodicos No Vendidos: 0    Beneficio Diario: 6.0    Beneficio Promedio: 3\n",
            "Dia: 108    Num. Aleatorio: 0.73    Ventas Simuladas: 60    Ventas Reales: 50    Ventas Perdidas: 10    Periodicos No Vendidos: 0    Beneficio Diario: 8.0    Beneficio Promedio: 3\n",
            "Dia: 109    Num. Aleatorio: 0.24    Ventas Simuladas: 40    Ventas Reales: 40    Ventas Perdidas: 0    Periodicos No Vendidos: 10    Beneficio Diario: -2.0    Beneficio Promedio: 3\n",
            "Dia: 110    Num. Aleatorio: 0.86    Ventas Simuladas: 60    Ventas Reales: 50    Ventas Perdidas: 10    Periodicos No Vendidos: 0    Beneficio Diario: 8.0    Beneficio Promedio: 3\n",
            "Dia: 111    Num. Aleatorio: 0.28    Ventas Simuladas: 40    Ventas Reales: 40    Ventas Perdidas: 0    Periodicos No Vendidos: 10    Beneficio Diario: -2.0    Beneficio Promedio: 3\n",
            "Dia: 112    Num. Aleatorio: 0.14    Ventas Simuladas: 30    Ventas Reales: 30    Ventas Perdidas: 0    Periodicos No Vendidos: 20    Beneficio Diario: -14.0    Beneficio Promedio: 3\n",
            "Dia: 113    Num. Aleatorio: 0.45    Ventas Simuladas: 40    Ventas Reales: 40    Ventas Perdidas: 0    Periodicos No Vendidos: 10    Beneficio Diario: -2.0    Beneficio Promedio: 3\n",
            "Dia: 114    Num. Aleatorio: 0.87    Ventas Simuladas: 60    Ventas Reales: 50    Ventas Perdidas: 10    Periodicos No Vendidos: 0    Beneficio Diario: 8.0    Beneficio Promedio: 3\n",
            "Dia: 115    Num. Aleatorio: 0.4    Ventas Simuladas: 40    Ventas Reales: 40    Ventas Perdidas: 0    Periodicos No Vendidos: 10    Beneficio Diario: -2.0    Beneficio Promedio: 3\n",
            "Dia: 116    Num. Aleatorio: 0.92    Ventas Simuladas: 70    Ventas Reales: 50    Ventas Perdidas: 20    Periodicos No Vendidos: 0    Beneficio Diario: 6.0    Beneficio Promedio: 3\n",
            "Dia: 117    Num. Aleatorio: 0.66    Ventas Simuladas: 50    Ventas Reales: 50    Ventas Perdidas: 0    Periodicos No Vendidos: 0    Beneficio Diario: 10.0    Beneficio Promedio: 3\n",
            "Dia: 118    Num. Aleatorio: 0.56    Ventas Simuladas: 50    Ventas Reales: 50    Ventas Perdidas: 0    Periodicos No Vendidos: 0    Beneficio Diario: 10.0    Beneficio Promedio: 3\n",
            "Dia: 119    Num. Aleatorio: 0.8    Ventas Simuladas: 60    Ventas Reales: 50    Ventas Perdidas: 10    Periodicos No Vendidos: 0    Beneficio Diario: 8.0    Beneficio Promedio: 3\n",
            "Dia: 120    Num. Aleatorio: 0.33    Ventas Simuladas: 40    Ventas Reales: 40    Ventas Perdidas: 0    Periodicos No Vendidos: 10    Beneficio Diario: -2.0    Beneficio Promedio: 3\n",
            "Dia: 121    Num. Aleatorio: 0.37    Ventas Simuladas: 40    Ventas Reales: 40    Ventas Perdidas: 0    Periodicos No Vendidos: 10    Beneficio Diario: -2.0    Beneficio Promedio: 3\n",
            "Dia: 122    Num. Aleatorio: 0.32    Ventas Simuladas: 40    Ventas Reales: 40    Ventas Perdidas: 0    Periodicos No Vendidos: 10    Beneficio Diario: -2.0    Beneficio Promedio: 3\n",
            "Dia: 123    Num. Aleatorio: 0.91    Ventas Simuladas: 70    Ventas Reales: 50    Ventas Perdidas: 20    Periodicos No Vendidos: 0    Beneficio Diario: 6.0    Beneficio Promedio: 3\n",
            "Dia: 124    Num. Aleatorio: 0.17    Ventas Simuladas: 30    Ventas Reales: 30    Ventas Perdidas: 0    Periodicos No Vendidos: 20    Beneficio Diario: -14.0    Beneficio Promedio: 3\n",
            "Dia: 125    Num. Aleatorio: 0.93    Ventas Simuladas: 70    Ventas Reales: 50    Ventas Perdidas: 20    Periodicos No Vendidos: 0    Beneficio Diario: 6.0    Beneficio Promedio: 3\n",
            "Dia: 126    Num. Aleatorio: 0.11    Ventas Simuladas: 30    Ventas Reales: 30    Ventas Perdidas: 0    Periodicos No Vendidos: 20    Beneficio Diario: -14.0    Beneficio Promedio: 3\n",
            "Dia: 127    Num. Aleatorio: 0.49    Ventas Simuladas: 50    Ventas Reales: 50    Ventas Perdidas: 0    Periodicos No Vendidos: 0    Beneficio Diario: 10.0    Beneficio Promedio: 3\n",
            "Dia: 128    Num. Aleatorio: 0.34    Ventas Simuladas: 40    Ventas Reales: 40    Ventas Perdidas: 0    Periodicos No Vendidos: 10    Beneficio Diario: -2.0    Beneficio Promedio: 3\n",
            "Dia: 129    Num. Aleatorio: 0.06    Ventas Simuladas: 30    Ventas Reales: 30    Ventas Perdidas: 0    Periodicos No Vendidos: 20    Beneficio Diario: -14.0    Beneficio Promedio: 3\n",
            "Dia: 130    Num. Aleatorio: 0.14    Ventas Simuladas: 30    Ventas Reales: 30    Ventas Perdidas: 0    Periodicos No Vendidos: 20    Beneficio Diario: -14.0    Beneficio Promedio: 3\n",
            "Dia: 131    Num. Aleatorio: 0.04    Ventas Simuladas: 30    Ventas Reales: 30    Ventas Perdidas: 0    Periodicos No Vendidos: 20    Beneficio Diario: -14.0    Beneficio Promedio: 2\n",
            "Dia: 132    Num. Aleatorio: 0.03    Ventas Simuladas: 30    Ventas Reales: 30    Ventas Perdidas: 0    Periodicos No Vendidos: 20    Beneficio Diario: -14.0    Beneficio Promedio: 2\n",
            "Dia: 133    Num. Aleatorio: 0.58    Ventas Simuladas: 50    Ventas Reales: 50    Ventas Perdidas: 0    Periodicos No Vendidos: 0    Beneficio Diario: 10.0    Beneficio Promedio: 2\n",
            "Dia: 134    Num. Aleatorio: 0.72    Ventas Simuladas: 60    Ventas Reales: 50    Ventas Perdidas: 10    Periodicos No Vendidos: 0    Beneficio Diario: 8.0    Beneficio Promedio: 2\n",
            "Dia: 135    Num. Aleatorio: 0.8    Ventas Simuladas: 60    Ventas Reales: 50    Ventas Perdidas: 10    Periodicos No Vendidos: 0    Beneficio Diario: 8.0    Beneficio Promedio: 2\n",
            "Dia: 136    Num. Aleatorio: 0.44    Ventas Simuladas: 40    Ventas Reales: 40    Ventas Perdidas: 0    Periodicos No Vendidos: 10    Beneficio Diario: -2.0    Beneficio Promedio: 2\n",
            "Dia: 137    Num. Aleatorio: 0.09    Ventas Simuladas: 30    Ventas Reales: 30    Ventas Perdidas: 0    Periodicos No Vendidos: 20    Beneficio Diario: -14.0    Beneficio Promedio: 2\n",
            "Dia: 138    Num. Aleatorio: 0.58    Ventas Simuladas: 50    Ventas Reales: 50    Ventas Perdidas: 0    Periodicos No Vendidos: 0    Beneficio Diario: 10.0    Beneficio Promedio: 2\n",
            "Dia: 139    Num. Aleatorio: 0.69    Ventas Simuladas: 50    Ventas Reales: 50    Ventas Perdidas: 0    Periodicos No Vendidos: 0    Beneficio Diario: 10.0    Beneficio Promedio: 2\n",
            "Dia: 140    Num. Aleatorio: 0.85    Ventas Simuladas: 60    Ventas Reales: 50    Ventas Perdidas: 10    Periodicos No Vendidos: 0    Beneficio Diario: 8.0    Beneficio Promedio: 2\n",
            "Dia: 141    Num. Aleatorio: 0.82    Ventas Simuladas: 60    Ventas Reales: 50    Ventas Perdidas: 10    Periodicos No Vendidos: 0    Beneficio Diario: 8.0    Beneficio Promedio: 2\n",
            "Dia: 142    Num. Aleatorio: 0.17    Ventas Simuladas: 30    Ventas Reales: 30    Ventas Perdidas: 0    Periodicos No Vendidos: 20    Beneficio Diario: -14.0    Beneficio Promedio: 2\n",
            "Dia: 143    Num. Aleatorio: 0.81    Ventas Simuladas: 60    Ventas Reales: 50    Ventas Perdidas: 10    Periodicos No Vendidos: 0    Beneficio Diario: 8.0    Beneficio Promedio: 2\n",
            "Dia: 144    Num. Aleatorio: 0.2    Ventas Simuladas: 40    Ventas Reales: 40    Ventas Perdidas: 0    Periodicos No Vendidos: 10    Beneficio Diario: -2.0    Beneficio Promedio: 2\n",
            "Dia: 145    Num. Aleatorio: 0.68    Ventas Simuladas: 50    Ventas Reales: 50    Ventas Perdidas: 0    Periodicos No Vendidos: 0    Beneficio Diario: 10.0    Beneficio Promedio: 2\n",
            "Dia: 146    Num. Aleatorio: 0.48    Ventas Simuladas: 50    Ventas Reales: 50    Ventas Perdidas: 0    Periodicos No Vendidos: 0    Beneficio Diario: 10.0    Beneficio Promedio: 2\n",
            "Dia: 147    Num. Aleatorio: 0.44    Ventas Simuladas: 40    Ventas Reales: 40    Ventas Perdidas: 0    Periodicos No Vendidos: 10    Beneficio Diario: -2.0    Beneficio Promedio: 2\n",
            "Dia: 148    Num. Aleatorio: 0.67    Ventas Simuladas: 50    Ventas Reales: 50    Ventas Perdidas: 0    Periodicos No Vendidos: 0    Beneficio Diario: 10.0    Beneficio Promedio: 2\n",
            "Dia: 149    Num. Aleatorio: 0.6    Ventas Simuladas: 50    Ventas Reales: 50    Ventas Perdidas: 0    Periodicos No Vendidos: 0    Beneficio Diario: 10.0    Beneficio Promedio: 3\n",
            "Dia: 150    Num. Aleatorio: 0.25    Ventas Simuladas: 40    Ventas Reales: 40    Ventas Perdidas: 0    Periodicos No Vendidos: 10    Beneficio Diario: -2.0    Beneficio Promedio: 2\n",
            "Dia: 151    Num. Aleatorio: 0.4    Ventas Simuladas: 40    Ventas Reales: 40    Ventas Perdidas: 0    Periodicos No Vendidos: 10    Beneficio Diario: -2.0    Beneficio Promedio: 2\n",
            "Dia: 152    Num. Aleatorio: 0.43    Ventas Simuladas: 40    Ventas Reales: 40    Ventas Perdidas: 0    Periodicos No Vendidos: 10    Beneficio Diario: -2.0    Beneficio Promedio: 2\n",
            "Dia: 153    Num. Aleatorio: 0.06    Ventas Simuladas: 30    Ventas Reales: 30    Ventas Perdidas: 0    Periodicos No Vendidos: 20    Beneficio Diario: -14.0    Beneficio Promedio: 2\n",
            "Dia: 154    Num. Aleatorio: 0.85    Ventas Simuladas: 60    Ventas Reales: 50    Ventas Perdidas: 10    Periodicos No Vendidos: 0    Beneficio Diario: 8.0    Beneficio Promedio: 2\n",
            "Dia: 155    Num. Aleatorio: 0.47    Ventas Simuladas: 50    Ventas Reales: 50    Ventas Perdidas: 0    Periodicos No Vendidos: 0    Beneficio Diario: 10.0    Beneficio Promedio: 2\n",
            "Dia: 156    Num. Aleatorio: 0.38    Ventas Simuladas: 40    Ventas Reales: 40    Ventas Perdidas: 0    Periodicos No Vendidos: 10    Beneficio Diario: -2.0    Beneficio Promedio: 2\n",
            "Dia: 157    Num. Aleatorio: 0.92    Ventas Simuladas: 70    Ventas Reales: 50    Ventas Perdidas: 20    Periodicos No Vendidos: 0    Beneficio Diario: 6.0    Beneficio Promedio: 2\n",
            "Dia: 158    Num. Aleatorio: 0.24    Ventas Simuladas: 40    Ventas Reales: 40    Ventas Perdidas: 0    Periodicos No Vendidos: 10    Beneficio Diario: -2.0    Beneficio Promedio: 2\n",
            "Dia: 159    Num. Aleatorio: 0.37    Ventas Simuladas: 40    Ventas Reales: 40    Ventas Perdidas: 0    Periodicos No Vendidos: 10    Beneficio Diario: -2.0    Beneficio Promedio: 2\n",
            "Dia: 160    Num. Aleatorio: 0.6    Ventas Simuladas: 50    Ventas Reales: 50    Ventas Perdidas: 0    Periodicos No Vendidos: 0    Beneficio Diario: 10.0    Beneficio Promedio: 2\n",
            "Dia: 161    Num. Aleatorio: 0.32    Ventas Simuladas: 40    Ventas Reales: 40    Ventas Perdidas: 0    Periodicos No Vendidos: 10    Beneficio Diario: -2.0    Beneficio Promedio: 2\n",
            "Dia: 162    Num. Aleatorio: 0.52    Ventas Simuladas: 50    Ventas Reales: 50    Ventas Perdidas: 0    Periodicos No Vendidos: 0    Beneficio Diario: 10.0    Beneficio Promedio: 2\n",
            "Dia: 163    Num. Aleatorio: 0.49    Ventas Simuladas: 50    Ventas Reales: 50    Ventas Perdidas: 0    Periodicos No Vendidos: 0    Beneficio Diario: 10.0    Beneficio Promedio: 2\n",
            "Dia: 164    Num. Aleatorio: 0.99    Ventas Simuladas: 70    Ventas Reales: 50    Ventas Perdidas: 20    Periodicos No Vendidos: 0    Beneficio Diario: 6.0    Beneficio Promedio: 2\n",
            "Dia: 165    Num. Aleatorio: 0.66    Ventas Simuladas: 50    Ventas Reales: 50    Ventas Perdidas: 0    Periodicos No Vendidos: 0    Beneficio Diario: 10.0    Beneficio Promedio: 3\n",
            "Dia: 166    Num. Aleatorio: 0.75    Ventas Simuladas: 60    Ventas Reales: 50    Ventas Perdidas: 10    Periodicos No Vendidos: 0    Beneficio Diario: 8.0    Beneficio Promedio: 3\n",
            "Dia: 167    Num. Aleatorio: 0.73    Ventas Simuladas: 60    Ventas Reales: 50    Ventas Perdidas: 10    Periodicos No Vendidos: 0    Beneficio Diario: 8.0    Beneficio Promedio: 3\n",
            "Dia: 168    Num. Aleatorio: 0.85    Ventas Simuladas: 60    Ventas Reales: 50    Ventas Perdidas: 10    Periodicos No Vendidos: 0    Beneficio Diario: 8.0    Beneficio Promedio: 3\n",
            "Dia: 169    Num. Aleatorio: 0.95    Ventas Simuladas: 70    Ventas Reales: 50    Ventas Perdidas: 20    Periodicos No Vendidos: 0    Beneficio Diario: 6.0    Beneficio Promedio: 3\n",
            "Dia: 170    Num. Aleatorio: 0.61    Ventas Simuladas: 50    Ventas Reales: 50    Ventas Perdidas: 0    Periodicos No Vendidos: 0    Beneficio Diario: 10.0    Beneficio Promedio: 3\n",
            "Dia: 171    Num. Aleatorio: 0.25    Ventas Simuladas: 40    Ventas Reales: 40    Ventas Perdidas: 0    Periodicos No Vendidos: 10    Beneficio Diario: -2.0    Beneficio Promedio: 3\n",
            "Dia: 172    Num. Aleatorio: 0.87    Ventas Simuladas: 60    Ventas Reales: 50    Ventas Perdidas: 10    Periodicos No Vendidos: 0    Beneficio Diario: 8.0    Beneficio Promedio: 3\n",
            "Dia: 173    Num. Aleatorio: 0.98    Ventas Simuladas: 70    Ventas Reales: 50    Ventas Perdidas: 20    Periodicos No Vendidos: 0    Beneficio Diario: 6.0    Beneficio Promedio: 3\n",
            "Dia: 174    Num. Aleatorio: 0.25    Ventas Simuladas: 40    Ventas Reales: 40    Ventas Perdidas: 0    Periodicos No Vendidos: 10    Beneficio Diario: -2.0    Beneficio Promedio: 3\n",
            "Dia: 175    Num. Aleatorio: 0.07    Ventas Simuladas: 30    Ventas Reales: 30    Ventas Perdidas: 0    Periodicos No Vendidos: 20    Beneficio Diario: -14.0    Beneficio Promedio: 3\n",
            "Dia: 176    Num. Aleatorio: 0.94    Ventas Simuladas: 70    Ventas Reales: 50    Ventas Perdidas: 20    Periodicos No Vendidos: 0    Beneficio Diario: 6.0    Beneficio Promedio: 3\n",
            "Dia: 177    Num. Aleatorio: 0.48    Ventas Simuladas: 50    Ventas Reales: 50    Ventas Perdidas: 0    Periodicos No Vendidos: 0    Beneficio Diario: 10.0    Beneficio Promedio: 3\n",
            "Dia: 178    Num. Aleatorio: 0.33    Ventas Simuladas: 40    Ventas Reales: 40    Ventas Perdidas: 0    Periodicos No Vendidos: 10    Beneficio Diario: -2.0    Beneficio Promedio: 3\n",
            "Dia: 179    Num. Aleatorio: 0.59    Ventas Simuladas: 50    Ventas Reales: 50    Ventas Perdidas: 0    Periodicos No Vendidos: 0    Beneficio Diario: 10.0    Beneficio Promedio: 3\n",
            "Dia: 180    Num. Aleatorio: 0.82    Ventas Simuladas: 60    Ventas Reales: 50    Ventas Perdidas: 10    Periodicos No Vendidos: 0    Beneficio Diario: 8.0    Beneficio Promedio: 3\n",
            "Dia: 181    Num. Aleatorio: 0.63    Ventas Simuladas: 50    Ventas Reales: 50    Ventas Perdidas: 0    Periodicos No Vendidos: 0    Beneficio Diario: 10.0    Beneficio Promedio: 3\n",
            "Dia: 182    Num. Aleatorio: 0.45    Ventas Simuladas: 50    Ventas Reales: 50    Ventas Perdidas: 0    Periodicos No Vendidos: 0    Beneficio Diario: 10.0    Beneficio Promedio: 3\n",
            "Dia: 183    Num. Aleatorio: 0.67    Ventas Simuladas: 50    Ventas Reales: 50    Ventas Perdidas: 0    Periodicos No Vendidos: 0    Beneficio Diario: 10.0    Beneficio Promedio: 3\n",
            "Dia: 184    Num. Aleatorio: 0.94    Ventas Simuladas: 70    Ventas Reales: 50    Ventas Perdidas: 20    Periodicos No Vendidos: 0    Beneficio Diario: 6.0    Beneficio Promedio: 3\n",
            "Dia: 185    Num. Aleatorio: 0.22    Ventas Simuladas: 40    Ventas Reales: 40    Ventas Perdidas: 0    Periodicos No Vendidos: 10    Beneficio Diario: -2.0    Beneficio Promedio: 3\n",
            "Dia: 186    Num. Aleatorio: 0.31    Ventas Simuladas: 40    Ventas Reales: 40    Ventas Perdidas: 0    Periodicos No Vendidos: 10    Beneficio Diario: -2.0    Beneficio Promedio: 3\n",
            "Dia: 187    Num. Aleatorio: 0.55    Ventas Simuladas: 50    Ventas Reales: 50    Ventas Perdidas: 0    Periodicos No Vendidos: 0    Beneficio Diario: 10.0    Beneficio Promedio: 3\n",
            "Dia: 188    Num. Aleatorio: 0.75    Ventas Simuladas: 60    Ventas Reales: 50    Ventas Perdidas: 10    Periodicos No Vendidos: 0    Beneficio Diario: 8.0    Beneficio Promedio: 3\n",
            "Dia: 189    Num. Aleatorio: 0.4    Ventas Simuladas: 40    Ventas Reales: 40    Ventas Perdidas: 0    Periodicos No Vendidos: 10    Beneficio Diario: -2.0    Beneficio Promedio: 3\n",
            "Dia: 190    Num. Aleatorio: 0.71    Ventas Simuladas: 60    Ventas Reales: 50    Ventas Perdidas: 10    Periodicos No Vendidos: 0    Beneficio Diario: 8.0    Beneficio Promedio: 3\n",
            "Dia: 191    Num. Aleatorio: 0.92    Ventas Simuladas: 70    Ventas Reales: 50    Ventas Perdidas: 20    Periodicos No Vendidos: 0    Beneficio Diario: 6.0    Beneficio Promedio: 3\n",
            "Dia: 192    Num. Aleatorio: 0.09    Ventas Simuladas: 30    Ventas Reales: 30    Ventas Perdidas: 0    Periodicos No Vendidos: 20    Beneficio Diario: -14.0    Beneficio Promedio: 3\n",
            "Dia: 193    Num. Aleatorio: 0.5    Ventas Simuladas: 50    Ventas Reales: 50    Ventas Perdidas: 0    Periodicos No Vendidos: 0    Beneficio Diario: 10.0    Beneficio Promedio: 3\n",
            "Dia: 194    Num. Aleatorio: 0.25    Ventas Simuladas: 40    Ventas Reales: 40    Ventas Perdidas: 0    Periodicos No Vendidos: 10    Beneficio Diario: -2.0    Beneficio Promedio: 3\n",
            "Dia: 195    Num. Aleatorio: 0.85    Ventas Simuladas: 60    Ventas Reales: 50    Ventas Perdidas: 10    Periodicos No Vendidos: 0    Beneficio Diario: 8.0    Beneficio Promedio: 3\n",
            "Dia: 196    Num. Aleatorio: 0.73    Ventas Simuladas: 60    Ventas Reales: 50    Ventas Perdidas: 10    Periodicos No Vendidos: 0    Beneficio Diario: 8.0    Beneficio Promedio: 3\n",
            "Dia: 197    Num. Aleatorio: 0.87    Ventas Simuladas: 60    Ventas Reales: 50    Ventas Perdidas: 10    Periodicos No Vendidos: 0    Beneficio Diario: 8.0    Beneficio Promedio: 3\n",
            "Dia: 198    Num. Aleatorio: 0.84    Ventas Simuladas: 60    Ventas Reales: 50    Ventas Perdidas: 10    Periodicos No Vendidos: 0    Beneficio Diario: 8.0    Beneficio Promedio: 3\n",
            "Dia: 199    Num. Aleatorio: 0.37    Ventas Simuladas: 40    Ventas Reales: 40    Ventas Perdidas: 0    Periodicos No Vendidos: 10    Beneficio Diario: -2.0    Beneficio Promedio: 3\n",
            "Dia: 200    Num. Aleatorio: 0.22    Ventas Simuladas: 40    Ventas Reales: 40    Ventas Perdidas: 0    Periodicos No Vendidos: 10    Beneficio Diario: -2.0    Beneficio Promedio: 3\n",
            "Dia: 201    Num. Aleatorio: 0.44    Ventas Simuladas: 40    Ventas Reales: 40    Ventas Perdidas: 0    Periodicos No Vendidos: 10    Beneficio Diario: -2.0    Beneficio Promedio: 3\n",
            "Dia: 202    Num. Aleatorio: 0.59    Ventas Simuladas: 50    Ventas Reales: 50    Ventas Perdidas: 0    Periodicos No Vendidos: 0    Beneficio Diario: 10.0    Beneficio Promedio: 3\n",
            "Dia: 203    Num. Aleatorio: 0.04    Ventas Simuladas: 30    Ventas Reales: 30    Ventas Perdidas: 0    Periodicos No Vendidos: 20    Beneficio Diario: -14.0    Beneficio Promedio: 3\n",
            "Dia: 204    Num. Aleatorio: 0.58    Ventas Simuladas: 50    Ventas Reales: 50    Ventas Perdidas: 0    Periodicos No Vendidos: 0    Beneficio Diario: 10.0    Beneficio Promedio: 3\n",
            "Dia: 205    Num. Aleatorio: 0.66    Ventas Simuladas: 50    Ventas Reales: 50    Ventas Perdidas: 0    Periodicos No Vendidos: 0    Beneficio Diario: 10.0    Beneficio Promedio: 3\n",
            "Dia: 206    Num. Aleatorio: 0.72    Ventas Simuladas: 60    Ventas Reales: 50    Ventas Perdidas: 10    Periodicos No Vendidos: 0    Beneficio Diario: 8.0    Beneficio Promedio: 3\n",
            "Dia: 207    Num. Aleatorio: 0.4    Ventas Simuladas: 40    Ventas Reales: 40    Ventas Perdidas: 0    Periodicos No Vendidos: 10    Beneficio Diario: -2.0    Beneficio Promedio: 3\n",
            "Dia: 208    Num. Aleatorio: 0.42    Ventas Simuladas: 40    Ventas Reales: 40    Ventas Perdidas: 0    Periodicos No Vendidos: 10    Beneficio Diario: -2.0    Beneficio Promedio: 3\n",
            "Dia: 209    Num. Aleatorio: 0.96    Ventas Simuladas: 70    Ventas Reales: 50    Ventas Perdidas: 20    Periodicos No Vendidos: 0    Beneficio Diario: 6.0    Beneficio Promedio: 3\n",
            "Dia: 210    Num. Aleatorio: 0.76    Ventas Simuladas: 60    Ventas Reales: 50    Ventas Perdidas: 10    Periodicos No Vendidos: 0    Beneficio Diario: 8.0    Beneficio Promedio: 3\n",
            "Dia: 211    Num. Aleatorio: 0.98    Ventas Simuladas: 70    Ventas Reales: 50    Ventas Perdidas: 20    Periodicos No Vendidos: 0    Beneficio Diario: 6.0    Beneficio Promedio: 3\n",
            "Dia: 212    Num. Aleatorio: 0.01    Ventas Simuladas: 30    Ventas Reales: 30    Ventas Perdidas: 0    Periodicos No Vendidos: 20    Beneficio Diario: -14.0    Beneficio Promedio: 3\n",
            "Dia: 213    Num. Aleatorio: 0.88    Ventas Simuladas: 60    Ventas Reales: 50    Ventas Perdidas: 10    Periodicos No Vendidos: 0    Beneficio Diario: 8.0    Beneficio Promedio: 3\n",
            "Dia: 214    Num. Aleatorio: 0.73    Ventas Simuladas: 60    Ventas Reales: 50    Ventas Perdidas: 10    Periodicos No Vendidos: 0    Beneficio Diario: 8.0    Beneficio Promedio: 3\n",
            "Dia: 215    Num. Aleatorio: 0.03    Ventas Simuladas: 30    Ventas Reales: 30    Ventas Perdidas: 0    Periodicos No Vendidos: 20    Beneficio Diario: -14.0    Beneficio Promedio: 3\n",
            "Dia: 216    Num. Aleatorio: 0.02    Ventas Simuladas: 30    Ventas Reales: 30    Ventas Perdidas: 0    Periodicos No Vendidos: 20    Beneficio Diario: -14.0    Beneficio Promedio: 3\n",
            "Dia: 217    Num. Aleatorio: 0.87    Ventas Simuladas: 60    Ventas Reales: 50    Ventas Perdidas: 10    Periodicos No Vendidos: 0    Beneficio Diario: 8.0    Beneficio Promedio: 3\n",
            "Dia: 218    Num. Aleatorio: 0.65    Ventas Simuladas: 50    Ventas Reales: 50    Ventas Perdidas: 0    Periodicos No Vendidos: 0    Beneficio Diario: 10.0    Beneficio Promedio: 3\n",
            "Dia: 219    Num. Aleatorio: 0.49    Ventas Simuladas: 50    Ventas Reales: 50    Ventas Perdidas: 0    Periodicos No Vendidos: 0    Beneficio Diario: 10.0    Beneficio Promedio: 3\n",
            "Dia: 220    Num. Aleatorio: 0.11    Ventas Simuladas: 30    Ventas Reales: 30    Ventas Perdidas: 0    Periodicos No Vendidos: 20    Beneficio Diario: -14.0    Beneficio Promedio: 3\n",
            "Dia: 221    Num. Aleatorio: 0.25    Ventas Simuladas: 40    Ventas Reales: 40    Ventas Perdidas: 0    Periodicos No Vendidos: 10    Beneficio Diario: -2.0    Beneficio Promedio: 3\n",
            "Dia: 222    Num. Aleatorio: 0.68    Ventas Simuladas: 50    Ventas Reales: 50    Ventas Perdidas: 0    Periodicos No Vendidos: 0    Beneficio Diario: 10.0    Beneficio Promedio: 3\n",
            "Dia: 223    Num. Aleatorio: 0.08    Ventas Simuladas: 30    Ventas Reales: 30    Ventas Perdidas: 0    Periodicos No Vendidos: 20    Beneficio Diario: -14.0    Beneficio Promedio: 3\n",
            "Dia: 224    Num. Aleatorio: 0.57    Ventas Simuladas: 50    Ventas Reales: 50    Ventas Perdidas: 0    Periodicos No Vendidos: 0    Beneficio Diario: 10.0    Beneficio Promedio: 3\n",
            "Dia: 225    Num. Aleatorio: 0.16    Ventas Simuladas: 30    Ventas Reales: 30    Ventas Perdidas: 0    Periodicos No Vendidos: 20    Beneficio Diario: -14.0    Beneficio Promedio: 3\n",
            "Dia: 226    Num. Aleatorio: 0.2    Ventas Simuladas: 30    Ventas Reales: 30    Ventas Perdidas: 0    Periodicos No Vendidos: 20    Beneficio Diario: -14.0    Beneficio Promedio: 3\n",
            "Dia: 227    Num. Aleatorio: 0.94    Ventas Simuladas: 70    Ventas Reales: 50    Ventas Perdidas: 20    Periodicos No Vendidos: 0    Beneficio Diario: 6.0    Beneficio Promedio: 3\n",
            "Dia: 228    Num. Aleatorio: 0.08    Ventas Simuladas: 30    Ventas Reales: 30    Ventas Perdidas: 0    Periodicos No Vendidos: 20    Beneficio Diario: -14.0    Beneficio Promedio: 2\n",
            "Dia: 229    Num. Aleatorio: 0.78    Ventas Simuladas: 60    Ventas Reales: 50    Ventas Perdidas: 10    Periodicos No Vendidos: 0    Beneficio Diario: 8.0    Beneficio Promedio: 2\n",
            "Dia: 230    Num. Aleatorio: 0.98    Ventas Simuladas: 70    Ventas Reales: 50    Ventas Perdidas: 20    Periodicos No Vendidos: 0    Beneficio Diario: 6.0    Beneficio Promedio: 3\n",
            "Dia: 231    Num. Aleatorio: 0.33    Ventas Simuladas: 40    Ventas Reales: 40    Ventas Perdidas: 0    Periodicos No Vendidos: 10    Beneficio Diario: -2.0    Beneficio Promedio: 2\n",
            "Dia: 232    Num. Aleatorio: 0.44    Ventas Simuladas: 40    Ventas Reales: 40    Ventas Perdidas: 0    Periodicos No Vendidos: 10    Beneficio Diario: -2.0    Beneficio Promedio: 2\n",
            "Dia: 233    Num. Aleatorio: 0.26    Ventas Simuladas: 40    Ventas Reales: 40    Ventas Perdidas: 0    Periodicos No Vendidos: 10    Beneficio Diario: -2.0    Beneficio Promedio: 2\n",
            "Dia: 234    Num. Aleatorio: 0.78    Ventas Simuladas: 60    Ventas Reales: 50    Ventas Perdidas: 10    Periodicos No Vendidos: 0    Beneficio Diario: 8.0    Beneficio Promedio: 2\n",
            "Dia: 235    Num. Aleatorio: 0.84    Ventas Simuladas: 60    Ventas Reales: 50    Ventas Perdidas: 10    Periodicos No Vendidos: 0    Beneficio Diario: 8.0    Beneficio Promedio: 2\n",
            "Dia: 236    Num. Aleatorio: 0.59    Ventas Simuladas: 50    Ventas Reales: 50    Ventas Perdidas: 0    Periodicos No Vendidos: 0    Beneficio Diario: 10.0    Beneficio Promedio: 3\n",
            "Dia: 237    Num. Aleatorio: 0.21    Ventas Simuladas: 40    Ventas Reales: 40    Ventas Perdidas: 0    Periodicos No Vendidos: 10    Beneficio Diario: -2.0    Beneficio Promedio: 3\n",
            "Dia: 238    Num. Aleatorio: 0.59    Ventas Simuladas: 50    Ventas Reales: 50    Ventas Perdidas: 0    Periodicos No Vendidos: 0    Beneficio Diario: 10.0    Beneficio Promedio: 3\n",
            "Dia: 239    Num. Aleatorio: 0.28    Ventas Simuladas: 40    Ventas Reales: 40    Ventas Perdidas: 0    Periodicos No Vendidos: 10    Beneficio Diario: -2.0    Beneficio Promedio: 3\n",
            "Dia: 240    Num. Aleatorio: 0.74    Ventas Simuladas: 60    Ventas Reales: 50    Ventas Perdidas: 10    Periodicos No Vendidos: 0    Beneficio Diario: 8.0    Beneficio Promedio: 3\n",
            "Dia: 241    Num. Aleatorio: 0.68    Ventas Simuladas: 50    Ventas Reales: 50    Ventas Perdidas: 0    Periodicos No Vendidos: 0    Beneficio Diario: 10.0    Beneficio Promedio: 3\n",
            "Dia: 242    Num. Aleatorio: 0.65    Ventas Simuladas: 50    Ventas Reales: 50    Ventas Perdidas: 0    Periodicos No Vendidos: 0    Beneficio Diario: 10.0    Beneficio Promedio: 3\n",
            "Dia: 243    Num. Aleatorio: 0.75    Ventas Simuladas: 60    Ventas Reales: 50    Ventas Perdidas: 10    Periodicos No Vendidos: 0    Beneficio Diario: 8.0    Beneficio Promedio: 3\n",
            "Dia: 244    Num. Aleatorio: 0.04    Ventas Simuladas: 30    Ventas Reales: 30    Ventas Perdidas: 0    Periodicos No Vendidos: 20    Beneficio Diario: -14.0    Beneficio Promedio: 3\n",
            "Dia: 245    Num. Aleatorio: 0.75    Ventas Simuladas: 60    Ventas Reales: 50    Ventas Perdidas: 10    Periodicos No Vendidos: 0    Beneficio Diario: 8.0    Beneficio Promedio: 3\n",
            "Dia: 246    Num. Aleatorio: 0.66    Ventas Simuladas: 50    Ventas Reales: 50    Ventas Perdidas: 0    Periodicos No Vendidos: 0    Beneficio Diario: 10.0    Beneficio Promedio: 3\n",
            "Dia: 247    Num. Aleatorio: 0.38    Ventas Simuladas: 40    Ventas Reales: 40    Ventas Perdidas: 0    Periodicos No Vendidos: 10    Beneficio Diario: -2.0    Beneficio Promedio: 3\n",
            "Dia: 248    Num. Aleatorio: 0.49    Ventas Simuladas: 50    Ventas Reales: 50    Ventas Perdidas: 0    Periodicos No Vendidos: 0    Beneficio Diario: 10.0    Beneficio Promedio: 3\n",
            "Dia: 249    Num. Aleatorio: 0.22    Ventas Simuladas: 40    Ventas Reales: 40    Ventas Perdidas: 0    Periodicos No Vendidos: 10    Beneficio Diario: -2.0    Beneficio Promedio: 3\n",
            "Dia: 250    Num. Aleatorio: 0.84    Ventas Simuladas: 60    Ventas Reales: 50    Ventas Perdidas: 10    Periodicos No Vendidos: 0    Beneficio Diario: 8.0    Beneficio Promedio: 3\n",
            "Dia: 251    Num. Aleatorio: 0.48    Ventas Simuladas: 50    Ventas Reales: 50    Ventas Perdidas: 0    Periodicos No Vendidos: 0    Beneficio Diario: 10.0    Beneficio Promedio: 3\n",
            "Dia: 252    Num. Aleatorio: 0.82    Ventas Simuladas: 60    Ventas Reales: 50    Ventas Perdidas: 10    Periodicos No Vendidos: 0    Beneficio Diario: 8.0    Beneficio Promedio: 3\n",
            "Dia: 253    Num. Aleatorio: 0.56    Ventas Simuladas: 50    Ventas Reales: 50    Ventas Perdidas: 0    Periodicos No Vendidos: 0    Beneficio Diario: 10.0    Beneficio Promedio: 3\n",
            "Dia: 254    Num. Aleatorio: 0.63    Ventas Simuladas: 50    Ventas Reales: 50    Ventas Perdidas: 0    Periodicos No Vendidos: 0    Beneficio Diario: 10.0    Beneficio Promedio: 3\n",
            "Dia: 255    Num. Aleatorio: 0.6    Ventas Simuladas: 50    Ventas Reales: 50    Ventas Perdidas: 0    Periodicos No Vendidos: 0    Beneficio Diario: 10.0    Beneficio Promedio: 3\n",
            "Dia: 256    Num. Aleatorio: 0.05    Ventas Simuladas: 30    Ventas Reales: 30    Ventas Perdidas: 0    Periodicos No Vendidos: 20    Beneficio Diario: -14.0    Beneficio Promedio: 3\n",
            "Dia: 257    Num. Aleatorio: 0.07    Ventas Simuladas: 30    Ventas Reales: 30    Ventas Perdidas: 0    Periodicos No Vendidos: 20    Beneficio Diario: -14.0    Beneficio Promedio: 3\n",
            "Dia: 258    Num. Aleatorio: 0.93    Ventas Simuladas: 70    Ventas Reales: 50    Ventas Perdidas: 20    Periodicos No Vendidos: 0    Beneficio Diario: 6.0    Beneficio Promedio: 3\n",
            "Dia: 259    Num. Aleatorio: 0.89    Ventas Simuladas: 60    Ventas Reales: 50    Ventas Perdidas: 10    Periodicos No Vendidos: 0    Beneficio Diario: 8.0    Beneficio Promedio: 3\n",
            "Dia: 260    Num. Aleatorio: 0.09    Ventas Simuladas: 30    Ventas Reales: 30    Ventas Perdidas: 0    Periodicos No Vendidos: 20    Beneficio Diario: -14.0    Beneficio Promedio: 3\n",
            "Dia: 261    Num. Aleatorio: 0.6    Ventas Simuladas: 50    Ventas Reales: 50    Ventas Perdidas: 0    Periodicos No Vendidos: 0    Beneficio Diario: 10.0    Beneficio Promedio: 3\n",
            "Dia: 262    Num. Aleatorio: 0.01    Ventas Simuladas: 30    Ventas Reales: 30    Ventas Perdidas: 0    Periodicos No Vendidos: 20    Beneficio Diario: -14.0    Beneficio Promedio: 3\n",
            "Dia: 263    Num. Aleatorio: 0.21    Ventas Simuladas: 40    Ventas Reales: 40    Ventas Perdidas: 0    Periodicos No Vendidos: 10    Beneficio Diario: -2.0    Beneficio Promedio: 3\n",
            "Dia: 264    Num. Aleatorio: 0.33    Ventas Simuladas: 40    Ventas Reales: 40    Ventas Perdidas: 0    Periodicos No Vendidos: 10    Beneficio Diario: -2.0    Beneficio Promedio: 3\n",
            "Dia: 265    Num. Aleatorio: 0.37    Ventas Simuladas: 40    Ventas Reales: 40    Ventas Perdidas: 0    Periodicos No Vendidos: 10    Beneficio Diario: -2.0    Beneficio Promedio: 3\n",
            "Dia: 266    Num. Aleatorio: 0.56    Ventas Simuladas: 50    Ventas Reales: 50    Ventas Perdidas: 0    Periodicos No Vendidos: 0    Beneficio Diario: 10.0    Beneficio Promedio: 3\n",
            "Dia: 267    Num. Aleatorio: 0.13    Ventas Simuladas: 30    Ventas Reales: 30    Ventas Perdidas: 0    Periodicos No Vendidos: 20    Beneficio Diario: -14.0    Beneficio Promedio: 2\n",
            "Dia: 268    Num. Aleatorio: 0.03    Ventas Simuladas: 30    Ventas Reales: 30    Ventas Perdidas: 0    Periodicos No Vendidos: 20    Beneficio Diario: -14.0    Beneficio Promedio: 2\n",
            "Dia: 269    Num. Aleatorio: 0.48    Ventas Simuladas: 50    Ventas Reales: 50    Ventas Perdidas: 0    Periodicos No Vendidos: 0    Beneficio Diario: 10.0    Beneficio Promedio: 2\n",
            "Dia: 270    Num. Aleatorio: 0.54    Ventas Simuladas: 50    Ventas Reales: 50    Ventas Perdidas: 0    Periodicos No Vendidos: 0    Beneficio Diario: 10.0    Beneficio Promedio: 2\n",
            "Dia: 271    Num. Aleatorio: 0.84    Ventas Simuladas: 60    Ventas Reales: 50    Ventas Perdidas: 10    Periodicos No Vendidos: 0    Beneficio Diario: 8.0    Beneficio Promedio: 2\n",
            "Dia: 272    Num. Aleatorio: 0.66    Ventas Simuladas: 50    Ventas Reales: 50    Ventas Perdidas: 0    Periodicos No Vendidos: 0    Beneficio Diario: 10.0    Beneficio Promedio: 3\n",
            "Dia: 273    Num. Aleatorio: 0.16    Ventas Simuladas: 30    Ventas Reales: 30    Ventas Perdidas: 0    Periodicos No Vendidos: 20    Beneficio Diario: -14.0    Beneficio Promedio: 2\n",
            "Dia: 274    Num. Aleatorio: 0.53    Ventas Simuladas: 50    Ventas Reales: 50    Ventas Perdidas: 0    Periodicos No Vendidos: 0    Beneficio Diario: 10.0    Beneficio Promedio: 2\n",
            "Dia: 275    Num. Aleatorio: 0.51    Ventas Simuladas: 50    Ventas Reales: 50    Ventas Perdidas: 0    Periodicos No Vendidos: 0    Beneficio Diario: 10.0    Beneficio Promedio: 3\n",
            "Dia: 276    Num. Aleatorio: 0.32    Ventas Simuladas: 40    Ventas Reales: 40    Ventas Perdidas: 0    Periodicos No Vendidos: 10    Beneficio Diario: -2.0    Beneficio Promedio: 3\n",
            "Dia: 277    Num. Aleatorio: 0.96    Ventas Simuladas: 70    Ventas Reales: 50    Ventas Perdidas: 20    Periodicos No Vendidos: 0    Beneficio Diario: 6.0    Beneficio Promedio: 3\n",
            "Dia: 278    Num. Aleatorio: 0.33    Ventas Simuladas: 40    Ventas Reales: 40    Ventas Perdidas: 0    Periodicos No Vendidos: 10    Beneficio Diario: -2.0    Beneficio Promedio: 2\n",
            "Dia: 279    Num. Aleatorio: 0.63    Ventas Simuladas: 50    Ventas Reales: 50    Ventas Perdidas: 0    Periodicos No Vendidos: 0    Beneficio Diario: 10.0    Beneficio Promedio: 3\n",
            "Dia: 280    Num. Aleatorio: 0.95    Ventas Simuladas: 70    Ventas Reales: 50    Ventas Perdidas: 20    Periodicos No Vendidos: 0    Beneficio Diario: 6.0    Beneficio Promedio: 3\n",
            "Dia: 281    Num. Aleatorio: 0.49    Ventas Simuladas: 50    Ventas Reales: 50    Ventas Perdidas: 0    Periodicos No Vendidos: 0    Beneficio Diario: 10.0    Beneficio Promedio: 3\n",
            "Dia: 282    Num. Aleatorio: 0.38    Ventas Simuladas: 40    Ventas Reales: 40    Ventas Perdidas: 0    Periodicos No Vendidos: 10    Beneficio Diario: -2.0    Beneficio Promedio: 3\n",
            "Dia: 283    Num. Aleatorio: 0.71    Ventas Simuladas: 60    Ventas Reales: 50    Ventas Perdidas: 10    Periodicos No Vendidos: 0    Beneficio Diario: 8.0    Beneficio Promedio: 3\n",
            "Dia: 284    Num. Aleatorio: 0.59    Ventas Simuladas: 50    Ventas Reales: 50    Ventas Perdidas: 0    Periodicos No Vendidos: 0    Beneficio Diario: 10.0    Beneficio Promedio: 3\n",
            "Dia: 285    Num. Aleatorio: 0.22    Ventas Simuladas: 40    Ventas Reales: 40    Ventas Perdidas: 0    Periodicos No Vendidos: 10    Beneficio Diario: -2.0    Beneficio Promedio: 3\n",
            "Dia: 286    Num. Aleatorio: 0.45    Ventas Simuladas: 40    Ventas Reales: 40    Ventas Perdidas: 0    Periodicos No Vendidos: 10    Beneficio Diario: -2.0    Beneficio Promedio: 3\n",
            "Dia: 287    Num. Aleatorio: 0.74    Ventas Simuladas: 60    Ventas Reales: 50    Ventas Perdidas: 10    Periodicos No Vendidos: 0    Beneficio Diario: 8.0    Beneficio Promedio: 3\n",
            "Dia: 288    Num. Aleatorio: 0.78    Ventas Simuladas: 60    Ventas Reales: 50    Ventas Perdidas: 10    Periodicos No Vendidos: 0    Beneficio Diario: 8.0    Beneficio Promedio: 3\n",
            "Dia: 289    Num. Aleatorio: 0.2    Ventas Simuladas: 30    Ventas Reales: 30    Ventas Perdidas: 0    Periodicos No Vendidos: 20    Beneficio Diario: -14.0    Beneficio Promedio: 3\n",
            "Dia: 290    Num. Aleatorio: 0.46    Ventas Simuladas: 50    Ventas Reales: 50    Ventas Perdidas: 0    Periodicos No Vendidos: 0    Beneficio Diario: 10.0    Beneficio Promedio: 3\n",
            "Dia: 291    Num. Aleatorio: 0.17    Ventas Simuladas: 30    Ventas Reales: 30    Ventas Perdidas: 0    Periodicos No Vendidos: 20    Beneficio Diario: -14.0    Beneficio Promedio: 3\n",
            "Dia: 292    Num. Aleatorio: 0.3    Ventas Simuladas: 40    Ventas Reales: 40    Ventas Perdidas: 0    Periodicos No Vendidos: 10    Beneficio Diario: -2.0    Beneficio Promedio: 2\n",
            "Dia: 293    Num. Aleatorio: 0.39    Ventas Simuladas: 40    Ventas Reales: 40    Ventas Perdidas: 0    Periodicos No Vendidos: 10    Beneficio Diario: -2.0    Beneficio Promedio: 2\n",
            "Dia: 294    Num. Aleatorio: 0.35    Ventas Simuladas: 40    Ventas Reales: 40    Ventas Perdidas: 0    Periodicos No Vendidos: 10    Beneficio Diario: -2.0    Beneficio Promedio: 2\n",
            "Dia: 295    Num. Aleatorio: 0.31    Ventas Simuladas: 40    Ventas Reales: 40    Ventas Perdidas: 0    Periodicos No Vendidos: 10    Beneficio Diario: -2.0    Beneficio Promedio: 2\n",
            "Dia: 296    Num. Aleatorio: 0.67    Ventas Simuladas: 50    Ventas Reales: 50    Ventas Perdidas: 0    Periodicos No Vendidos: 0    Beneficio Diario: 10.0    Beneficio Promedio: 2\n",
            "Dia: 297    Num. Aleatorio: 0.06    Ventas Simuladas: 30    Ventas Reales: 30    Ventas Perdidas: 0    Periodicos No Vendidos: 20    Beneficio Diario: -14.0    Beneficio Promedio: 2\n",
            "Dia: 298    Num. Aleatorio: 0.41    Ventas Simuladas: 40    Ventas Reales: 40    Ventas Perdidas: 0    Periodicos No Vendidos: 10    Beneficio Diario: -2.0    Beneficio Promedio: 2\n",
            "Dia: 299    Num. Aleatorio: 0.99    Ventas Simuladas: 70    Ventas Reales: 50    Ventas Perdidas: 20    Periodicos No Vendidos: 0    Beneficio Diario: 6.0    Beneficio Promedio: 2\n",
            "Dia: 300    Num. Aleatorio: 0.95    Ventas Simuladas: 70    Ventas Reales: 50    Ventas Perdidas: 20    Periodicos No Vendidos: 0    Beneficio Diario: 6.0    Beneficio Promedio: 2\n",
            "Dia: 301    Num. Aleatorio: 0.49    Ventas Simuladas: 50    Ventas Reales: 50    Ventas Perdidas: 0    Periodicos No Vendidos: 0    Beneficio Diario: 10.0    Beneficio Promedio: 2\n",
            "Dia: 302    Num. Aleatorio: 0.19    Ventas Simuladas: 30    Ventas Reales: 30    Ventas Perdidas: 0    Periodicos No Vendidos: 20    Beneficio Diario: -14.0    Beneficio Promedio: 2\n",
            "Dia: 303    Num. Aleatorio: 0.23    Ventas Simuladas: 40    Ventas Reales: 40    Ventas Perdidas: 0    Periodicos No Vendidos: 10    Beneficio Diario: -2.0    Beneficio Promedio: 2\n",
            "Dia: 304    Num. Aleatorio: 0.25    Ventas Simuladas: 40    Ventas Reales: 40    Ventas Perdidas: 0    Periodicos No Vendidos: 10    Beneficio Diario: -2.0    Beneficio Promedio: 2\n",
            "Dia: 305    Num. Aleatorio: 0.27    Ventas Simuladas: 40    Ventas Reales: 40    Ventas Perdidas: 0    Periodicos No Vendidos: 10    Beneficio Diario: -2.0    Beneficio Promedio: 2\n",
            "Dia: 306    Num. Aleatorio: 0.95    Ventas Simuladas: 70    Ventas Reales: 50    Ventas Perdidas: 20    Periodicos No Vendidos: 0    Beneficio Diario: 6.0    Beneficio Promedio: 2\n",
            "Dia: 307    Num. Aleatorio: 0.86    Ventas Simuladas: 60    Ventas Reales: 50    Ventas Perdidas: 10    Periodicos No Vendidos: 0    Beneficio Diario: 8.0    Beneficio Promedio: 2\n",
            "Dia: 308    Num. Aleatorio: 0.11    Ventas Simuladas: 30    Ventas Reales: 30    Ventas Perdidas: 0    Periodicos No Vendidos: 20    Beneficio Diario: -14.0    Beneficio Promedio: 2\n",
            "Dia: 309    Num. Aleatorio: 0.66    Ventas Simuladas: 50    Ventas Reales: 50    Ventas Perdidas: 0    Periodicos No Vendidos: 0    Beneficio Diario: 10.0    Beneficio Promedio: 2\n",
            "Dia: 310    Num. Aleatorio: 0.83    Ventas Simuladas: 60    Ventas Reales: 50    Ventas Perdidas: 10    Periodicos No Vendidos: 0    Beneficio Diario: 8.0    Beneficio Promedio: 2\n",
            "Dia: 311    Num. Aleatorio: 0.34    Ventas Simuladas: 40    Ventas Reales: 40    Ventas Perdidas: 0    Periodicos No Vendidos: 10    Beneficio Diario: -2.0    Beneficio Promedio: 2\n",
            "Dia: 312    Num. Aleatorio: 0.45    Ventas Simuladas: 50    Ventas Reales: 50    Ventas Perdidas: 0    Periodicos No Vendidos: 0    Beneficio Diario: 10.0    Beneficio Promedio: 2\n",
            "Dia: 313    Num. Aleatorio: 0.89    Ventas Simuladas: 60    Ventas Reales: 50    Ventas Perdidas: 10    Periodicos No Vendidos: 0    Beneficio Diario: 8.0    Beneficio Promedio: 2\n",
            "Dia: 314    Num. Aleatorio: 0.79    Ventas Simuladas: 60    Ventas Reales: 50    Ventas Perdidas: 10    Periodicos No Vendidos: 0    Beneficio Diario: 8.0    Beneficio Promedio: 2\n",
            "Dia: 315    Num. Aleatorio: 0.47    Ventas Simuladas: 50    Ventas Reales: 50    Ventas Perdidas: 0    Periodicos No Vendidos: 0    Beneficio Diario: 10.0    Beneficio Promedio: 2\n",
            "Dia: 316    Num. Aleatorio: 0.91    Ventas Simuladas: 70    Ventas Reales: 50    Ventas Perdidas: 20    Periodicos No Vendidos: 0    Beneficio Diario: 6.0    Beneficio Promedio: 2\n",
            "Dia: 317    Num. Aleatorio: 0.35    Ventas Simuladas: 40    Ventas Reales: 40    Ventas Perdidas: 0    Periodicos No Vendidos: 10    Beneficio Diario: -2.0    Beneficio Promedio: 2\n",
            "Dia: 318    Num. Aleatorio: 0.8    Ventas Simuladas: 60    Ventas Reales: 50    Ventas Perdidas: 10    Periodicos No Vendidos: 0    Beneficio Diario: 8.0    Beneficio Promedio: 2\n",
            "Dia: 319    Num. Aleatorio: 0.39    Ventas Simuladas: 40    Ventas Reales: 40    Ventas Perdidas: 0    Periodicos No Vendidos: 10    Beneficio Diario: -2.0    Beneficio Promedio: 2\n",
            "Dia: 320    Num. Aleatorio: 0.01    Ventas Simuladas: 30    Ventas Reales: 30    Ventas Perdidas: 0    Periodicos No Vendidos: 20    Beneficio Diario: -14.0    Beneficio Promedio: 2\n",
            "Dia: 321    Num. Aleatorio: 0.98    Ventas Simuladas: 70    Ventas Reales: 50    Ventas Perdidas: 20    Periodicos No Vendidos: 0    Beneficio Diario: 6.0    Beneficio Promedio: 2\n",
            "Dia: 322    Num. Aleatorio: 0.94    Ventas Simuladas: 70    Ventas Reales: 50    Ventas Perdidas: 20    Periodicos No Vendidos: 0    Beneficio Diario: 6.0    Beneficio Promedio: 2\n",
            "Dia: 323    Num. Aleatorio: 0.61    Ventas Simuladas: 50    Ventas Reales: 50    Ventas Perdidas: 0    Periodicos No Vendidos: 0    Beneficio Diario: 10.0    Beneficio Promedio: 2\n",
            "Dia: 324    Num. Aleatorio: 0.04    Ventas Simuladas: 30    Ventas Reales: 30    Ventas Perdidas: 0    Periodicos No Vendidos: 20    Beneficio Diario: -14.0    Beneficio Promedio: 2\n",
            "Dia: 325    Num. Aleatorio: 0.17    Ventas Simuladas: 30    Ventas Reales: 30    Ventas Perdidas: 0    Periodicos No Vendidos: 20    Beneficio Diario: -14.0    Beneficio Promedio: 2\n",
            "Dia: 326    Num. Aleatorio: 0.83    Ventas Simuladas: 60    Ventas Reales: 50    Ventas Perdidas: 10    Periodicos No Vendidos: 0    Beneficio Diario: 8.0    Beneficio Promedio: 2\n",
            "Dia: 327    Num. Aleatorio: 0.59    Ventas Simuladas: 50    Ventas Reales: 50    Ventas Perdidas: 0    Periodicos No Vendidos: 0    Beneficio Diario: 10.0    Beneficio Promedio: 2\n",
            "Dia: 328    Num. Aleatorio: 0.62    Ventas Simuladas: 50    Ventas Reales: 50    Ventas Perdidas: 0    Periodicos No Vendidos: 0    Beneficio Diario: 10.0    Beneficio Promedio: 2\n",
            "Dia: 329    Num. Aleatorio: 0.19    Ventas Simuladas: 30    Ventas Reales: 30    Ventas Perdidas: 0    Periodicos No Vendidos: 20    Beneficio Diario: -14.0    Beneficio Promedio: 2\n",
            "Dia: 330    Num. Aleatorio: 0.78    Ventas Simuladas: 60    Ventas Reales: 50    Ventas Perdidas: 10    Periodicos No Vendidos: 0    Beneficio Diario: 8.0    Beneficio Promedio: 2\n",
            "Dia: 331    Num. Aleatorio: 0.15    Ventas Simuladas: 30    Ventas Reales: 30    Ventas Perdidas: 0    Periodicos No Vendidos: 20    Beneficio Diario: -14.0    Beneficio Promedio: 2\n",
            "Dia: 332    Num. Aleatorio: 0.26    Ventas Simuladas: 40    Ventas Reales: 40    Ventas Perdidas: 0    Periodicos No Vendidos: 10    Beneficio Diario: -2.0    Beneficio Promedio: 2\n",
            "Dia: 333    Num. Aleatorio: 0.67    Ventas Simuladas: 50    Ventas Reales: 50    Ventas Perdidas: 0    Periodicos No Vendidos: 0    Beneficio Diario: 10.0    Beneficio Promedio: 2\n",
            "Dia: 334    Num. Aleatorio: 0.15    Ventas Simuladas: 30    Ventas Reales: 30    Ventas Perdidas: 0    Periodicos No Vendidos: 20    Beneficio Diario: -14.0    Beneficio Promedio: 2\n",
            "Dia: 335    Num. Aleatorio: 0.87    Ventas Simuladas: 60    Ventas Reales: 50    Ventas Perdidas: 10    Periodicos No Vendidos: 0    Beneficio Diario: 8.0    Beneficio Promedio: 2\n",
            "Dia: 336    Num. Aleatorio: 0.46    Ventas Simuladas: 50    Ventas Reales: 50    Ventas Perdidas: 0    Periodicos No Vendidos: 0    Beneficio Diario: 10.0    Beneficio Promedio: 2\n",
            "Dia: 337    Num. Aleatorio: 0.02    Ventas Simuladas: 30    Ventas Reales: 30    Ventas Perdidas: 0    Periodicos No Vendidos: 20    Beneficio Diario: -14.0    Beneficio Promedio: 2\n",
            "Dia: 338    Num. Aleatorio: 0.55    Ventas Simuladas: 50    Ventas Reales: 50    Ventas Perdidas: 0    Periodicos No Vendidos: 0    Beneficio Diario: 10.0    Beneficio Promedio: 2\n",
            "Dia: 339    Num. Aleatorio: 0.09    Ventas Simuladas: 30    Ventas Reales: 30    Ventas Perdidas: 0    Periodicos No Vendidos: 20    Beneficio Diario: -14.0    Beneficio Promedio: 2\n",
            "Dia: 340    Num. Aleatorio: 0.27    Ventas Simuladas: 40    Ventas Reales: 40    Ventas Perdidas: 0    Periodicos No Vendidos: 10    Beneficio Diario: -2.0    Beneficio Promedio: 2\n",
            "Dia: 341    Num. Aleatorio: 0.81    Ventas Simuladas: 60    Ventas Reales: 50    Ventas Perdidas: 10    Periodicos No Vendidos: 0    Beneficio Diario: 8.0    Beneficio Promedio: 2\n",
            "Dia: 342    Num. Aleatorio: 0.83    Ventas Simuladas: 60    Ventas Reales: 50    Ventas Perdidas: 10    Periodicos No Vendidos: 0    Beneficio Diario: 8.0    Beneficio Promedio: 2\n",
            "Dia: 343    Num. Aleatorio: 0.91    Ventas Simuladas: 70    Ventas Reales: 50    Ventas Perdidas: 20    Periodicos No Vendidos: 0    Beneficio Diario: 6.0    Beneficio Promedio: 2\n",
            "Dia: 344    Num. Aleatorio: 0.43    Ventas Simuladas: 40    Ventas Reales: 40    Ventas Perdidas: 0    Periodicos No Vendidos: 10    Beneficio Diario: -2.0    Beneficio Promedio: 2\n",
            "Dia: 345    Num. Aleatorio: 0.87    Ventas Simuladas: 60    Ventas Reales: 50    Ventas Perdidas: 10    Periodicos No Vendidos: 0    Beneficio Diario: 8.0    Beneficio Promedio: 2\n",
            "Dia: 346    Num. Aleatorio: 0.32    Ventas Simuladas: 40    Ventas Reales: 40    Ventas Perdidas: 0    Periodicos No Vendidos: 10    Beneficio Diario: -2.0    Beneficio Promedio: 2\n",
            "Dia: 347    Num. Aleatorio: 0.48    Ventas Simuladas: 50    Ventas Reales: 50    Ventas Perdidas: 0    Periodicos No Vendidos: 0    Beneficio Diario: 10.0    Beneficio Promedio: 2\n",
            "Dia: 348    Num. Aleatorio: 0.51    Ventas Simuladas: 50    Ventas Reales: 50    Ventas Perdidas: 0    Periodicos No Vendidos: 0    Beneficio Diario: 10.0    Beneficio Promedio: 2\n",
            "Dia: 349    Num. Aleatorio: 0.1    Ventas Simuladas: 30    Ventas Reales: 30    Ventas Perdidas: 0    Periodicos No Vendidos: 20    Beneficio Diario: -14.0    Beneficio Promedio: 2\n",
            "Dia: 350    Num. Aleatorio: 0.31    Ventas Simuladas: 40    Ventas Reales: 40    Ventas Perdidas: 0    Periodicos No Vendidos: 10    Beneficio Diario: -2.0    Beneficio Promedio: 2\n",
            "Dia: 351    Num. Aleatorio: 0.55    Ventas Simuladas: 50    Ventas Reales: 50    Ventas Perdidas: 0    Periodicos No Vendidos: 0    Beneficio Diario: 10.0    Beneficio Promedio: 2\n",
            "Dia: 352    Num. Aleatorio: 0.0    Ventas Simuladas: 30    Ventas Reales: 30    Ventas Perdidas: 0    Periodicos No Vendidos: 20    Beneficio Diario: -14.0    Beneficio Promedio: 2\n",
            "Dia: 353    Num. Aleatorio: 0.57    Ventas Simuladas: 50    Ventas Reales: 50    Ventas Perdidas: 0    Periodicos No Vendidos: 0    Beneficio Diario: 10.0    Beneficio Promedio: 2\n",
            "Dia: 354    Num. Aleatorio: 0.38    Ventas Simuladas: 40    Ventas Reales: 40    Ventas Perdidas: 0    Periodicos No Vendidos: 10    Beneficio Diario: -2.0    Beneficio Promedio: 2\n",
            "Dia: 355    Num. Aleatorio: 0.2    Ventas Simuladas: 40    Ventas Reales: 40    Ventas Perdidas: 0    Periodicos No Vendidos: 10    Beneficio Diario: -2.0    Beneficio Promedio: 2\n",
            "Dia: 356    Num. Aleatorio: 0.91    Ventas Simuladas: 70    Ventas Reales: 50    Ventas Perdidas: 20    Periodicos No Vendidos: 0    Beneficio Diario: 6.0    Beneficio Promedio: 2\n",
            "Dia: 357    Num. Aleatorio: 0.53    Ventas Simuladas: 50    Ventas Reales: 50    Ventas Perdidas: 0    Periodicos No Vendidos: 0    Beneficio Diario: 10.0    Beneficio Promedio: 2\n",
            "Dia: 358    Num. Aleatorio: 0.97    Ventas Simuladas: 70    Ventas Reales: 50    Ventas Perdidas: 20    Periodicos No Vendidos: 0    Beneficio Diario: 6.0    Beneficio Promedio: 2\n",
            "Dia: 359    Num. Aleatorio: 0.0    Ventas Simuladas: 30    Ventas Reales: 30    Ventas Perdidas: 0    Periodicos No Vendidos: 20    Beneficio Diario: -14.0    Beneficio Promedio: 2\n",
            "Dia: 360    Num. Aleatorio: 0.73    Ventas Simuladas: 60    Ventas Reales: 50    Ventas Perdidas: 10    Periodicos No Vendidos: 0    Beneficio Diario: 8.0    Beneficio Promedio: 2\n",
            "Dia: 361    Num. Aleatorio: 0.25    Ventas Simuladas: 40    Ventas Reales: 40    Ventas Perdidas: 0    Periodicos No Vendidos: 10    Beneficio Diario: -2.0    Beneficio Promedio: 2\n",
            "Dia: 362    Num. Aleatorio: 0.31    Ventas Simuladas: 40    Ventas Reales: 40    Ventas Perdidas: 0    Periodicos No Vendidos: 10    Beneficio Diario: -2.0    Beneficio Promedio: 2\n",
            "Dia: 363    Num. Aleatorio: 0.32    Ventas Simuladas: 40    Ventas Reales: 40    Ventas Perdidas: 0    Periodicos No Vendidos: 10    Beneficio Diario: -2.0    Beneficio Promedio: 2\n",
            "Dia: 364    Num. Aleatorio: 0.65    Ventas Simuladas: 50    Ventas Reales: 50    Ventas Perdidas: 0    Periodicos No Vendidos: 0    Beneficio Diario: 10.0    Beneficio Promedio: 2\n",
            "Dia: 365    Num. Aleatorio: 0.96    Ventas Simuladas: 70    Ventas Reales: 50    Ventas Perdidas: 20    Periodicos No Vendidos: 0    Beneficio Diario: 6.0    Beneficio Promedio: 2\n",
            "El beneficio promedio diario es: 2.24\n"
          ]
        }
      ]
    },
    {
      "cell_type": "markdown",
      "source": [
        "En esta ocasión, calculamos que en la simulacion unica de un año, el beneficio diario esperado del quiosquero es de $2.24$ $ € $, sin embargo al ser unicamente una simulacion este valor puede llegar a variar segun se ejecute el codigo.\n",
        "\n",
        "Ahora bien, para una simulación mas efectiva haremos 10 mil iteraciones, para asi calcular los posibles resultados a obtener durante el mismo periodo de tiempo, en este caso durante el mismo año, y se calculara la media.\n",
        "\n",
        "En este caso, mandaremos los mismos argumentos a excepcion de que ahora no deseamos imprimir la tabla de datos, ya que se nos haria demasiado extenso nuestra simulacion: \n",
        "\n",
        "Pedidos $=$ 50\n",
        "\n",
        "Dias a Simular $=$ 1 año $=$ 365 dias\n",
        "\n",
        "NO Deseamos imprimir la Tabla de valores $=$ 0"
      ],
      "metadata": {
        "id": "RAhI5dU0BFAs"
      }
    },
    {
      "cell_type": "code",
      "source": [
        "resultados = []\n",
        "for i in range(10000):\n",
        "    resultado = calcular_beneficio_diario(50, 365, 0)\n",
        "    resultados.append(resultado)\n",
        "\n",
        "# Calculamos la media de los resultados y la imprimimos en pantalla\n",
        "media = sum(resultados) / len(resultados)\n",
        "print(\"El beneficio diario promedio es:\", media)"
      ],
      "metadata": {
        "colab": {
          "base_uri": "https://localhost:8080/"
        },
        "id": "FXPN6HjR5g08",
        "outputId": "f00df5d4-a3f3-44ce-da7c-c338a2d63319"
      },
      "execution_count": null,
      "outputs": [
        {
          "output_type": "stream",
          "name": "stdout",
          "text": [
            "El beneficio diario promedio es: 1.3988904109589084\n"
          ]
        }
      ]
    },
    {
      "cell_type": "markdown",
      "source": [
        "y asi, como resultado obtenemos que el beneficio diario del quiosquero durante ese mismo año, es de aproximadamente $1.398890$ $€$ $\\eqsim$ $1.40$ $€$.\n",
        "\n",
        "si deseamos calcular el beneficio esperado del quiosquero durante todo este año, unicamente basta con multiplicar por 365 dias, o bien por los dias que correspondan al ciclo de tiempo planteado en nuestra simulacion.\n",
        "\n",
        "$B = 1.398890 \\times 365 = 510.59$ $€$"
      ],
      "metadata": {
        "id": "TB-rSEqGC49t"
      }
    },
    {
      "cell_type": "markdown",
      "source": [
        "### b) Resolver Analíticamente"
      ],
      "metadata": {
        "id": "DvcbUZ3qXKIG"
      }
    },
    {
      "cell_type": "markdown",
      "source": [],
      "metadata": {
        "id": "3KFpYQ9vYmgm"
      }
    },
    {
      "cell_type": "markdown",
      "source": [
        "### c) Determine, por simulación, el pedido de periódicos que optimiza el beneficio"
      ],
      "metadata": {
        "id": "cWir5FEPHEuN"
      }
    },
    {
      "cell_type": "markdown",
      "source": [
        "Para este inciso, nos alejaremos un tanto del planteamiento del problema, ya que nos olvidaremos de las probabilidades de ocurrencia para la venta de periodicos."
      ],
      "metadata": {
        "id": "18F8Kip3MiKO"
      }
    },
    {
      "cell_type": "markdown",
      "source": [
        "La función: **grid_search(func,params)** implementa una búsqueda en malla, que es una técnica de optimización que consiste en evaluar sistemáticamente todas las combinaciones posibles de valores de los parámetros de entrada de una función, con el fin de encontrar los valores que maximizan (o minimizan) la función objetivo.\n",
        "\n",
        "La función **grid_search(func,params)** toma como argumentos la función objetivo func y un diccionario params que especifica los valores posibles de cada parámetro que se quiere optimizar, en este caso se toma una lista de 1 a 100, el cual se define como sigue: **params = {'pedido': list(range(1, 101))}**, sin embargo, si queremos seguir la esctructura de nuestro problema inicial podemos mandar unicamente los parametros que se nos dan inicialmente como sigue: **params = {'pedido': [30,40,50,60,70]}**, sin embargo, para tener un margen mas exacto de maximizacion emplearemos el rango planteado inicialmente.\n",
        "\n",
        "**max_result y max_params** son inicializados en None al inicio de la función. Estas variables serán actualizadas a medida que se va evaluando cada combinación de parámetros. Cuando se inicializa una variable en None, significa que no se le está asignando ningún valor en particular en ese momento, sino que se está reservando su espacio en memoria para asignarle un valor más adelante.\n",
        "\n",
        "\n",
        "El ciclo for itera sobre todas las combinaciones de valores posibles de los parámetros especificados en params. Para generar todas las combinaciones, se utiliza la función itertools.product, que toma como argumentos los valores posibles de cada parámetro y devuelve un iterador que genera todas las combinaciones posibles.\n",
        "En cada iteración del ciclo, se crea un diccionario param_dict que asigna los valores actuales de los parámetros a sus respectivas claves en el diccionario params.\n",
        "Luego, se evalúa la función objetivo func con los parámetros especificados en param_dict. El resultado se almacena en la variable result.\n",
        "\n",
        "Si max_result es None o result es mayor que max_result, se actualiza max_result y max_params con los valores actuales de result y param_dict, respectivamente.\n",
        "Finalmente, la función retorna los parámetros que maximizan la función objetivo (max_params) y el valor máximo de la función objetivo (max_result)."
      ],
      "metadata": {
        "id": "XN7eXHvZRLvu"
      }
    },
    {
      "cell_type": "code",
      "source": [
        "import numpy as np\n",
        "import itertools\n",
        "\n",
        "def grid_search(func, params):\n",
        "    max_result = None\n",
        "    max_params = None\n",
        "    for param_values in itertools.product(*params.values()):\n",
        "        param_dict = dict(zip(params.keys(), param_values))\n",
        "        result = func(**param_dict)\n",
        "        if max_result is None or result > max_result:\n",
        "            max_result = result\n",
        "            max_params = param_dict\n",
        "    return max_params, max_result"
      ],
      "metadata": {
        "id": "UabOjreWUAL2"
      },
      "execution_count": null,
      "outputs": []
    },
    {
      "cell_type": "markdown",
      "source": [
        "La funcion **calcular_beneficio_diario_2(pedido)**, es una función similar, a la funcion que se declaro en el inciso a) llamada **calcular_beneficio_diario(pedido,Dias_a_simular,Imprimir)**\n",
        "\n",
        "Solo que en esta ocasion, se ha limitado a tener el atributo de pedido, ya que es el dato que se desea maximizar."
      ],
      "metadata": {
        "id": "eMoYMhbeUBH2"
      }
    },
    {
      "cell_type": "code",
      "source": [
        "def calcular_beneficio_diario_2(pedido):\n",
        "    Beneficios_diarios = []\n",
        "    ventas_reales = 0\n",
        "    ventas_perdidas = 0\n",
        "    periodicos_no_vendidos = 0\n",
        "    \n",
        "    ## El valor 366, hace referencia al año considerado, es decir, esta simulando 365 dias para \n",
        "    ##  tener un mejor margen de simulacion y veracidad.\n",
        "    for i in range(1, 365):\n",
        "        [num_ventas,aleatorio] = num_periodicos_vendidos()\n",
        "        if num_ventas > pedido:\n",
        "            ventas_reales = pedido\n",
        "            ventas_perdidas = num_ventas - pedido\n",
        "            periodicos_no_vendidos = 0\n",
        "        else:\n",
        "            ventas_reales = num_ventas\n",
        "            ventas_perdidas = 0\n",
        "            periodicos_no_vendidos = pedido - num_ventas\n",
        "        \n",
        "        beneficio_diario = ventas_reales * 1.10 - pedido*0.90 - ventas_perdidas * 0.20 - periodicos_no_vendidos * 0.10\n",
        "        Beneficios_diarios.append(beneficio_diario)\n",
        "    beneficio_promedio = np.mean(Beneficios_diarios)\n",
        "    return beneficio_promedio"
      ],
      "metadata": {
        "id": "SVEV2g2fFkTt"
      },
      "execution_count": null,
      "outputs": []
    },
    {
      "cell_type": "markdown",
      "source": [
        "Finalmente, calculamos el pedido de periódicos que optimiza el beneficio"
      ],
      "metadata": {
        "id": "0t2CS2DcVPv-"
      }
    },
    {
      "cell_type": "code",
      "source": [
        "parametros_iniciales = {'pedido': list(range(1, 101))}\n",
        "max_params, max_result = grid_search(calcular_beneficio_diario_2, parametros_iniciales)\n",
        "\n",
        "print(\"El pedido de periódicos que optimiza el beneficio es:\", max_params['pedido'])\n",
        "print(\"El beneficio promedio diario máximo es:\", max_result)"
      ],
      "metadata": {
        "colab": {
          "base_uri": "https://localhost:8080/"
        },
        "id": "26cYZaa3VMXe",
        "outputId": "4837c6cf-b2f8-4397-c3f9-ff2fb11a9db0"
      },
      "execution_count": null,
      "outputs": [
        {
          "output_type": "stream",
          "name": "stdout",
          "text": [
            "El pedido de periódicos que optimiza el beneficio es: 40\n",
            "El beneficio promedio diario máximo es: 3.681318681318681\n"
          ]
        }
      ]
    },
    {
      "cell_type": "markdown",
      "source": [
        "Y se obtiene que el numero de periodicos que optimiza el beneficio es de 40 periodicos, si el codigo se corre en mayor cantidad de veces, podemos notar que siempre esta en $\\pm 2$ periodicos, sin embargo recordemos que nuestro problema inicial nos da como punto de partida unicamente los siguientes valores:  **params = {'pedido': [30,40,50,60,70]}**, por ende, tomaremos que son 40 periodicos, los que Maximizan de manera optima nuestro beneficio.\n",
        "\n",
        "Por lo que no es necesario ejecutar una cantidad $n$, de veces esta simulación, ya que si lo corremos de manera manual un par de veces, se nota y es suficiente, pues siempre tenemos el mismo valor o agluno demasiado cercano."
      ],
      "metadata": {
        "id": "G83S-hMhV0EP"
      }
    }
  ]
}